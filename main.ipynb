{
 "cells": [
  {
   "cell_type": "markdown",
   "source": [
    "# ADM - HW5 - The Marvel Universe!"
   ],
   "metadata": {
    "collapsed": false
   }
  },
  {
   "cell_type": "markdown",
   "source": [
    "## Libraries & Setup"
   ],
   "metadata": {
    "collapsed": false
   }
  },
  {
   "cell_type": "code",
   "execution_count": 2,
   "outputs": [],
   "source": [
    "import networkx as nx   # Network analysis\n",
    "\n",
    "import pandas as pd   # Data manipulation and analysis\n",
    "import numpy as np    # Scientific Computing\n",
    "\n",
    "import matplotlib.pyplot as plt   # Visualization\n",
    "\n",
    "import warnings\n",
    "warnings.filterwarnings('ignore')\n",
    "\n",
    "#import functions"
   ],
   "metadata": {
    "collapsed": false
   }
  },
  {
   "cell_type": "markdown",
   "source": [
    "# 1. Data"
   ],
   "metadata": {
    "collapsed": false
   }
  },
  {
   "cell_type": "markdown",
   "source": [
    "## Data Preprocessing"
   ],
   "metadata": {
    "collapsed": false
   }
  },
  {
   "cell_type": "code",
   "execution_count": 3,
   "outputs": [],
   "source": [
    "nodes_df = pd.read_csv(\"nodes.csv\")\n",
    "edges_df = pd.read_csv(\"edges.csv\")\n",
    "hero_network_df = pd.read_csv(\"hero-network.csv\")"
   ],
   "metadata": {
    "collapsed": false
   }
  },
  {
   "cell_type": "code",
   "execution_count": 4,
   "outputs": [
    {
     "data": {
      "text/plain": "                       node   type\n0                   2001 10  comic\n1                    2001 8  comic\n2                    2001 9  comic\n3      24-HOUR MAN/EMMANUEL   hero\n4      3-D MAN/CHARLES CHAN   hero\n...                     ...    ...\n19085           ZOTA, CARLO   hero\n19086                  ZOTA   hero\n19087                 ZURAS   hero\n19088                  ZURI   hero\n19089                 ZZZAX   hero\n\n[19090 rows x 2 columns]",
      "text/html": "<div>\n<style scoped>\n    .dataframe tbody tr th:only-of-type {\n        vertical-align: middle;\n    }\n\n    .dataframe tbody tr th {\n        vertical-align: top;\n    }\n\n    .dataframe thead th {\n        text-align: right;\n    }\n</style>\n<table border=\"1\" class=\"dataframe\">\n  <thead>\n    <tr style=\"text-align: right;\">\n      <th></th>\n      <th>node</th>\n      <th>type</th>\n    </tr>\n  </thead>\n  <tbody>\n    <tr>\n      <th>0</th>\n      <td>2001 10</td>\n      <td>comic</td>\n    </tr>\n    <tr>\n      <th>1</th>\n      <td>2001 8</td>\n      <td>comic</td>\n    </tr>\n    <tr>\n      <th>2</th>\n      <td>2001 9</td>\n      <td>comic</td>\n    </tr>\n    <tr>\n      <th>3</th>\n      <td>24-HOUR MAN/EMMANUEL</td>\n      <td>hero</td>\n    </tr>\n    <tr>\n      <th>4</th>\n      <td>3-D MAN/CHARLES CHAN</td>\n      <td>hero</td>\n    </tr>\n    <tr>\n      <th>...</th>\n      <td>...</td>\n      <td>...</td>\n    </tr>\n    <tr>\n      <th>19085</th>\n      <td>ZOTA, CARLO</td>\n      <td>hero</td>\n    </tr>\n    <tr>\n      <th>19086</th>\n      <td>ZOTA</td>\n      <td>hero</td>\n    </tr>\n    <tr>\n      <th>19087</th>\n      <td>ZURAS</td>\n      <td>hero</td>\n    </tr>\n    <tr>\n      <th>19088</th>\n      <td>ZURI</td>\n      <td>hero</td>\n    </tr>\n    <tr>\n      <th>19089</th>\n      <td>ZZZAX</td>\n      <td>hero</td>\n    </tr>\n  </tbody>\n</table>\n<p>19090 rows × 2 columns</p>\n</div>"
     },
     "execution_count": 4,
     "metadata": {},
     "output_type": "execute_result"
    }
   ],
   "source": [
    "nodes_df"
   ],
   "metadata": {
    "collapsed": false
   }
  },
  {
   "cell_type": "code",
   "execution_count": 5,
   "outputs": [
    {
     "data": {
      "text/plain": "                       hero     comic\n0      24-HOUR MAN/EMMANUEL    AA2 35\n1      3-D MAN/CHARLES CHAN     AVF 4\n2      3-D MAN/CHARLES CHAN     AVF 5\n3      3-D MAN/CHARLES CHAN     COC 1\n4      3-D MAN/CHARLES CHAN    H2 251\n...                     ...       ...\n96099                 ZZZAX    H2 326\n96100                 ZZZAX    H2 327\n96101                 ZZZAX  M/CP 8/4\n96102                 ZZZAX     PM 47\n96103                 ZZZAX   WCA2 12\n\n[96104 rows x 2 columns]",
      "text/html": "<div>\n<style scoped>\n    .dataframe tbody tr th:only-of-type {\n        vertical-align: middle;\n    }\n\n    .dataframe tbody tr th {\n        vertical-align: top;\n    }\n\n    .dataframe thead th {\n        text-align: right;\n    }\n</style>\n<table border=\"1\" class=\"dataframe\">\n  <thead>\n    <tr style=\"text-align: right;\">\n      <th></th>\n      <th>hero</th>\n      <th>comic</th>\n    </tr>\n  </thead>\n  <tbody>\n    <tr>\n      <th>0</th>\n      <td>24-HOUR MAN/EMMANUEL</td>\n      <td>AA2 35</td>\n    </tr>\n    <tr>\n      <th>1</th>\n      <td>3-D MAN/CHARLES CHAN</td>\n      <td>AVF 4</td>\n    </tr>\n    <tr>\n      <th>2</th>\n      <td>3-D MAN/CHARLES CHAN</td>\n      <td>AVF 5</td>\n    </tr>\n    <tr>\n      <th>3</th>\n      <td>3-D MAN/CHARLES CHAN</td>\n      <td>COC 1</td>\n    </tr>\n    <tr>\n      <th>4</th>\n      <td>3-D MAN/CHARLES CHAN</td>\n      <td>H2 251</td>\n    </tr>\n    <tr>\n      <th>...</th>\n      <td>...</td>\n      <td>...</td>\n    </tr>\n    <tr>\n      <th>96099</th>\n      <td>ZZZAX</td>\n      <td>H2 326</td>\n    </tr>\n    <tr>\n      <th>96100</th>\n      <td>ZZZAX</td>\n      <td>H2 327</td>\n    </tr>\n    <tr>\n      <th>96101</th>\n      <td>ZZZAX</td>\n      <td>M/CP 8/4</td>\n    </tr>\n    <tr>\n      <th>96102</th>\n      <td>ZZZAX</td>\n      <td>PM 47</td>\n    </tr>\n    <tr>\n      <th>96103</th>\n      <td>ZZZAX</td>\n      <td>WCA2 12</td>\n    </tr>\n  </tbody>\n</table>\n<p>96104 rows × 2 columns</p>\n</div>"
     },
     "execution_count": 5,
     "metadata": {},
     "output_type": "execute_result"
    }
   ],
   "source": [
    "edges_df"
   ],
   "metadata": {
    "collapsed": false
   }
  },
  {
   "cell_type": "code",
   "execution_count": 6,
   "outputs": [
    {
     "data": {
      "text/plain": "                       hero1                 hero2\n0              LITTLE, ABNER        PRINCESS ZANDA\n1              LITTLE, ABNER  BLACK PANTHER/T'CHAL\n2       BLACK PANTHER/T'CHAL        PRINCESS ZANDA\n3              LITTLE, ABNER        PRINCESS ZANDA\n4              LITTLE, ABNER  BLACK PANTHER/T'CHAL\n...                      ...                   ...\n574462  COLOSSUS II/PETER RA              CALLISTO\n574463              CALLISTO               ROGUE /\n574464              CALLISTO              CALIBAN/\n574465              CALIBAN/               ROGUE /\n574466  HULK/DR. ROBERT BRUC     MARKS, DR. SHIELA\n\n[574467 rows x 2 columns]",
      "text/html": "<div>\n<style scoped>\n    .dataframe tbody tr th:only-of-type {\n        vertical-align: middle;\n    }\n\n    .dataframe tbody tr th {\n        vertical-align: top;\n    }\n\n    .dataframe thead th {\n        text-align: right;\n    }\n</style>\n<table border=\"1\" class=\"dataframe\">\n  <thead>\n    <tr style=\"text-align: right;\">\n      <th></th>\n      <th>hero1</th>\n      <th>hero2</th>\n    </tr>\n  </thead>\n  <tbody>\n    <tr>\n      <th>0</th>\n      <td>LITTLE, ABNER</td>\n      <td>PRINCESS ZANDA</td>\n    </tr>\n    <tr>\n      <th>1</th>\n      <td>LITTLE, ABNER</td>\n      <td>BLACK PANTHER/T'CHAL</td>\n    </tr>\n    <tr>\n      <th>2</th>\n      <td>BLACK PANTHER/T'CHAL</td>\n      <td>PRINCESS ZANDA</td>\n    </tr>\n    <tr>\n      <th>3</th>\n      <td>LITTLE, ABNER</td>\n      <td>PRINCESS ZANDA</td>\n    </tr>\n    <tr>\n      <th>4</th>\n      <td>LITTLE, ABNER</td>\n      <td>BLACK PANTHER/T'CHAL</td>\n    </tr>\n    <tr>\n      <th>...</th>\n      <td>...</td>\n      <td>...</td>\n    </tr>\n    <tr>\n      <th>574462</th>\n      <td>COLOSSUS II/PETER RA</td>\n      <td>CALLISTO</td>\n    </tr>\n    <tr>\n      <th>574463</th>\n      <td>CALLISTO</td>\n      <td>ROGUE /</td>\n    </tr>\n    <tr>\n      <th>574464</th>\n      <td>CALLISTO</td>\n      <td>CALIBAN/</td>\n    </tr>\n    <tr>\n      <th>574465</th>\n      <td>CALIBAN/</td>\n      <td>ROGUE /</td>\n    </tr>\n    <tr>\n      <th>574466</th>\n      <td>HULK/DR. ROBERT BRUC</td>\n      <td>MARKS, DR. SHIELA</td>\n    </tr>\n  </tbody>\n</table>\n<p>574467 rows × 2 columns</p>\n</div>"
     },
     "execution_count": 6,
     "metadata": {},
     "output_type": "execute_result"
    }
   ],
   "source": [
    "hero_network_df"
   ],
   "metadata": {
    "collapsed": false
   }
  },
  {
   "cell_type": "markdown",
   "source": [
    "For the data to be *consistent* across all the dataframes, **all hero names** appearing in the *hero_network* dataframe should **also be found** in the *edges* dataframe"
   ],
   "metadata": {
    "collapsed": false
   }
  },
  {
   "cell_type": "code",
   "execution_count": 7,
   "outputs": [],
   "source": [
    "# Retrieve heroes' names appearing in \"hero_network\" dataframe, but not in \"edges\" dataframe\n",
    "def check_inconsistency():\n",
    "    names = set(hero_network_df.hero1).union(set(hero_network_df.hero2)).difference(set(edges_df.hero))\n",
    "    out = names if len(names)!=0 else \"No inconsistencies found!\"\n",
    "    return out"
   ],
   "metadata": {
    "collapsed": false
   }
  },
  {
   "cell_type": "code",
   "execution_count": 8,
   "outputs": [
    {
     "data": {
      "text/plain": "{'AGAMEMNON II/ANDREI ',\n 'ANDROMEDA/ANDROMEDA ',\n 'ANGELOPOULOS, ANGEL ',\n 'APE MAN/GORDON MONK ',\n 'APOCALYPSE | MUTANT ',\n 'APOCALYPSE/EN SABAH ',\n 'ARMBRUSTER, COLONEL ',\n 'AUGUST PERSONAGE IN ',\n 'AURORA/JEANNE-MARIE ',\n 'BATTLEAXE II/JEROME ',\n 'BEETLE/ABNER RONALD ',\n 'BLACK AVENGER/JERRY ',\n 'BLACK BOLT | MUTANT ',\n 'BLACK FOX/ROBERT W. ',\n 'BLACK KNIGHT II/SIR ',\n 'BLACK KNIGHT V/DANE ',\n 'BLACK TALON/DESMOND ',\n 'BLACK WIDOW/NATASHA ',\n 'BLADE',\n 'BLOODSTORM | MUTANT ',\n 'BRADDOCK, JAMES JR. ',\n 'BRUTE/REED RICHARDS ',\n 'BUCHETTO, SALVATORE ',\n 'CEREBRO MARK XIII | ',\n 'CHI DEMON/PROFESSOR ',\n 'CITIZEN V II/HELMUT ',\n 'CITYDWELLER/JERRY | ',\n \"COAL TIGER/T'CHALLA \",\n 'COPPERHEAD/LAWRENCE ',\n 'CORRIGAN, ARCHIBALD ',\n 'COY, GENERAL NGUYEN ',\n 'DARKOVER, PROFESSOR ',\n 'DEATH STING/MIRANDA ',\n 'DEVERAUX, INSPECTOR ',\n 'DIAMOND LIL/LILLIAN ',\n 'DOC SAMSON | MUTANT ',\n 'DR. DOOM/VICTOR VON ',\n 'DR. SPECTRUM II/DR. ',\n 'DR. SPECTRUM/JOSEPH ',\n 'DR. STRANGE/STEPHEN ',\n 'EDWARDS, MARTIN/DR. ',\n 'ERISHKIGEL II/HOLLY ',\n 'FIREFALL III/ARCHIE ',\n 'FIREWALL/THEARY/MIN ',\n 'FOOLKILLER III/KURT ',\n 'FURY, COL. NICHOLAS ',\n 'FURY, NICK | MUTANT ',\n 'GAMBIT DOPPELGANGER ',\n 'GAMBIT/REMY LEBEAU ',\n 'GARDENER/ORD ZYONYZ ',\n 'GHOST RIDER III/DAN ',\n 'GREEN GOBLIN/NORMAN ',\n 'GREY, JEAN | MUTANT ',\n 'GRIMM, BEN | MUTANT ',\n 'GRIZZLY II/THEODORE ',\n 'GYRICH, HENRY PETER ',\n 'HAVOK/ALEX SUMMERS ',\n 'HOBGOBLIN III/LEFTY ',\n 'ICEMAN/ROBERT BOBBY ',\n 'INVISIBLE WOMAN/SUE ',\n 'IRON MAN/TONY STARK ',\n 'JACK OF HEARTS/JACK ',\n 'JAMESON, COL. JOHN ',\n 'JARVIS, EDWIN ',\n 'JEFFRIES, MAGGIE ',\n 'JUGGERNAUT | MUTANT ',\n 'KILGREW, BASIL BETA ',\n 'KILLER SHRIKE/SIMON ',\n 'KLIGGER/SEN. EUGENE ',\n 'LECLAIRE, PROFESSOR ',\n 'LEVIATHAN II/EDWARD ',\n 'LIVING LASER/ARTHUR ',\n 'MACTAGGART, MOIRA | ',\n 'MADDICKS, PROFESSOR ',\n 'MAGNETO/MAGNUS/ERIC ',\n 'MAN-SPIDER | MUTANT ',\n 'MANIKIN/DR. WHITMAN ',\n 'MANN, DR. J. VERNON ',\n 'MARROW/SARAH ',\n 'MARTINELLI, VINCENT ',\n 'MISSING LINK II/RAY ',\n 'MODULAR MAN/STEPHEN ',\n 'MORBIUS/DR. MICHAEL ',\n 'MORNING STAR/ZVEZDA ',\n 'MR. JUSTICE/TIMOTHY ',\n 'MR. SINISTER/NATHAN ',\n 'NALES, DET. REBECCA ',\n 'NORTHSTAR/JEAN-PAUL ',\n 'OUTRIDER/OCLIN UWIR ',\n 'PAINTER/WILHELM VON ',\n 'PESTILENCE | MUTANT ',\n 'PILEDRIVER II/BRIAN ',\n 'PINKERTON, PERCIVAL ',\n 'POWERSURGE/ILLARION ',\n 'PROFESSOR ANGST/DR. ',\n 'PROFESSOR X | EARTH ',\n 'PROFESSOR X/CHARLES ',\n 'PURPLE MAN/ZEBEDIAH ',\n 'QUASAR DOPPELGANGER ',\n 'RADIOACTIVE MAN/DR. ',\n 'RAPTOR II/PROFESSOR ',\n 'RAYMOND, HENRY/ADAM ',\n 'RED SKULL II/ALBERT ',\n 'RICHARDS, FRANKLINK ',\n 'RIGHT-WINGER/JEROME ',\n 'RINGER/ANTHONY TONY ',\n 'RITTER, DEBORAH ',\n 'ROCKET RACER/ROBERT ',\n 'ROOSEVELT, FRANKLIN ',\n 'ROSS, GEN. THADDEUS ',\n 'ROSSI, COL. MICHAEL ',\n 'SABRE',\n 'SABRETOOTH | MUTANT ',\n 'SCARLET WITCH/WANDA ',\n 'SENSATIONAL HYDRA/A ',\n 'SHADOWCAT/KATHERINE ',\n 'SHOCKWAVE/LANCASTER ',\n 'SHORT CIRCUIT/HENRY ',\n 'SILVERCLAW/LA GARRA ',\n 'SNOWBIRD/NARYA/ANNE ',\n 'SPAR, DR. KATHERINE ',\n 'SPIDER-MAN/PETER PAR',\n 'SPOOR/ANDREW HAMISH ',\n 'STARSHINE II/BRANDY ',\n 'STINGRAY/DR. WALTER ',\n 'STRONG GUY | MUTANT ',\n 'STUNT-MASTER/GEORGE ',\n 'TRITON DOPPELGANGER ',\n 'TUMBLER/JOHN ROBERT ',\n 'UNION JACK II/BRIAN ',\n 'UNION JACK III/JOEY ',\n 'VISION ',\n 'VISION DOPPELGANGER ',\n 'WAGNER, ERNIE WHACK ',\n 'WAR/ABRAHAM LINCOLN ',\n 'WARRIOR WOMAN/JULIA ',\n 'WASP/JANET VAN DYNE ',\n 'WATSON-PARKER, MARY ',\n 'WILD CHILD | MUTANT ',\n 'WIND-WARRIOR/PAMELA ',\n 'WOLVERINE/LOGAN ',\n 'WORTHINGTON, WARREN ',\n 'X-MAN/NATHAN GREY ',\n 'ZEMO/BARON HEINRICH '}"
     },
     "execution_count": 8,
     "metadata": {},
     "output_type": "execute_result"
    }
   ],
   "source": [
    "check_inconsistency()"
   ],
   "metadata": {
    "collapsed": false
   }
  },
  {
   "cell_type": "markdown",
   "source": [
    "**Inconsistency reason 1:** some heroes' names in the *hero_network* dataframe have **extra spaces** at the end of their names"
   ],
   "metadata": {
    "collapsed": false
   }
  },
  {
   "cell_type": "code",
   "execution_count": 9,
   "outputs": [],
   "source": [
    "hero_network_df.hero1 = [x.strip() for x in hero_network_df.hero1]\n",
    "hero_network_df.hero2 = [x.strip() for x in hero_network_df.hero2]"
   ],
   "metadata": {
    "collapsed": false
   }
  },
  {
   "cell_type": "code",
   "execution_count": 10,
   "outputs": [
    {
     "data": {
      "text/plain": "{'BLADE', 'SABRE', 'SPIDER-MAN/PETER PAR'}"
     },
     "execution_count": 10,
     "metadata": {},
     "output_type": "execute_result"
    }
   ],
   "source": [
    "check_inconsistency()"
   ],
   "metadata": {
    "collapsed": false
   }
  },
  {
   "cell_type": "markdown",
   "source": [
    "**Inconsistency reason 2:** some heroes in the *hero_network* dataframe **are missing a \"/\"** at the end of their names. In fact, *BLADE* and *SABRE* are labelled as **comics** in the *nodes* dataframe, while *BLADE/* and *SABRE/* represent the actual **heroes**"
   ],
   "metadata": {
    "collapsed": false
   }
  },
  {
   "cell_type": "code",
   "execution_count": 11,
   "outputs": [],
   "source": [
    "hero_network_df.loc[hero_network_df[\"hero1\"] == \"BLADE\", \"hero1\"] = \"BLADE/\"\n",
    "hero_network_df.loc[hero_network_df[\"hero2\"] == \"BLADE\", \"hero2\"] = \"BLADE/\"\n",
    "hero_network_df.loc[hero_network_df[\"hero1\"] == \"SABRE\", \"hero1\"] = \"SABRE/\"\n",
    "hero_network_df.loc[hero_network_df[\"hero2\"] == \"SABRE\", \"hero2\"] = \"SABRE/\""
   ],
   "metadata": {
    "collapsed": false
   }
  },
  {
   "cell_type": "code",
   "execution_count": 12,
   "outputs": [
    {
     "data": {
      "text/plain": "{'SPIDER-MAN/PETER PAR'}"
     },
     "execution_count": 12,
     "metadata": {},
     "output_type": "execute_result"
    }
   ],
   "source": [
    "check_inconsistency()"
   ],
   "metadata": {
    "collapsed": false
   }
  },
  {
   "cell_type": "markdown",
   "source": [
    "**Inconsistency reason 3:** the hero name *\"SPIDER-MAN/PETER PARKER\"* in the *edges* dataframe has been changed to *\"SPIDER-MAN/PETER PAR\"* the *hero_network* dataframe"
   ],
   "metadata": {
    "collapsed": false
   }
  },
  {
   "cell_type": "code",
   "execution_count": 13,
   "outputs": [],
   "source": [
    "hero_network_df.loc[hero_network_df[\"hero1\"] == \"SPIDER-MAN/PETER PAR\", \"hero1\"] = \"SPIDER-MAN/PETER PARKER\"\n",
    "hero_network_df.loc[hero_network_df[\"hero2\"] == \"SPIDER-MAN/PETER PAR\", \"hero2\"] = \"SPIDER-MAN/PETER PARKER\""
   ],
   "metadata": {
    "collapsed": false
   }
  },
  {
   "cell_type": "code",
   "execution_count": 14,
   "outputs": [
    {
     "data": {
      "text/plain": "                       hero1                 hero2\n0              LITTLE, ABNER        PRINCESS ZANDA\n1              LITTLE, ABNER  BLACK PANTHER/T'CHAL\n2       BLACK PANTHER/T'CHAL        PRINCESS ZANDA\n3              LITTLE, ABNER        PRINCESS ZANDA\n4              LITTLE, ABNER  BLACK PANTHER/T'CHAL\n...                      ...                   ...\n574462  COLOSSUS II/PETER RA              CALLISTO\n574463              CALLISTO               ROGUE /\n574464              CALLISTO              CALIBAN/\n574465              CALIBAN/               ROGUE /\n574466  HULK/DR. ROBERT BRUC     MARKS, DR. SHIELA\n\n[574467 rows x 2 columns]",
      "text/html": "<div>\n<style scoped>\n    .dataframe tbody tr th:only-of-type {\n        vertical-align: middle;\n    }\n\n    .dataframe tbody tr th {\n        vertical-align: top;\n    }\n\n    .dataframe thead th {\n        text-align: right;\n    }\n</style>\n<table border=\"1\" class=\"dataframe\">\n  <thead>\n    <tr style=\"text-align: right;\">\n      <th></th>\n      <th>hero1</th>\n      <th>hero2</th>\n    </tr>\n  </thead>\n  <tbody>\n    <tr>\n      <th>0</th>\n      <td>LITTLE, ABNER</td>\n      <td>PRINCESS ZANDA</td>\n    </tr>\n    <tr>\n      <th>1</th>\n      <td>LITTLE, ABNER</td>\n      <td>BLACK PANTHER/T'CHAL</td>\n    </tr>\n    <tr>\n      <th>2</th>\n      <td>BLACK PANTHER/T'CHAL</td>\n      <td>PRINCESS ZANDA</td>\n    </tr>\n    <tr>\n      <th>3</th>\n      <td>LITTLE, ABNER</td>\n      <td>PRINCESS ZANDA</td>\n    </tr>\n    <tr>\n      <th>4</th>\n      <td>LITTLE, ABNER</td>\n      <td>BLACK PANTHER/T'CHAL</td>\n    </tr>\n    <tr>\n      <th>...</th>\n      <td>...</td>\n      <td>...</td>\n    </tr>\n    <tr>\n      <th>574462</th>\n      <td>COLOSSUS II/PETER RA</td>\n      <td>CALLISTO</td>\n    </tr>\n    <tr>\n      <th>574463</th>\n      <td>CALLISTO</td>\n      <td>ROGUE /</td>\n    </tr>\n    <tr>\n      <th>574464</th>\n      <td>CALLISTO</td>\n      <td>CALIBAN/</td>\n    </tr>\n    <tr>\n      <th>574465</th>\n      <td>CALIBAN/</td>\n      <td>ROGUE /</td>\n    </tr>\n    <tr>\n      <th>574466</th>\n      <td>HULK/DR. ROBERT BRUC</td>\n      <td>MARKS, DR. SHIELA</td>\n    </tr>\n  </tbody>\n</table>\n<p>574467 rows × 2 columns</p>\n</div>"
     },
     "execution_count": 14,
     "metadata": {},
     "output_type": "execute_result"
    }
   ],
   "source": [
    "hero_network_df"
   ],
   "metadata": {
    "collapsed": false
   }
  },
  {
   "cell_type": "code",
   "execution_count": 15,
   "outputs": [
    {
     "data": {
      "text/plain": "'No inconsistencies found!'"
     },
     "execution_count": 15,
     "metadata": {},
     "output_type": "execute_result"
    }
   ],
   "source": [
    "check_inconsistency()"
   ],
   "metadata": {
    "collapsed": false
   }
  },
  {
   "cell_type": "markdown",
   "source": [
    "We also remove entries of the *hero_network* dataframe having the same hero in **both columns** (in order to avoid **self-loops** in the graph)"
   ],
   "metadata": {
    "collapsed": false
   }
  },
  {
   "cell_type": "code",
   "execution_count": 16,
   "outputs": [
    {
     "data": {
      "text/plain": "574467"
     },
     "execution_count": 16,
     "metadata": {},
     "output_type": "execute_result"
    }
   ],
   "source": [
    "# With self-loop records\n",
    "len(hero_network_df)"
   ],
   "metadata": {
    "collapsed": false
   }
  },
  {
   "cell_type": "code",
   "execution_count": 17,
   "outputs": [],
   "source": [
    "hero_network_df.drop(hero_network_df[hero_network_df['hero1'] == hero_network_df['hero2']].index, inplace = True)"
   ],
   "metadata": {
    "collapsed": false
   }
  },
  {
   "cell_type": "code",
   "execution_count": 18,
   "outputs": [
    {
     "data": {
      "text/plain": "572235"
     },
     "execution_count": 18,
     "metadata": {},
     "output_type": "execute_result"
    }
   ],
   "source": [
    "# Without self-loop records\n",
    "len(hero_network_df)"
   ],
   "metadata": {
    "collapsed": false
   }
  },
  {
   "cell_type": "markdown",
   "source": [
    "Finally, we identify and correct the **spelling mistake** in the hero name *\"SPIDER-MAN/PETER PARKER\"* present in the *nodes* dataframe (listed as *\"SPIDER-MAN/PETER PARKERKER\"*)"
   ],
   "metadata": {
    "collapsed": false
   }
  },
  {
   "cell_type": "code",
   "execution_count": 19,
   "outputs": [],
   "source": [
    "nodes_df.loc[nodes_df[\"node\"] == \"SPIDER-MAN/PETER PARKERKER\", \"node\"] = \"SPIDER-MAN/PETER PARKER\""
   ],
   "metadata": {
    "collapsed": false
   }
  },
  {
   "cell_type": "markdown",
   "source": [
    "## Graphs setup"
   ],
   "metadata": {
    "collapsed": false
   }
  },
  {
   "cell_type": "markdown",
   "source": [
    "### First graph: G1 - Heroes appearing in the same comic together"
   ],
   "metadata": {
    "collapsed": false
   }
  },
  {
   "cell_type": "markdown",
   "source": [
    "The graph **G1** should be **undirected**, **weighted** and should allow for **parallel edges**.\n",
    "\n",
    "**Nodes**: *heroes*\n",
    "**Edge** between node *Hero_A* and *Hero_B*: the heroes have appeared in the same comic together\n",
    "**Number of edges** between node *Hero_A* and *Hero_B* = $num\\_collaborations$ of the two heroes\n",
    "**Edge weight**: the *reciprocal* of the *number of collaborations* of the two heroes\n",
    "\n",
    "$$w((Hero\\_A, Hero\\_B)) = \\frac{1}{num\\_collaborations \\; of \\; Hero\\_A \\; and \\; Hero\\_B}$$"
   ],
   "metadata": {
    "collapsed": false
   }
  },
  {
   "cell_type": "code",
   "execution_count": 20,
   "outputs": [],
   "source": [
    "# NetworkX MultiGraph: undirected graph, can store multiedges\n",
    "G1 = nx.MultiGraph()"
   ],
   "metadata": {
    "collapsed": false
   }
  },
  {
   "cell_type": "code",
   "execution_count": 21,
   "outputs": [
    {
     "data": {
      "text/plain": "[['24-HOUR MAN/EMMANUEL', 'FROST, CARMILLA', 1],\n ['24-HOUR MAN/EMMANUEL', \"G'RATH\", 1],\n ['24-HOUR MAN/EMMANUEL', 'KILLRAVEN/JONATHAN R', 1],\n ['24-HOUR MAN/EMMANUEL', \"M'SHULLA\", 1],\n ['24-HOUR MAN/EMMANUEL', 'OLD SKULL', 1],\n ['3-D MAN/CHARLES CHAN', 'AJAK/TECUMOTZIN [ETE', 1],\n ['3-D MAN/CHARLES CHAN', 'ANGEL/WARREN KENNETH', 1],\n ['3-D MAN/CHARLES CHAN', 'ANT-MAN II/SCOTT HAR', 1],\n ['3-D MAN/CHARLES CHAN', 'ANT-MAN/DR. HENRY J.', 2],\n ['3-D MAN/CHARLES CHAN', 'ARABIAN KNIGHT/ABDUL', 1],\n ['3-D MAN/CHARLES CHAN', 'AURORA/JEANNE-MARIE', 1],\n ['3-D MAN/CHARLES CHAN', 'BANNER, BETTY ROSS T', 2],\n ['3-D MAN/CHARLES CHAN', 'BEAST/HENRY &HANK& P', 1],\n ['3-D MAN/CHARLES CHAN', 'BLACK BOLT/BLACKANTO', 1],\n ['3-D MAN/CHARLES CHAN', 'BLACK KNIGHT V/DANE', 1],\n ['3-D MAN/CHARLES CHAN', \"BLACK PANTHER/T'CHAL\", 1],\n ['3-D MAN/CHARLES CHAN', 'BLACK WIDOW/NATASHA', 1],\n ['3-D MAN/CHARLES CHAN', 'BLITZKRIEG/', 1],\n ['3-D MAN/CHARLES CHAN', 'BROTHER VOODOO/DANIE', 1],\n ['3-D MAN/CHARLES CHAN', 'CAGE, LUKE/CARL LUCA', 1],\n ['3-D MAN/CHARLES CHAN', 'CAPTAIN AMERICA', 3],\n ['3-D MAN/CHARLES CHAN', 'CAPTAIN BRITAIN/BRIA', 1],\n ['3-D MAN/CHARLES CHAN', 'COLLECTIVE MAN', 1],\n ['3-D MAN/CHARLES CHAN', 'COLOSSUS II/PETER RA', 1],\n ['3-D MAN/CHARLES CHAN', 'CRIMSON DYNAMO V/DIM', 1],\n ['3-D MAN/CHARLES CHAN', 'CRYSTAL [INHUMAN]', 1],\n ['3-D MAN/CHARLES CHAN', 'CYCLOPS/SCOTT SUMMER', 1],\n ['3-D MAN/CHARLES CHAN', 'DAREDEVIL/MATT MURDO', 1],\n ['3-D MAN/CHARLES CHAN', 'DARKSTAR/LAYNIA SERG', 1],\n ['3-D MAN/CHARLES CHAN', 'DAZZLER II/ALLISON B', 1],\n ['3-D MAN/CHARLES CHAN', 'DEFENSOR', 1],\n ['3-D MAN/CHARLES CHAN', 'DEVIL-SLAYER/ERIC SI', 1],\n ['3-D MAN/CHARLES CHAN', 'DOC SAMSON/DR. LEONA', 3],\n ['3-D MAN/CHARLES CHAN', 'DR. DRUID/ANTHONY LU', 1],\n ['3-D MAN/CHARLES CHAN', 'DR. STRANGE/STEPHEN', 1],\n ['3-D MAN/CHARLES CHAN', 'DRUMM, JERICHO', 1],\n ['3-D MAN/CHARLES CHAN', 'FALCON/SAM WILSON', 1],\n ['3-D MAN/CHARLES CHAN', 'GARGOYLE II/ISAAC CH', 1],\n ['3-D MAN/CHARLES CHAN', 'GORGON [INHUMAN]', 1],\n ['3-D MAN/CHARLES CHAN', 'GORILLA-MAN', 3],\n ['3-D MAN/CHARLES CHAN', 'GRANDMASTER/EN DWI G', 1],\n ['3-D MAN/CHARLES CHAN', 'GUARDIAN/JAMES MACDO', 1],\n ['3-D MAN/CHARLES CHAN', 'GYPSY MOTH', 1],\n ['3-D MAN/CHARLES CHAN', 'HAVOK/ALEX SUMMERS', 1],\n ['3-D MAN/CHARLES CHAN', 'HAWK', 3],\n ['3-D MAN/CHARLES CHAN', 'HELLCAT/PATSY WALKER', 1],\n ['3-D MAN/CHARLES CHAN', 'HELLSTORM/DAIMON HEL', 1],\n ['3-D MAN/CHARLES CHAN', 'HERCULES [GREEK GOD]', 1],\n ['3-D MAN/CHARLES CHAN', 'HULK/DR. ROBERT BRUC', 3],\n ['3-D MAN/CHARLES CHAN', 'HUMAN ROBOT', 3],\n ['3-D MAN/CHARLES CHAN', 'HUMAN TORCH/JOHNNY S', 1],\n ['3-D MAN/CHARLES CHAN', 'ICEMAN/ROBERT BOBBY', 1],\n ['3-D MAN/CHARLES CHAN', 'IGOR', 1],\n ['3-D MAN/CHARLES CHAN', 'IKARIS/IKE HARRIS [E', 1],\n ['3-D MAN/CHARLES CHAN', 'INVISIBLE WOMAN/SUE', 1],\n ['3-D MAN/CHARLES CHAN', 'IRON FIST/DANIEL RAN', 1],\n ['3-D MAN/CHARLES CHAN', 'IRON MAN/TONY STARK', 1],\n ['3-D MAN/CHARLES CHAN', 'JACK OF HEARTS/JACK', 1],\n ['3-D MAN/CHARLES CHAN', 'JOCASTA', 1],\n ['3-D MAN/CHARLES CHAN', 'JONES, RICHARD MILHO', 4],\n ['3-D MAN/CHARLES CHAN', 'KA-ZAR/KEVIN PLUNDER', 1],\n ['3-D MAN/CHARLES CHAN', 'KARNAK [INHUMAN]', 1],\n ['3-D MAN/CHARLES CHAN', 'LIBRA/GUSTAV BRANDT', 1],\n ['3-D MAN/CHARLES CHAN', 'LIVING MUMMY', 1],\n ['3-D MAN/CHARLES CHAN', 'LOBO', 1],\n ['3-D MAN/CHARLES CHAN', 'LOCKJAW [INHUMAN]', 1],\n ['3-D MAN/CHARLES CHAN', 'MACHINE MAN/X-51', 1],\n ['3-D MAN/CHARLES CHAN', 'MARVEL BOY III/ROBER', 3],\n ['3-D MAN/CHARLES CHAN', 'MEDUSA/MEDUSALITH AM', 1],\n ['3-D MAN/CHARLES CHAN', 'MIKHLO', 1],\n ['3-D MAN/CHARLES CHAN', 'MOCKINGBIRD/DR. BARB', 1],\n ['3-D MAN/CHARLES CHAN', 'MOON KNIGHT/MARC SPE', 1],\n ['3-D MAN/CHARLES CHAN', 'MOONDRAGON/HEATHER D', 1],\n ['3-D MAN/CHARLES CHAN', 'MR. FANTASTIC/REED R', 1],\n ['3-D MAN/CHARLES CHAN', 'NIGHTCRAWLER/KURT WA', 1],\n ['3-D MAN/CHARLES CHAN', 'NIGHTHAWK/KYLE RICHM', 1],\n ['3-D MAN/CHARLES CHAN', 'NORRISS, SISTER BARB', 1],\n ['3-D MAN/CHARLES CHAN', 'NORTHSTAR/JEAN-PAUL', 1],\n ['3-D MAN/CHARLES CHAN', \"O'BRIEN, MICHAEL\", 1],\n ['3-D MAN/CHARLES CHAN', 'PALADIN/PAUL DENNIS', 1],\n ['3-D MAN/CHARLES CHAN', 'PEATOR', 1],\n ['3-D MAN/CHARLES CHAN', 'PEREGRINE, LE/FRANCK', 1],\n ['3-D MAN/CHARLES CHAN', 'PHARAOH RAMA-TUT', 1],\n ['3-D MAN/CHARLES CHAN', 'PROFESSOR X/CHARLES', 1],\n ['3-D MAN/CHARLES CHAN', 'QUASAR III/WENDELL V', 1],\n ['3-D MAN/CHARLES CHAN', 'QUICKSILVER/PIETRO M', 1],\n ['3-D MAN/CHARLES CHAN', 'RED GHOST/IVAN KRAGO', 1],\n ['3-D MAN/CHARLES CHAN', 'RED WOLF III/WILL TA', 1],\n ['3-D MAN/CHARLES CHAN', 'REDWING', 1],\n ['3-D MAN/CHARLES CHAN', 'ROM, SPACEKNIGHT', 1],\n ['3-D MAN/CHARLES CHAN', 'ROSS, GEN. THADDEUS', 2],\n ['3-D MAN/CHARLES CHAN', 'SABRA/RUTH BAT-SERAP', 1],\n ['3-D MAN/CHARLES CHAN', 'SASQUATCH/WALTER LAN', 1],\n ['3-D MAN/CHARLES CHAN', 'SCARLET WITCH/WANDA', 1],\n ['3-D MAN/CHARLES CHAN', 'SERSI/SYLVIA', 1],\n ['3-D MAN/CHARLES CHAN', 'SHADOWCAT/KATHERINE', 1],\n ['3-D MAN/CHARLES CHAN', 'SHAMAN/MICHAEL TWOYO', 1],\n ['3-D MAN/CHARLES CHAN', 'SHAMROCK/MOLLY FITZG', 1],\n ['3-D MAN/CHARLES CHAN', \"SHANNA/SHANNA O'HARA\", 1],\n ['3-D MAN/CHARLES CHAN', 'SHE-HULK/JENNIFER WA', 1],\n ['3-D MAN/CHARLES CHAN', 'SHROUD/MAXIMILLIAN Q', 1],\n ['3-D MAN/CHARLES CHAN', 'SLOAN, FRED', 2],\n ['3-D MAN/CHARLES CHAN', 'SNOWBIRD/NARYA/ANNE', 1],\n ['3-D MAN/CHARLES CHAN', 'SPIDER-MAN/PETER PARKER', 1],\n ['3-D MAN/CHARLES CHAN', 'SPIDER-WOMAN/JESSICA', 1],\n ['3-D MAN/CHARLES CHAN', 'STINGRAY/DR. WALTER', 1],\n ['3-D MAN/CHARLES CHAN', 'STORM/ORORO MUNROE S', 1],\n ['3-D MAN/CHARLES CHAN', 'SUB-MARINER/NAMOR MA', 1],\n ['3-D MAN/CHARLES CHAN', 'SUNFIRE/SHIRO YOSHID', 1],\n ['3-D MAN/CHARLES CHAN', 'TALISMAN', 1],\n ['3-D MAN/CHARLES CHAN', 'TEXAS TWISTER/DREW D', 1],\n ['3-D MAN/CHARLES CHAN', 'THING/BENJAMIN J. GR', 1],\n ['3-D MAN/CHARLES CHAN', 'THOR/DR. DONALD BLAK', 1],\n ['3-D MAN/CHARLES CHAN', 'TIGRA/GREER NELSON', 1],\n ['3-D MAN/CHARLES CHAN', 'TORPEDO III/BROCK JO', 1],\n ['3-D MAN/CHARLES CHAN', 'TRITON', 1],\n ['3-D MAN/CHARLES CHAN', 'URSA MAJOR/MIKHAIL U', 1],\n ['3-D MAN/CHARLES CHAN', 'VALINOR', 1],\n ['3-D MAN/CHARLES CHAN', 'VANGUARD/NICOLAI KRY', 1],\n ['3-D MAN/CHARLES CHAN', 'VENUS II', 3],\n ['3-D MAN/CHARLES CHAN', 'VISION', 1],\n ['3-D MAN/CHARLES CHAN', 'WASP/JANET VAN DYNE', 3],\n ['3-D MAN/CHARLES CHAN', 'WEREWOLF BY NIGHT/JA', 1],\n ['3-D MAN/CHARLES CHAN', 'WHIZZER/ROBERT L. FR', 1],\n ['3-D MAN/CHARLES CHAN', 'WOLVERINE/LOGAN', 1],\n ['3-D MAN/CHARLES CHAN', 'WONDER MAN/SIMON WIL', 1],\n ['3-D MAN/CHARLES CHAN', 'WOODGOD', 2],\n ['4-D MAN/MERCURIO', 'ARCANNA/ARCANNA JONE', 2],\n ['4-D MAN/MERCURIO', 'AUSTIN, SUSAN', 1],\n ['4-D MAN/MERCURIO', 'BALDER [ASGARDIAN]', 2],\n ['4-D MAN/MERCURIO', 'BALLANTINE, KAYLA', 1],\n ['4-D MAN/MERCURIO', 'BEAST/HENRY &HANK& P', 1],\n ['4-D MAN/MERCURIO', 'BEAUTY', 1],\n ['4-D MAN/MERCURIO', 'BETA RAY BILL', 1],\n ['4-D MAN/MERCURIO', 'BI-BEAST II', 2],\n ['4-D MAN/MERCURIO', 'CAPTAIN AMERICA', 2],\n ['4-D MAN/MERCURIO', 'CAPTAIN MARVEL/CAPTA', 1],\n ['4-D MAN/MERCURIO', 'CHARM', 1],\n ['4-D MAN/MERCURIO', 'COBRA/KLAUS VORHEES', 1],\n ['4-D MAN/MERCURIO', 'DEMONSTAFF', 1],\n ['4-D MAN/MERCURIO', 'DIAMONDHEAD/DYKER', 1],\n ['4-D MAN/MERCURIO', 'DR. SPECTRUM/JOSEPH', 2],\n ['4-D MAN/MERCURIO', 'DRAGONFLY/VERONICA D', 2],\n ['4-D MAN/MERCURIO', 'EGO-PRIME', 1],\n ['4-D MAN/MERCURIO', 'EON', 1],\n ['4-D MAN/MERCURIO', 'EXECUTIONER II/SKURG', 1],\n ['4-D MAN/MERCURIO', 'FANDRAL [ASGARDIAN]', 4],\n ['4-D MAN/MERCURIO', 'FERRARI, CONNIE', 1],\n ['4-D MAN/MERCURIO', 'FURY, COL. NICHOLAS', 1],\n ['4-D MAN/MERCURIO', 'GRANT, SILAS', 3],\n ['4-D MAN/MERCURIO', 'GREY GARGOYLE/PAUL P', 1],\n ['4-D MAN/MERCURIO', 'HAYWIRE/', 1],\n ['4-D MAN/MERCURIO', 'HEIMDALL [ASGARDIAN]', 3],\n ['4-D MAN/MERCURIO', 'HILDEGARDE [ASGARDIA', 4],\n ['4-D MAN/MERCURIO', 'HOGUN [ASGARDIAN]', 4],\n ['4-D MAN/MERCURIO', 'HYPERION', 2],\n ['4-D MAN/MERCURIO', 'IRON MAN/TONY STARK', 1],\n ['4-D MAN/MERCURIO', 'JAKAR', 1],\n ['4-D MAN/MERCURIO', 'JAMESON, J. JONAH', 1],\n ['4-D MAN/MERCURIO', 'JARVIS, EDWIN', 2],\n ['4-D MAN/MERCURIO', 'JONES, RICHARD MILHO', 1],\n ['4-D MAN/MERCURIO', 'KARNILLA [ASGARDIAN]', 4],\n ['4-D MAN/MERCURIO', 'LADY LARK/LINDA LEWI', 2],\n ['4-D MAN/MERCURIO', 'LOKI [ASGARDIAN]', 1],\n ['4-D MAN/MERCURIO', 'MAKKARI/MIKE KHARY/I', 2],\n ['4-D MAN/MERCURIO', 'MASTERSON, KEVIN', 1],\n ['4-D MAN/MERCURIO', 'MINERVA [KREE]', 1],\n ['4-D MAN/MERCURIO', 'MOONDRAGON/HEATHER D', 2],\n ['4-D MAN/MERCURIO', 'ODIN [ASGARDIAN]', 4],\n ['4-D MAN/MERCURIO', 'OVERMIND/GROM', 2],\n ['4-D MAN/MERCURIO', 'PARETSKY, DR. GARY', 1],\n ['4-D MAN/MERCURIO', 'POWER PRINCESS/ZARDA', 2],\n ['4-D MAN/MERCURIO', 'QUASAR III/WENDELL V', 2],\n ['4-D MAN/MERCURIO', 'RED GUARDIAN III/DR.', 1],\n ['4-D MAN/MERCURIO', 'SAPRISTI, JERRY', 1],\n ['4-D MAN/MERCURIO', 'SCARLET WITCH/WANDA', 1],\n ['4-D MAN/MERCURIO', 'SERGEI', 1],\n ['4-D MAN/MERCURIO', 'SERVITOR', 1],\n ['4-D MAN/MERCURIO', 'SHANGA', 1],\n ['4-D MAN/MERCURIO', 'SHAPE', 1],\n ['4-D MAN/MERCURIO', 'SHATTERFIST/', 1],\n ['4-D MAN/MERCURIO', 'SIF', 4],\n ['4-D MAN/MERCURIO', \"STARDUST/T'URIN G'AR\", 2],\n ['4-D MAN/MERCURIO', 'STEELE, BOBBY', 1],\n ['4-D MAN/MERCURIO', 'STEELE, MARCY MASTER', 1],\n ['4-D MAN/MERCURIO', 'STRANGER', 2],\n ['4-D MAN/MERCURIO', 'TANA NILE', 3],\n ['4-D MAN/MERCURIO', 'TANAKA, KENJIRO', 1],\n ['4-D MAN/MERCURIO', 'TEN FOR', 1],\n ['4-D MAN/MERCURIO', 'THOR IV/DARGO', 1],\n ['4-D MAN/MERCURIO', 'THOR/DR. DONALD BLAK', 4],\n ['4-D MAN/MERCURIO', 'THUNDERSTRIKE/ERIC K', 1],\n ['4-D MAN/MERCURIO', 'TRUTH', 1],\n ['4-D MAN/MERCURIO', 'TYRUS', 1],\n ['4-D MAN/MERCURIO', 'UROC', 1],\n ['4-D MAN/MERCURIO', 'VISION', 2],\n ['4-D MAN/MERCURIO', 'VOLSTAGG', 2],\n ['4-D MAN/MERCURIO', 'WHIZZER II/STANLEY S', 2],\n ['4-D MAN/MERCURIO', 'ZARRKO, ARTHUR', 1],\n ['8-BALL/', 'BAYLOR, FRANK', 1],\n ['8-BALL/', 'COBWEB', 1],\n ['8-BALL/', 'CONOVER, ALYSSA', 3],\n ['8-BALL/', 'COOPER, WHITNEY III', 1],\n ['8-BALL/', 'EPSTEIN, MORRIS', 1],\n ['8-BALL/', 'EPSTEIN, MRS.', 1],\n ['8-BALL/', 'MASTER LINK/WILLIS H', 1],\n ['8-BALL/', 'MCMURRAY, YVONNE', 1],\n ['8-BALL/', 'MISSING LINK II/RAY', 1],\n ['8-BALL/', 'RAMBO', 2],\n ['8-BALL/', 'SHERIDAN, RICHARD RI', 3],\n ['8-BALL/', 'SLEEPWALKER', 3],\n ['8-BALL/', 'UPLINK/HECTOR FUENTE', 1],\n ['8-BALL/', 'WEAK LINK/ERNIE MILL', 1],\n ['A', 'BLOK', 3],\n ['A', 'COLOSSUS II/PETER RA', 1],\n ['A', 'MR. X', 3],\n ['A', 'NIGHTCRAWLER/KURT WA', 2],\n ['A', 'ROGUE /', 1],\n ['A', 'SABRETOOTH/VICTOR CR', 1],\n ['A', 'T', 3],\n ['A', 'WOLVERINE/LOGAN', 3],\n [\"A'YIN\", 'BARAK', 4],\n [\"A'YIN\", 'CAPTAIN BRITAIN/BRIA', 4],\n [\"A'YIN\", 'COLOSSUS II/PETER RA', 4],\n [\"A'YIN\", 'CRAIG, REV.', 1],\n [\"A'YIN\", 'CYPHER/DOUG RAMSEY', 2],\n [\"A'YIN\", 'DAYTRIPPER/AMANDA SE', 1],\n [\"A'YIN\", 'MACTAGGERT, MOIRA KI', 2],\n [\"A'YIN\", 'MAGIK/ILLYANA RASPUT', 1],\n [\"A'YIN\", 'MEGGAN', 4],\n [\"A'YIN\", 'NIGHTCRAWLER/KURT WA', 4],\n [\"A'YIN\", 'PROFESSOR X/CHARLES', 1],\n [\"A'YIN\", \"RA'AL\", 4],\n [\"A'YIN\", 'RASPUTIN, NIKOLAI', 1],\n [\"A'YIN\", 'RASPUTINA, ALEXANDRA', 1],\n [\"A'YIN\", 'SHADOWCAT/KATHERINE', 4],\n [\"A'YIN\", 'SHAMROCK/MOLLY FITZG', 1],\n [\"A'YIN\", 'SPIRAL', 4],\n [\"A'YIN\", 'SZARDOS, MARGALI', 1],\n [\"A'YIN\", 'WISDOM, PETER', 4],\n [\"A'YIN\", 'WOLFSBANE/RAHNE SINC', 4],\n [\"A'YIN\", 'XIANDU', 3],\n ['ABBOTT, JACK', 'COPPERHEAD IV/', 1],\n ['ABBOTT, JACK', 'DAREDEVIL/MATT MURDO', 1],\n ['ABBOTT, JACK', 'FITZGERALD, KENNY', 1],\n ['ABBOTT, JACK', 'GLADIATOR/MELVIN POT', 1],\n ['ABBOTT, JACK', 'KINGPIN/WILSON FISK', 1],\n ['ABBOTT, JACK', 'OWL/LELAND OWLSLEY', 1],\n ['ABBOTT, JACK', 'SPIDER-MAN/PETER PARKER', 1],\n ['ABBOTT, JACK', 'STILT-MAN/WILBUR DAY', 1],\n ['ABCISSA', 'ALBERT', 2],\n ['ABCISSA', 'BEAST/HENRY &HANK& P', 1],\n ['ABCISSA', 'ELSIE DEE', 2],\n ['ABCISSA', 'FURY, COL. NICHOLAS', 1],\n ['ABCISSA', 'GAMBIT/REMY LEBEAU', 1],\n ['ABCISSA', 'GATEWAY', 1],\n ['ABCISSA', 'HUNTER IN DARKNESS', 2],\n ['ABCISSA', 'JUBILEE/JUBILATION L', 2],\n ['ABCISSA', 'MOJO', 2],\n ['ABCISSA', 'MR. FANTASTIC/REED R', 1],\n ['ABCISSA', 'MYSTIQUE/RAVEN DARKH', 2],\n ['ABCISSA', 'PLASMA WRAITH', 1],\n ['ABCISSA', 'SPIRAL', 2],\n ['ABCISSA', 'THING/BENJAMIN J. GR', 1],\n ['ABCISSA', 'WOLVERINE/LOGAN', 2],\n ['ABEL', 'BAKER', 2],\n ['ABEL', 'BEDLAM/JESSE AARONSO', 2],\n ['ABEL', 'BOOMER/TABITHA SMITH', 2],\n ['ABEL', 'CANNONBALL II/SAM GU', 2],\n ['ABEL', 'CHARLIE', 2],\n ['ABEL', 'DOMINO III/BEATRICE/', 2],\n ['ABEL', 'THUNDERBIRD II/JAMES', 2],\n ['ABEL', 'TRAVELER', 1],\n ['ABEL', 'TSUNG, MARCUS', 2],\n ['ABEL', 'WISDOM, PETER', 2],\n ['ABEL', 'WISDOM, ROMANY', 1],\n ['ABOMINATION | MUTANT', 'ABSORBING MAN | MUTA', 1],\n ['ABOMINATION | MUTANT', 'BETA RAY BILL | MUTA', 1],\n ['ABOMINATION | MUTANT', 'BEYONDER | MUTANT X-', 1],\n ['ABOMINATION | MUTANT', 'BLACK PANTHER | MUTA', 1],\n ['ABOMINATION | MUTANT', 'BLOODSTORM | MUTANT', 1],\n ['ABOMINATION | MUTANT', 'BROTHER VOODOO | MUT', 1],\n ['ABOMINATION | MUTANT', 'BRUTE | MUTANT X-VER', 1],\n ['ABOMINATION | MUTANT', 'CAPTAIN AMERICA | MU', 1],\n ['ABOMINATION | MUTANT', 'DAREDEVIL | MUTANT X', 1],\n ['ABOMINATION | MUTANT', 'DEVIL DINOSAUR | MUT', 1],\n ['ABOMINATION | MUTANT', 'DR. DOOM | MUTANT X-', 1],\n ['ABOMINATION | MUTANT', 'DR. OCTOPUS | MUTANT', 1],\n ['ABOMINATION | MUTANT', 'DR. STRANGE | MUTANT', 1],\n ['ABOMINATION | MUTANT', 'DRACULA | MUTANT X-V', 1],\n ['ABOMINATION | MUTANT', 'DRAX | MUTANT X-VERS', 1],\n ['ABOMINATION | MUTANT', 'ELEKTRA | MUTANT X-V', 1],\n ['ABOMINATION | MUTANT', 'FANDRAL | MUTANT X-V', 1],\n ['ABOMINATION | MUTANT', 'FIN FANG FOOM | MUTA', 1],\n ['ABOMINATION | MUTANT', 'GAMBIT | MUTANT X-VE', 1],\n ['ABOMINATION | MUTANT', 'GARGOYLE | MUTANT X-', 1],\n ['ABOMINATION | MUTANT', 'GREY, JEAN | MUTANT', 1],\n ['ABOMINATION | MUTANT', 'HAVOK/ALEX SUMMERS', 1],\n ['ABOMINATION | MUTANT', 'HOGUN | MUTANT X-VER', 1],\n ['ABOMINATION | MUTANT', 'HULK | MUTANT X-VERS', 1],\n ['ABOMINATION | MUTANT', 'ICE-MAN | MUTANT X-V', 1],\n ['ABOMINATION | MUTANT', 'IRON FIST | MUTANT X', 1],\n ['ABOMINATION | MUTANT', 'MAGNETO | MUTANT X-V', 1],\n ['ABOMINATION | MUTANT', 'MAN-SPIDER | MUTANT', 1],\n ['ABOMINATION | MUTANT', 'MOON KNIGHT | MUTANT', 1],\n ['ABOMINATION | MUTANT', 'NAMORITA | MUTANT X-', 1],\n ['ABOMINATION | MUTANT', 'NIGHTCRAWLER | MUTAN', 1],\n ['ABOMINATION | MUTANT', 'NOVA | MUTANT X-VERS', 1],\n ['ABOMINATION | MUTANT', 'POLARIS | MUTANT X-V', 1],\n ['ABOMINATION | MUTANT', 'POWER MAN II | MUTAN', 1],\n ['ABOMINATION | MUTANT', 'QUICKSILVER | MUTANT', 1],\n ['ABOMINATION | MUTANT', 'RAVEN | MUTANT X-VER', 1],\n ['ABOMINATION | MUTANT', 'RICHARDS, REED | MUT', 1],\n ['ABOMINATION | MUTANT', 'ROGUE | MUTANT X-VER', 1],\n ['ABOMINATION | MUTANT', 'STINGRAY | MUTANT X-', 1],\n ['ABOMINATION | MUTANT', 'STRONG GUY | MUTANT', 1],\n ['ABOMINATION | MUTANT', 'SUB-MARINER | MUTANT', 1],\n ['ABOMINATION | MUTANT', 'SUMMERS, SCOTT III |', 1],\n ['ABOMINATION | MUTANT', 'THOR | MUTANT X-VERS', 1],\n ['ABOMINATION | MUTANT', 'VALKYRIE II | MUTANT', 1],\n ['ABOMINATION | MUTANT', 'VOLSTAGG | MUTANT X-', 1],\n ['ABOMINATION | MUTANT', 'WOLVERINE | MUTANT X', 1],\n ['ABOMINATION | MUTANT', 'YASHIDA, MARIKO | MU', 1],\n ['ABOMINATION | MUTANT', 'YELLOWJACKET II | MU', 1],\n ['ABOMINATION/EMIL BLO', 'ABSORBING MAN/CARL C', 1],\n ['ABOMINATION/EMIL BLO', 'ACHILLES II/HELMUT', 1],\n ['ABOMINATION/EMIL BLO', 'AJAX', 1],\n ['ABOMINATION/EMIL BLO', 'ALEXANDER, CARRIE', 1],\n ['ABOMINATION/EMIL BLO', 'ANDROMEDA/ANDROMEDA', 2],\n ['ABOMINATION/EMIL BLO', 'ANGEL III/HALLOWAY', 1],\n ['ABOMINATION/EMIL BLO', 'ANGEL/WARREN KENNETH', 2],\n ['ABOMINATION/EMIL BLO', 'ANT-MAN/DR. HENRY J.', 1],\n ['ABOMINATION/EMIL BLO', 'ARMBRUSTER, COLONEL', 1],\n ['ABOMINATION/EMIL BLO', 'ARMSTRONG, MYRA', 1],\n ['ABOMINATION/EMIL BLO', 'ATALANTA', 1],\n ['ABOMINATION/EMIL BLO', 'BANNER, BETTY ROSS T', 19],\n ['ABOMINATION/EMIL BLO', 'BANNON, LANCE', 1],\n ['ABOMINATION/EMIL BLO', 'BARON MORDO/KARL MOR', 1],\n ['ABOMINATION/EMIL BLO', 'BEAST/HENRY &HANK& P', 2],\n ['ABOMINATION/EMIL BLO', 'BEREET', 3],\n ['ABOMINATION/EMIL BLO', 'BETTY-6', 2],\n ['ABOMINATION/EMIL BLO', 'BEYONDER', 1],\n ['ABOMINATION/EMIL BLO', \"BLACK PANTHER/T'CHAL\", 1],\n ['ABOMINATION/EMIL BLO', 'BUX', 1],\n ['ABOMINATION/EMIL BLO', 'CAGE, LUKE/CARL LUCA', 1],\n ['ABOMINATION/EMIL BLO', 'CALLISTO', 1],\n ['ABOMINATION/EMIL BLO', 'CANNONBALL II/SAM GU', 1],\n ['ABOMINATION/EMIL BLO', 'CAPTAIN AMERICA', 2],\n ['ABOMINATION/EMIL BLO', 'CHALMERS, CYNTHIA', 3],\n ['ABOMINATION/EMIL BLO', 'CHALMERS, JUDGE ROBE', 1],\n ['ABOMINATION/EMIL BLO', 'CHAR', 2],\n ['ABOMINATION/EMIL BLO', 'CITIZEN V II/HELMUT', 1],\n ['ABOMINATION/EMIL BLO', 'COLOSSUS II/PETER RA', 5],\n ['ABOMINATION/EMIL BLO', 'CRYSTAL [INHUMAN]', 1],\n ['ABOMINATION/EMIL BLO', 'CUSHING, KATE', 1],\n ['ABOMINATION/EMIL BLO', 'CYBERSLIK', 2],\n ['ABOMINATION/EMIL BLO', 'CYCLOPS/SCOTT SUMMER', 1],\n ['ABOMINATION/EMIL BLO', 'CYPHER/DOUG RAMSEY', 1],\n ['ABOMINATION/EMIL BLO', 'DAREDEVIL/MATT MURDO', 1],\n ['ABOMINATION/EMIL BLO', 'DARK CRAWLER', 1],\n ['ABOMINATION/EMIL BLO', 'DEANGELO, DEVLIN', 3],\n ['ABOMINATION/EMIL BLO', 'DEATH', 1],\n ['ABOMINATION/EMIL BLO', 'DIABLO/ESTEBAN DE AB', 1],\n ['ABOMINATION/EMIL BLO', 'DOC SAMSON/DR. LEONA', 10],\n ['ABOMINATION/EMIL BLO', 'DORNOVA-BLONSKY, NAD', 7],\n ['ABOMINATION/EMIL BLO', 'DR. OCTOPUS/OTTO OCT', 1],\n ['ABOMINATION/EMIL BLO', 'DR. STRANGE/STEPHEN', 2],\n ['ABOMINATION/EMIL BLO', 'EENY', 1],\n ['ABOMINATION/EMIL BLO', 'ELECTRO/MAX DILLON', 1],\n ['ABOMINATION/EMIL BLO', 'ETERNITY/ADAM QADMON', 1],\n ['ABOMINATION/EMIL BLO', 'FALCON/SAM WILSON', 1],\n ['ABOMINATION/EMIL BLO', 'FIREBIRD/BONITA JUAR', 2],\n ['ABOMINATION/EMIL BLO', 'FLO', 1],\n ['ABOMINATION/EMIL BLO', 'FRENCHIE/JEAN-PAUL D', 1],\n ['ABOMINATION/EMIL BLO', 'GATEWAY', 1],\n ['ABOMINATION/EMIL BLO', 'GHAUR [DEVIANT]', 1],\n ['ABOMINATION/EMIL BLO', 'GREY GARGOYLE/PAUL P', 1],\n ['ABOMINATION/EMIL BLO', 'GUARDIAN/JAMES MACDO', 1],\n ['ABOMINATION/EMIL BLO', 'HAVOK/ALEX SUMMERS', 3],\n ['ABOMINATION/EMIL BLO', 'HAWK', 3],\n ['ABOMINATION/EMIL BLO', 'HECTOR II', 1],\n ['ABOMINATION/EMIL BLO', 'HELLCAT/PATSY WALKER', 1],\n ['ABOMINATION/EMIL BLO', 'HERCULES [GREEK GOD]', 1],\n ['ABOMINATION/EMIL BLO', 'HOTSHOT/LOUIS', 1],\n ['ABOMINATION/EMIL BLO', 'HULK/DR. ROBERT BRUC', 29],\n ['ABOMINATION/EMIL BLO', 'HUMAN TORCH/JOHNNY S', 1],\n ['ABOMINATION/EMIL BLO', 'INVISIBLE WOMAN/SUE', 1],\n ['ABOMINATION/EMIL BLO', 'IRON FIST/DANIEL RAN', 1],\n ['ABOMINATION/EMIL BLO', 'IRON MAN/TONY STARK', 2],\n ['ABOMINATION/EMIL BLO', 'IRONCLAD', 1],\n ['ABOMINATION/EMIL BLO', 'JACK OF HEARTS/JACK', 1],\n ['ABOMINATION/EMIL BLO', 'JACKKNIFE/JACK COLE', 1],\n ['ABOMINATION/EMIL BLO', 'JAILBAIT/JESS', 1],\n ['ABOMINATION/EMIL BLO', 'JAM/JASMINE ARCHER', 1],\n ['ABOMINATION/EMIL BLO', 'JAMESON, J. JONAH', 2],\n ['ABOMINATION/EMIL BLO', 'JONES, JANIS', 2],\n ['ABOMINATION/EMIL BLO', 'JONES, MARLO CHANDLE', 3],\n ['ABOMINATION/EMIL BLO', 'JONES, RICHARD MILHO', 6],\n ['ABOMINATION/EMIL BLO', 'JOUST', 1],\n ['ABOMINATION/EMIL BLO', 'JUGGERNAUT/CAIN MARK', 1],\n ['ABOMINATION/EMIL BLO', \"KARMA/XI'AN COY MANH\", 1],\n ['ABOMINATION/EMIL BLO', 'KASPIN', 2],\n ['ABOMINATION/EMIL BLO', 'KENT, CLARK', 2],\n ['ABOMINATION/EMIL BLO', 'KINGPIN/WILSON FISK', 1],\n ['ABOMINATION/EMIL BLO', 'KRAVEN THE HUNTER/SE', 1],\n ['ABOMINATION/EMIL BLO', 'LANGSTROM, LIEUTENAN', 1],\n ['ABOMINATION/EMIL BLO', 'LEADER/SAM STERNS', 3],\n ['ABOMINATION/EMIL BLO', 'LEEDS, NED', 1],\n ['ABOMINATION/EMIL BLO', 'LIBRITO', 2],\n ['ABOMINATION/EMIL BLO', 'LIPSCOMB, DR. ANGELA', 2],\n ['ABOMINATION/EMIL BLO', 'LLYRA/LLYRA MORRIS', 1],\n ['ABOMINATION/EMIL BLO', 'LOCUST', 1],\n ['ABOMINATION/EMIL BLO', 'MACHINE MAN/X-51', 1],\n ['ABOMINATION/EMIL BLO', 'MAD DOG/COLONEL BUZZ', 1],\n ['ABOMINATION/EMIL BLO', 'MADMAN/PHIL STERNS', 2],\n ['ABOMINATION/EMIL BLO', 'MAGGOTT/JAPHETH', 1],\n ['ABOMINATION/EMIL BLO', 'MAGMA/AMARA AQUILLA/', 1],\n ['ABOMINATION/EMIL BLO', 'MAGNETO/MAGNUS/ERIC', 1],\n ['ABOMINATION/EMIL BLO', 'MARITA', 1],\n ['ABOMINATION/EMIL BLO', 'MARROW/SARAH', 1],\n ['ABOMINATION/EMIL BLO', 'MAXWELL, DR. WILFRED', 1],\n ['ABOMINATION/EMIL BLO', 'MEANY', 1],\n ['ABOMINATION/EMIL BLO', 'MEPHISTO', 1],\n ['ABOMINATION/EMIL BLO', 'MERCADO, JOY', 1],\n ['ABOMINATION/EMIL BLO', 'MERCY', 1],\n ['ABOMINATION/EMIL BLO', 'MO', 1],\n ['ABOMINATION/EMIL BLO', 'MOCKINGBIRD/DR. BARB', 1],\n ['ABOMINATION/EMIL BLO', 'MODOK/GEORGE TARLETO', 4],\n ['ABOMINATION/EMIL BLO', 'MOK', 2],\n ['ABOMINATION/EMIL BLO', 'MOLECULE MAN/OWEN RE', 1],\n ['ABOMINATION/EMIL BLO', 'MOON KNIGHT/MARC SPE', 1],\n ['ABOMINATION/EMIL BLO', 'MORGAN, DR. VIVIAN', 2],\n ['ABOMINATION/EMIL BLO', 'MR. FANTASTIC/REED R', 1],\n ['ABOMINATION/EMIL BLO', 'MS. MARVEL II/SHARON', 1],\n ['ABOMINATION/EMIL BLO', 'NIGHTCRAWLER/KURT WA', 1],\n ['ABOMINATION/EMIL BLO', 'NORRISS, SISTER BARB', 1],\n ['ABOMINATION/EMIL BLO', 'ODIN [ASGARDIAN]', 1],\n ['ABOMINATION/EMIL BLO', 'OGRESS/', 1],\n ['ABOMINATION/EMIL BLO', 'PARIS', 1],\n ['ABOMINATION/EMIL BLO', 'PARKER, MAY', 1],\n ['ABOMINATION/EMIL BLO', 'PHOENIX III/RACHEL S', 1],\n ['ABOMINATION/EMIL BLO', 'PO', 2],\n ['ABOMINATION/EMIL BLO', 'PREECHA', 2],\n ['ABOMINATION/EMIL BLO', 'PROFESSOR X/CHARLES', 1],\n ['ABOMINATION/EMIL BLO', 'PSYLOCKE/ELISABETH B', 3],\n ['ABOMINATION/EMIL BLO', 'QNAX', 4],\n ['ABOMINATION/EMIL BLO', 'QUARRY', 2],\n ['ABOMINATION/EMIL BLO', 'QUARTERMAIN, CLAY', 4],\n ['ABOMINATION/EMIL BLO', 'QUICKSILVER/PIETRO M', 1],\n ['ABOMINATION/EMIL BLO', 'RAHN, TAMARA', 1],\n ['ABOMINATION/EMIL BLO', 'REAGAN, RONALD', 1],\n ['ABOMINATION/EMIL BLO', 'RED WOLF III/WILL TA', 1],\n ['ABOMINATION/EMIL BLO', 'REDEEMER/CRAIG SAUND', 1],\n ['ABOMINATION/EMIL BLO', 'REYES, DR. CECELIA', 1],\n ['ABOMINATION/EMIL BLO', 'RHINO', 3],\n ['ABOMINATION/EMIL BLO', 'RICHARDS, FRANKLIN B', 1],\n ['ABOMINATION/EMIL BLO', 'ROCK/SAMUEL JOHN ROC', 1],\n ['ABOMINATION/EMIL BLO', 'ROGUE /', 4],\n ['ABOMINATION/EMIL BLO', 'ROSS, GEN. THADDEUS', 18],\n ['ABOMINATION/EMIL BLO', 'ROUST', 2],\n ['ABOMINATION/EMIL BLO', 'SANDY', 3],\n ['ABOMINATION/EMIL BLO', 'SASQUATCH/WALTER LAN', 1],\n ['ABOMINATION/EMIL BLO', 'SCARLET WITCH/WANDA', 1],\n ['ABOMINATION/EMIL BLO', 'SET', 1],\n ['ABOMINATION/EMIL BLO', 'SHADOWCAT/KATHERINE', 2],\n ['ABOMINATION/EMIL BLO', 'SHAMAN/MICHAEL TWOYO', 1],\n ['ABOMINATION/EMIL BLO', 'SHE-HULK/JENNIFER WA', 2],\n ['ABOMINATION/EMIL BLO', 'SHULK', 2],\n ['ABOMINATION/EMIL BLO', 'SIF', 1],\n ['ABOMINATION/EMIL BLO', 'SILVER SURFER/NORRIN', 2],\n ['ABOMINATION/EMIL BLO', 'SLEEK', 2],\n ['ABOMINATION/EMIL BLO', 'SNOWBIRD/NARYA/ANNE', 1],\n ['ABOMINATION/EMIL BLO', 'SPAR, DR. KATHERINE', 3],\n ['ABOMINATION/EMIL BLO', 'SPIDER-MAN/PETER PARKER', 4],\n ['ABOMINATION/EMIL BLO', 'ST. LAWRENCE, COL. C', 1],\n ['ABOMINATION/EMIL BLO', 'STINGRAY/DR. WALTER', 2],\n ['ABOMINATION/EMIL BLO', 'STORM/ORORO MUNROE S', 5],\n ['ABOMINATION/EMIL BLO', 'STRANGER', 2],\n ['ABOMINATION/EMIL BLO', 'SUB-MARINER/NAMOR MA', 2],\n ['ABOMINATION/EMIL BLO', 'SUNSPOT/ROBERTO DACO', 1],\n ['ABOMINATION/EMIL BLO', 'TALBOT, GLENN', 4],\n ['ABOMINATION/EMIL BLO', 'THING/BENJAMIN J. GR', 2],\n ['ABOMINATION/EMIL BLO', 'THOR/DR. DONALD BLAK', 2],\n ['ABOMINATION/EMIL BLO', 'THUNDERSTRIKE/ERIC K', 1],\n ['ABOMINATION/EMIL BLO', 'TIGER SHARK/TODD ARL', 1],\n ['ABOMINATION/EMIL BLO', 'TITANIA II/MARY SKEE', 1],\n ['ABOMINATION/EMIL BLO', 'TORGO', 1],\n ['ABOMINATION/EMIL BLO', 'TRITON', 2],\n ['ABOMINATION/EMIL BLO', 'TYRANNUS', 4],\n ['ABOMINATION/EMIL BLO', 'ULYSSES II', 2],\n ['ABOMINATION/EMIL BLO', 'VANISHER', 1],\n ['ABOMINATION/EMIL BLO', 'VAPOR', 1],\n ['ABOMINATION/EMIL BLO', 'VECTOR', 1],\n ['ABOMINATION/EMIL BLO', 'VIPER II', 1],\n ['ABOMINATION/EMIL BLO', 'VISION', 2],\n ['ABOMINATION/EMIL BLO', 'VOLCANA/MARSHA ROSEN', 1],\n ['ABOMINATION/EMIL BLO', 'VULTURE/ADRIAN TOOME', 1],\n ['ABOMINATION/EMIL BLO', 'WARLOCK III', 1],\n ['ABOMINATION/EMIL BLO', 'WASP/JANET VAN DYNE', 1],\n ['ABOMINATION/EMIL BLO', 'WATSON-PARKER, MARY', 1],\n ['ABOMINATION/EMIL BLO', 'WATTS', 1],\n ['ABOMINATION/EMIL BLO', 'WHITE QUEEN/EMMA FRO', 1],\n ['ABOMINATION/EMIL BLO', 'WILSON, JIM', 2],\n ['ABOMINATION/EMIL BLO', 'WIZARD/BENTLEY WITTM', 1],\n ['ABOMINATION/EMIL BLO', 'WOLFSBANE/RAHNE SINC', 1],\n ['ABOMINATION/EMIL BLO', 'WOLVERINE/LOGAN', 6],\n ['ABOMINATION/EMIL BLO', 'WONDER MAN/SIMON WIL', 2],\n ['ABOMINATION/EMIL BLO', 'WONG', 1],\n ['ABOMINATION/EMIL BLO', 'WRECKER III/DIRK GAR', 1],\n ['ABOMINATION/EMIL BLO', 'X-MAN/NATHAN GREY', 1],\n ['ABOMINATION/EMIL BLO', 'X-RAY', 1],\n ['ABOMINATRIX', 'CAPTAIN RECTITUDE', 3],\n ['ABOMINATRIX', 'INVISIBLE WOMAN/SUE', 1],\n ['ABOMINATRIX', 'MASON, LOUISE', 2],\n ['ABOMINATRIX', 'MASON, WANDA', 3],\n ['ABOMINATRIX', 'MR. FANTASTIC/REED R', 2],\n ['ABOMINATRIX', 'SHE-HULK/JENNIFER WA', 3],\n ['ABRAXAS', 'ETERNITY/ADAM QADMON', 1],\n ['ABRAXAS', 'FROST, CARMILLA', 3],\n ['ABRAXAS', 'GROK', 3],\n ['ABRAXAS', 'HAWK', 3],\n ['ABRAXAS', 'HIGH OVERLORD', 2],\n ['ABRAXAS', 'HUMAN TORCH/JOHNNY S', 1],\n ['ABRAXAS', 'INVISIBLE WOMAN/SUE', 1],\n ['ABRAXAS', 'IRON MAN/TONY STARK', 1],\n ['ABRAXAS', 'KILLRAVEN/JONATHAN R', 3],\n ['ABRAXAS', \"M'SHULLA\", 3],\n ['ABRAXAS', 'MARVEL GIRL II/VALER', 1],\n ['ABRAXAS', 'MINT JULEP', 3],\n ['ABRAXAS', 'MR. FANTASTIC/REED R', 1],\n ['ABRAXAS', 'NAMORITA/NITA PRENTI', 1],\n ['ABRAXAS', 'NOVA III/FRANKIE RAY', 1],\n ['ABRAXAS', 'OLD SKULL', 3],\n ['ABRAXAS', 'RATTACK', 2],\n ['ABRAXAS', 'RICHARDS, FRANKLIN B', 1],\n ['ABRAXAS', 'SABRE/', 3],\n ['ABRAXAS', 'THING/BENJAMIN J. GR', 1],\n ['ABRAXAS', 'UATU', 1],\n ['ABSALOM', 'ANGEL/WARREN KENNETH', 1],\n ['ABSALOM', 'BLAQUESMITH', 1],\n ['ABSALOM', 'BOOMER/TABITHA SMITH', 3],\n ['ABSALOM', 'BURKE', 2],\n ['ABSALOM', 'CALIBAN/', 1],\n ['ABSALOM', 'CANDRA', 1],\n ['ABSALOM', 'CANNONBALL II/SAM GU', 1],\n ['ABSALOM', 'CLARKE, GENERAL JERE', 1],\n ['ABSALOM', 'COPYCAT/VANESSA', 1],\n ['ABSALOM', 'COURIER/JACOB GAVIN', 1],\n ['ABSALOM', 'CRULE', 2],\n ['ABSALOM', 'DEADPOOL/JACK/WADE W', 1],\n ['ABSALOM', 'DOMINO III/BEATRICE/', 2],\n ['ABSALOM', 'FERAL/MARIA CALLASAN', 1],\n ['ABSALOM', 'FONTANELLE/GLORIA DA', 1],\n ['ABSALOM', 'FOREARM', 1],\n ['ABSALOM', 'GAMBIT/REMY LEBEAU', 1],\n ['ABSALOM', 'GIDEON', 3],\n ['ABSALOM', 'JONES, CHARLOTTE', 1],\n ['ABSALOM', 'LEBEAU, JACQUE', 1],\n ['ABSALOM', 'LEBEAU, JEAN-LUC', 1],\n ['ABSALOM', 'MARCEAUX, BELIZE', 1],\n ['ABSALOM', 'MASQUE', 1],\n ['ABSALOM', 'MASTER MOLD II', 1],\n ['ABSALOM', 'MR. SINISTER/NATHAN', 1],\n ['ABSALOM', 'NICODEMUS II', 2],\n ['ABSALOM', 'OZYMANDIAS', 1],\n ['ABSALOM', 'RICTOR/JULIO ESTEBAN', 1],\n ['ABSALOM', 'SAUL', 3],\n ['ABSALOM', 'SAURON/DR. KARL LYKO', 1],\n ['ABSALOM', 'SELENE', 1],\n ['ABSALOM', 'SHATTERSTAR II/GAVEE', 3],\n ['ABSALOM', 'SIRYN/THERESA ROURKE', 2],\n ['ABSALOM', 'STRYFE', 1],\n ['ABSALOM', 'SUMMERS, NATHAN CHRI', 2],\n ['ABSALOM', 'SUMO', 1],\n ['ABSALOM', 'SUNSPOT/ROBERTO DACO', 2],\n ['ABSALOM', 'THUNDERBIRD II/JAMES', 2],\n ['ABSALOM', 'TOLLIVER', 1],\n ['ABSALOM', 'WEAPON X II/GARRISON', 1],\n ['ABSALOM', 'WILDSIDE', 1],\n ['ABSORBING MAN | MUTA', 'BETA RAY BILL | MUTA', 1],\n ['ABSORBING MAN | MUTA', 'BEYONDER | MUTANT X-', 1],\n ['ABSORBING MAN | MUTA', 'BLACK PANTHER | MUTA', 1],\n ['ABSORBING MAN | MUTA', 'BLOODSTORM | MUTANT', 1],\n ['ABSORBING MAN | MUTA', 'BROTHER VOODOO | MUT', 1],\n ['ABSORBING MAN | MUTA', 'BRUTE | MUTANT X-VER', 1],\n ['ABSORBING MAN | MUTA', 'CAPTAIN AMERICA | MU', 1],\n ['ABSORBING MAN | MUTA', 'DAREDEVIL | MUTANT X', 1],\n ['ABSORBING MAN | MUTA', 'DEVIL DINOSAUR | MUT', 1],\n ['ABSORBING MAN | MUTA', 'DR. DOOM | MUTANT X-', 1],\n ['ABSORBING MAN | MUTA', 'DR. OCTOPUS | MUTANT', 1],\n ['ABSORBING MAN | MUTA', 'DR. STRANGE | MUTANT', 1],\n ['ABSORBING MAN | MUTA', 'DRACULA | MUTANT X-V', 1],\n ['ABSORBING MAN | MUTA', 'DRAX | MUTANT X-VERS', 1],\n ['ABSORBING MAN | MUTA', 'ELEKTRA | MUTANT X-V', 1],\n ['ABSORBING MAN | MUTA', 'FANDRAL | MUTANT X-V', 1],\n ['ABSORBING MAN | MUTA', 'FIN FANG FOOM | MUTA', 1],\n ['ABSORBING MAN | MUTA', 'GAMBIT | MUTANT X-VE', 1],\n ['ABSORBING MAN | MUTA', 'GARGOYLE | MUTANT X-', 1],\n ['ABSORBING MAN | MUTA', 'GREY, JEAN | MUTANT', 1],\n ['ABSORBING MAN | MUTA', 'HAVOK/ALEX SUMMERS', 1],\n ['ABSORBING MAN | MUTA', 'HOGUN | MUTANT X-VER', 1],\n ['ABSORBING MAN | MUTA', 'HULK | MUTANT X-VERS', 1],\n ['ABSORBING MAN | MUTA', 'ICE-MAN | MUTANT X-V', 1],\n ['ABSORBING MAN | MUTA', 'IRON FIST | MUTANT X', 1],\n ['ABSORBING MAN | MUTA', 'MAGNETO | MUTANT X-V', 1],\n ['ABSORBING MAN | MUTA', 'MAN-SPIDER | MUTANT', 1],\n ['ABSORBING MAN | MUTA', 'MOON KNIGHT | MUTANT', 1],\n ['ABSORBING MAN | MUTA', 'NAMORITA | MUTANT X-', 1],\n ['ABSORBING MAN | MUTA', 'NIGHTCRAWLER | MUTAN', 1],\n ['ABSORBING MAN | MUTA', 'NOVA | MUTANT X-VERS', 1],\n ['ABSORBING MAN | MUTA', 'POLARIS | MUTANT X-V', 1],\n ['ABSORBING MAN | MUTA', 'POWER MAN II | MUTAN', 1],\n ['ABSORBING MAN | MUTA', 'QUICKSILVER | MUTANT', 1],\n ['ABSORBING MAN | MUTA', 'RAVEN | MUTANT X-VER', 1],\n ['ABSORBING MAN | MUTA', 'RICHARDS, REED | MUT', 1],\n ['ABSORBING MAN | MUTA', 'ROGUE | MUTANT X-VER', 1],\n ['ABSORBING MAN | MUTA', 'STINGRAY | MUTANT X-', 1],\n ['ABSORBING MAN | MUTA', 'STRONG GUY | MUTANT', 1],\n ['ABSORBING MAN | MUTA', 'SUB-MARINER | MUTANT', 1],\n ['ABSORBING MAN | MUTA', 'SUMMERS, SCOTT III |', 1],\n ['ABSORBING MAN | MUTA', 'THOR | MUTANT X-VERS', 1],\n ['ABSORBING MAN | MUTA', 'VALKYRIE II | MUTANT', 1],\n ['ABSORBING MAN | MUTA', 'VOLSTAGG | MUTANT X-', 1],\n ['ABSORBING MAN | MUTA', 'WOLVERINE | MUTANT X', 1],\n ['ABSORBING MAN | MUTA', 'YASHIDA, MARIKO | MU', 1],\n ['ABSORBING MAN | MUTA', 'YELLOWJACKET II | MU', 1],\n ['ABSORBING MAN/CARL C', 'ACHEBE, REVEREND DOC', 1],\n ['ABSORBING MAN/CARL C', 'ANGAR THE SCREAMER/D', 2],\n ['ABSORBING MAN/CARL C', 'ANGEL/WARREN KENNETH', 3],\n ['ABSORBING MAN/CARL C', 'ANT-MAN II/SCOTT HAR', 1],\n ['ABSORBING MAN/CARL C', 'ANT-MAN/DR. HENRY J.', 2],\n ['ABSORBING MAN/CARL C', 'APOCALYPSE/EN SABAH', 2],\n ['ABSORBING MAN/CARL C', 'ARYAN', 1],\n ['ABSORBING MAN/CARL C', 'AUSTIN, SUSAN', 1],\n ['ABSORBING MAN/CARL C', 'AXE/', 1],\n ['ABSORBING MAN/CARL C', 'BALDER [ASGARDIAN]', 10],\n ['ABSORBING MAN/CARL C', 'BALLANTINE, KAYLA', 1],\n ['ABSORBING MAN/CARL C', 'BANNER, BETTY ROSS T', 4],\n ['ABSORBING MAN/CARL C', 'BANNON, LANCE', 1],\n ['ABSORBING MAN/CARL C', 'BARON MORDO/KARL MOR', 1],\n ['ABSORBING MAN/CARL C', 'BATROC/GEORGES BATRO', 1],\n ['ABSORBING MAN/CARL C', 'BATTLE, MONTGOMERY', 1],\n ['ABSORBING MAN/CARL C', 'BEAST/HENRY &HANK& P', 5],\n ['ABSORBING MAN/CARL C', 'BEEFER', 2],\n ['ABSORBING MAN/CARL C', 'BERENGHETTI, MICHAEL', 2],\n ['ABSORBING MAN/CARL C', 'BEYONDER', 4],\n ['ABSORBING MAN/CARL C', 'BINARY/CAROL DANVERS', 3],\n ['ABSORBING MAN/CARL C', 'BLACK BOLT/BLACKANTO', 1],\n ['ABSORBING MAN/CARL C', 'BLACK KNIGHT V/DANE', 6],\n ['ABSORBING MAN/CARL C', 'BLACK MAMBA/TANYA SE', 1],\n ['ABSORBING MAN/CARL C', 'BLACK WIDOW/NATASHA', 2],\n ['ABSORBING MAN/CARL C', 'BLACKOUT/MARCUS DANI', 3],\n ['ABSORBING MAN/CARL C', 'BLAIRE, CARTER', 3],\n ['ABSORBING MAN/CARL C', 'BLASTAAR', 1],\n ['ABSORBING MAN/CARL C', 'BLOODAXE/JACKIE LUKU', 2],\n ['ABSORBING MAN/CARL C', 'BOUNTY II', 1],\n ['ABSORBING MAN/CARL C', 'BOVA', 1],\n ['ABSORBING MAN/CARL C', 'BROTHERS GRIMM II/BA', 1],\n ['ABSORBING MAN/CARL C', 'BUCHOVITZ, STANLEY &', 1],\n ['ABSORBING MAN/CARL C', 'BULLDOZER/HENRY CAMP', 15],\n ['ABSORBING MAN/CARL C', 'BYRRAH [ATLANTEAN]', 1],\n ['ABSORBING MAN/CARL C', 'CAGE, LUKE/CARL LUCA', 1],\n ['ABSORBING MAN/CARL C', 'CANNONBALL II/SAM GU', 1],\n ['ABSORBING MAN/CARL C', 'CAPTAIN AMERICA', 23],\n ['ABSORBING MAN/CARL C', 'CAPTAIN MARVEL II/MO', 16],\n ['ABSORBING MAN/CARL C', 'CARTER, PEGGY', 1],\n ['ABSORBING MAN/CARL C', 'CARTER, SHARON', 1],\n ['ABSORBING MAN/CARL C', 'CASE, COL. PRESTON', 1],\n ['ABSORBING MAN/CARL C', 'CITIZEN V II/HELMUT', 3],\n ['ABSORBING MAN/CARL C', 'COLLINS, DEMITRIUS', 2],\n ['ABSORBING MAN/CARL C', 'COLOSSUS II/PETER RA', 13],\n ['ABSORBING MAN/CARL C', 'CONSTRICTOR/FRANK PA', 1],\n ['ABSORBING MAN/CARL C', 'CONWAY, GERRY', 1],\n ['ABSORBING MAN/CARL C', 'COPYCAT/VANESSA', 1],\n ['ABSORBING MAN/CARL C', 'CORSAIR', 1],\n ['ABSORBING MAN/CARL C', 'CROSSBONES/BROCK BIN', 1],\n ['ABSORBING MAN/CARL C', 'CRYSTAL [INHUMAN]', 2],\n ['ABSORBING MAN/CARL C', 'CUSHING, KATE', 1],\n ['ABSORBING MAN/CARL C', 'CYCLOPS/SCOTT SUMMER', 12],\n ['ABSORBING MAN/CARL C', 'CYPHER/DOUG RAMSEY', 1],\n ['ABSORBING MAN/CARL C', 'DAREDEVIL/MATT MURDO', 4],\n ['ABSORBING MAN/CARL C', 'DAZZLER II/ALLISON B', 3],\n ['ABSORBING MAN/CARL C', 'DEADPOOL/JACK/WADE W', 1],\n ['ABSORBING MAN/CARL C', 'DEATH', 1],\n ['ABSORBING MAN/CARL C', \"DEATHCRY [SHI'AR]\", 1],\n ['ABSORBING MAN/CARL C', 'DELPHIS, SIR', 1],\n ['ABSORBING MAN/CARL C', 'DESIGNATE/TARENE', 1],\n ['ABSORBING MAN/CARL C', 'DESTROYER III', 1],\n ['ABSORBING MAN/CARL C', 'DIABLO/ESTEBAN DE AB', 1],\n ['ABSORBING MAN/CARL C', 'DIRTY WOLFF', 1],\n ['ABSORBING MAN/CARL C', 'DOC SAMSON/DR. LEONA', 2],\n ['ABSORBING MAN/CARL C', 'DR. DOOM/VICTOR VON', 13],\n ['ABSORBING MAN/CARL C', 'DR. DRUID/ANTHONY LU', 1],\n ['ABSORBING MAN/CARL C', 'DR. OCTOPUS II/CAROL', 1],\n ['ABSORBING MAN/CARL C', 'DR. OCTOPUS/OTTO OCT', 15],\n ['ABSORBING MAN/CARL C', 'DREADKNIGHT/BRAM VEL', 1],\n ['ABSORBING MAN/CARL C', 'DUGAN, TIMOTHY ALOYI', 1],\n ['ABSORBING MAN/CARL C', 'EEL II/EDWARD LAVELL', 1],\n ['ABSORBING MAN/CARL C', 'EITRI', 1],\n ['ABSORBING MAN/CARL C', 'ELECTRO/MAX DILLON', 1],\n ['ABSORBING MAN/CARL C', 'ENCHANTRESS/AMORA/HE', 15],\n ['ABSORBING MAN/CARL C', 'ENGLEHART, STEVE', 1],\n ['ABSORBING MAN/CARL C', 'ENRAKT', 1],\n ['ABSORBING MAN/CARL C', 'EON', 1],\n ['ABSORBING MAN/CARL C', 'ETERNITY/ADAM QADMON', 1],\n ['ABSORBING MAN/CARL C', 'EXODUS/BENNET DUPARI', 1],\n ['ABSORBING MAN/CARL C', 'FAIRMONT, HANNAH', 2],\n ['ABSORBING MAN/CARL C', 'FALCON/SAM WILSON', 2],\n ['ABSORBING MAN/CARL C', 'FANDRAL [ASGARDIAN]', 6],\n ['ABSORBING MAN/CARL C', 'FIELSTEIN, FIREWORKS', 1],\n ['ABSORBING MAN/CARL C', 'FIRELORD/PYREUS KRIL', 1],\n ['ABSORBING MAN/CARL C', 'FIXER II/PAUL NORBER', 3],\n ['ABSORBING MAN/CARL C', 'FIXER/SWEENEY', 2],\n ['ABSORBING MAN/CARL C', 'FLYING TIGER', 1],\n ['ABSORBING MAN/CARL C', 'FOREIGNER/RAFAEL BAS', 1],\n ['ABSORBING MAN/CARL C', 'FREEMAN, DEREK', 1],\n ['ABSORBING MAN/CARL C', 'FRIGGA', 2],\n ['ABSORBING MAN/CARL C', 'FURY, COL. NICHOLAS', 1],\n ['ABSORBING MAN/CARL C', 'GALACTUS/GALAN', 12],\n ['ABSORBING MAN/CARL C', 'GATOR, LORD', 1],\n ['ABSORBING MAN/CARL C', 'GEIRRODUR', 1],\n ['ABSORBING MAN/CARL C', 'GLOB/DR. SUMNER BECK', 1],\n ['ABSORBING MAN/CARL C', 'GREEN GOBLIN/NORMAN', 1],\n ['ABSORBING MAN/CARL C', 'GYRICH, HENRY PETER', 3],\n ['ABSORBING MAN/CARL C', 'HAMMERHEAD', 1],\n ['ABSORBING MAN/CARL C', 'HAWK', 15],\n ['ABSORBING MAN/CARL C', 'HEIMDALL [ASGARDIAN]', 6],\n ['ABSORBING MAN/CARL C', 'HELA [ASGARDIAN]', 1],\n ['ABSORBING MAN/CARL C', 'HERCULES [GREEK GOD]', 8],\n ['ABSORBING MAN/CARL C', 'HESCAMAR/MARNOT [ASG', 1],\n ['ABSORBING MAN/CARL C', 'HIGH EVOLUTIONARY/HE', 1],\n ['ABSORBING MAN/CARL C', 'HILDEGARDE [ASGARDIA', 2],\n ['ABSORBING MAN/CARL C', 'HILDY [ASGARDIAN]', 2],\n ['ABSORBING MAN/CARL C', 'HOBBS, HARRIS', 6],\n ['ABSORBING MAN/CARL C', 'HOBGOBLIN II/RODERIC', 1],\n ['ABSORBING MAN/CARL C', 'HOGUN [ASGARDIAN]', 7],\n ['ABSORBING MAN/CARL C', 'HOWARD, PROFESSOR MA', 1],\n ['ABSORBING MAN/CARL C', 'HULK/DR. ROBERT BRUC', 21],\n ['ABSORBING MAN/CARL C', 'HUMAN TORCH ANDROID/', 1],\n ['ABSORBING MAN/CARL C', 'HUMAN TORCH/JOHNNY S', 17],\n ['ABSORBING MAN/CARL C', 'HUNCH', 1],\n ['ABSORBING MAN/CARL C', 'HYDROMAN/MORRIE BENC', 1],\n ['ABSORBING MAN/CARL C', 'IGOR', 1],\n ['ABSORBING MAN/CARL C', 'INVISIBLE WOMAN/SUE', 3],\n ['ABSORBING MAN/CARL C', 'IRON FIST/DANIEL RAN', 1],\n ['ABSORBING MAN/CARL C', 'IRON MAN IV/JAMES R.', 12],\n ['ABSORBING MAN/CARL C', 'IRON MAN/TONY STARK', 5],\n ['ABSORBING MAN/CARL C', 'JACKSON, BRENT', 1],\n ['ABSORBING MAN/CARL C', 'JAGRFELM [ASGARDIAN]', 1],\n ['ABSORBING MAN/CARL C', 'JAMESON, J. JONAH', 1],\n ['ABSORBING MAN/CARL C', 'JARVIS, EDWIN', 9],\n ['ABSORBING MAN/CARL C', 'JONES, JANIS', 2],\n ['ABSORBING MAN/CARL C', 'JONES, MARLO CHANDLE', 2],\n ['ABSORBING MAN/CARL C', 'JONES, RICHARD MILHO', 3],\n ['ABSORBING MAN/CARL C', 'JUGGERNAUT/CAIN MARK', 3],\n ['ABSORBING MAN/CARL C', 'KAMO THARNN', 1],\n ['ABSORBING MAN/CARL C', 'KANGAROO II/', 1],\n ['ABSORBING MAN/CARL C', \"KARMA/XI'AN COY MANH\", 1],\n ['ABSORBING MAN/CARL C', 'KARNILLA [ASGARDIAN]', 3],\n ['ABSORBING MAN/CARL C', 'KENT, CLARK', 1],\n ['ABSORBING MAN/CARL C', 'KINCAID, DR. JANE FO', 9],\n ['ABSORBING MAN/CARL C', 'KINCAID, DR. KEITH', 1],\n ['ABSORBING MAN/CARL C', 'KINGSLEY, DANIEL', 1],\n ['ABSORBING MAN/CARL C', 'KLAW/ULYSSES KLAW', 9],\n ['ABSORBING MAN/CARL C', 'KOSINSKI, HARLEY', 1],\n ['ABSORBING MAN/CARL C', 'KRAVEN THE HUNTER/SE', 1],\n ['ABSORBING MAN/CARL C', 'KURSE/ALGRIM [ASGARD', 1],\n ['ABSORBING MAN/CARL C', 'LANN', 1],\n ['ABSORBING MAN/CARL C', 'LEADER/SAM STERNS', 2],\n ['ABSORBING MAN/CARL C', 'LEEDS, BETTY BRANT', 1],\n ['ABSORBING MAN/CARL C', 'LEEDS, NED', 1],\n ['ABSORBING MAN/CARL C', 'LIZARD/DR. CURTIS CO', 12],\n ['ABSORBING MAN/CARL C', 'LOCKHEED', 3],\n ['ABSORBING MAN/CARL C', 'LOCKJAW [INHUMAN]', 1],\n ['ABSORBING MAN/CARL C', 'LOKI [ASGARDIAN]', 14],\n ['ABSORBING MAN/CARL C', 'LORELEI II/MELODI [A', 1],\n ['ABSORBING MAN/CARL C', 'LYJA LAZERFIST [SKRU', 1],\n ['ABSORBING MAN/CARL C', 'MAGMA/AMARA AQUILLA/', 1],\n ['ABSORBING MAN/CARL C', 'MAGNETO/MAGNUS/ERIC', 13],\n ['ABSORBING MAN/CARL C', 'MAJOWSKI, SAM MOTHER', 1],\n ['ABSORBING MAN/CARL C', 'MANGOG', 1],\n ['ABSORBING MAN/CARL C', 'MARRERO, ED', 1],\n ['ABSORBING MAN/CARL C', 'MARVEL GIRL II/VALER', 1],\n ['ABSORBING MAN/CARL C', 'MARX', 1],\n ['ABSORBING MAN/CARL C', 'MASTERSON, KEVIN', 1],\n ['ABSORBING MAN/CARL C', 'MAXIMOFF, DJANGO', 1],\n ['ABSORBING MAN/CARL C', 'MEDUSA/MEDUSALITH AM', 1],\n ['ABSORBING MAN/CARL C', 'MENTALLO', 2],\n ['ABSORBING MAN/CARL C', 'MEPHISTO', 1],\n ['ABSORBING MAN/CARL C', 'MIKHLO', 1],\n ['ABSORBING MAN/CARL C', 'MISTER HYDE/CALVIN Z', 4],\n ['ABSORBING MAN/CARL C', 'MO MONEY', 1],\n ['ABSORBING MAN/CARL C', 'MOLECULE MAN/OWEN RE', 13],\n ['ABSORBING MAN/CARL C', 'MONGOOSE', 1],\n ['ABSORBING MAN/CARL C', 'MOONSTONE II/KARLA S', 4],\n ['ABSORBING MAN/CARL C', 'MR. FANTASTIC/REED R', 14],\n ['ABSORBING MAN/CARL C', 'MS. MARVEL II/SHARON', 1],\n ['ABSORBING MAN/CARL C', 'MURDOCK, BATTLING JA', 2],\n ['ABSORBING MAN/CARL C', 'NEKRA/ADRIENNE HATRO', 1],\n ['ABSORBING MAN/CARL C', 'NELSON, FRANKLIN FOG', 4],\n ['ABSORBING MAN/CARL C', 'NIGHTCRAWLER/KURT WA', 11],\n ['ABSORBING MAN/CARL C', \"O'BRIEN, MICHAEL\", 1],\n ['ABSORBING MAN/CARL C', \"O'NEILL, DET. BRADY\", 1],\n ['ABSORBING MAN/CARL C', 'OCCULT', 1],\n ['ABSORBING MAN/CARL C', 'ODIN [ASGARDIAN]', 12],\n ['ABSORBING MAN/CARL C', 'ORIKAL', 2],\n ['ABSORBING MAN/CARL C', 'OZYMANDIAS', 2],\n ['ABSORBING MAN/CARL C', 'PAGE, KAREN', 2],\n ['ABSORBING MAN/CARL C', 'PALADIN/PAUL DENNIS', 1],\n ['ABSORBING MAN/CARL C', 'PARETSKY, DR. GARY', 2],\n ['ABSORBING MAN/CARL C', 'PEATOR', 1],\n ['ABSORBING MAN/CARL C', 'PHARAOH RAMA-TUT', 6],\n ['ABSORBING MAN/CARL C', 'PHOENIX III/RACHEL S', 1],\n ['ABSORBING MAN/CARL C', 'PILEDRIVER II/BRIAN', 16],\n ['ABSORBING MAN/CARL C', 'POWER MAN/ERIK JOSTE', 3],\n ['ABSORBING MAN/CARL C', 'PRINCE REY', 1],\n ['ABSORBING MAN/CARL C', 'PROFESSOR X/CHARLES', 12],\n ['ABSORBING MAN/CARL C', 'QUARTERMAIN, CLAY', 1],\n ['ABSORBING MAN/CARL C', 'QUASAR III/WENDELL V', 2],\n ['ABSORBING MAN/CARL C', 'QUICKSILVER/PIETRO M', 3],\n ['ABSORBING MAN/CARL C', 'QUILL', 1],\n ['ABSORBING MAN/CARL C', 'RAM, SIR', 1],\n ['ABSORBING MAN/CARL C', 'RASPUTIN, LUCIFER', 1],\n ['ABSORBING MAN/CARL C', 'RASSITANO, MAD DOG', 1],\n ['ABSORBING MAN/CARL C', 'RECORDER II', 2],\n ['ABSORBING MAN/CARL C', 'RED GHOST/IVAN KRAGO', 1],\n ['ABSORBING MAN/CARL C', 'REDWING', 2],\n ['ABSORBING MAN/CARL C', 'RHINO', 3],\n ['ABSORBING MAN/CARL C', 'RICHARDS, FRANKLIN B', 1],\n ['ABSORBING MAN/CARL C', 'ROBERTSON, JOE', 2],\n ['ABSORBING MAN/CARL C', 'ROBERTSON, MARTHA', 1],\n ['ABSORBING MAN/CARL C', 'ROGUE /', 13],\n ['ABSORBING MAN/CARL C', 'ROSS, GEN. THADDEUS', 4],\n ['ABSORBING MAN/CARL C', 'RUIZ, RIGGER', 2],\n ['ABSORBING MAN/CARL C', 'RYAN, THOMAS', 1],\n ['ABSORBING MAN/CARL C', 'SABRETOOTH/VICTOR CR', 1],\n ['ABSORBING MAN/CARL C', 'SCARLET WITCH/WANDA', 2],\n ['ABSORBING MAN/CARL C', 'SCREAMING MIMI/MELIS', 2],\n ['ABSORBING MAN/CARL C', 'SHADOWCAT/KATHERINE', 1],\n ['ABSORBING MAN/CARL C', 'SHARPE, ROSALINDE', 1],\n ['ABSORBING MAN/CARL C', 'SHE-HULK/JENNIFER WA', 15],\n ['ABSORBING MAN/CARL C', 'SIF', 7],\n ['ABSORBING MAN/CARL C', 'SILVERMANE/SILVIO MA', 1],\n ['ABSORBING MAN/CARL C', 'SKOLL', 1],\n ['ABSORBING MAN/CARL C', 'SLADE', 2],\n ['ABSORBING MAN/CARL C', 'SOMMERS, APRIL', 2],\n ['ABSORBING MAN/CARL C', 'SPIDER-MAN/PETER PARKER', 17],\n ['ABSORBING MAN/CARL C', 'SPIDER-WOMAN II/JULI', 7],\n ['ABSORBING MAN/CARL C', 'ST. LAWRENCE, COL. C', 1],\n ['ABSORBING MAN/CARL C', 'STEELE, BOBBY', 2],\n ['ABSORBING MAN/CARL C', 'STELLARIS/LEAH PRINC', 1],\n ['ABSORBING MAN/CARL C', 'STILT-MAN/WILBUR DAY', 1],\n ['ABSORBING MAN/CARL C', 'STINGRAY/DR. WALTER', 1],\n ['ABSORBING MAN/CARL C', 'STONE, LT. MARCUS', 3],\n ['ABSORBING MAN/CARL C', 'STORM/ORORO MUNROE S', 13],\n ['ABSORBING MAN/CARL C', 'STRYKER, WILLIS', 1],\n ['ABSORBING MAN/CARL C', 'SUB-MARINER/NAMOR MA', 2],\n ['ABSORBING MAN/CARL C', 'SUNSPOT/ROBERTO DACO', 1],\n ['ABSORBING MAN/CARL C', 'SUPER-ANDROID F-4', 1],\n ['ABSORBING MAN/CARL C', 'SUZIE', 1],\n ['ABSORBING MAN/CARL C', 'TALBOT, GLENN', 3],\n ['ABSORBING MAN/CARL C', 'TANAKA, KENJIRO', 1],\n ['ABSORBING MAN/CARL C', 'TARAKIS', 1],\n ['ABSORBING MAN/CARL C', 'THANOS', 1],\n ['ABSORBING MAN/CARL C', 'THENA', 1],\n ['ABSORBING MAN/CARL C', 'THING/BENJAMIN J. GR', 16],\n ['ABSORBING MAN/CARL C', 'THOMPSON, EUGENE FLA', 1],\n ['ABSORBING MAN/CARL C', 'THOR/DR. DONALD BLAK', 33],\n ['ABSORBING MAN/CARL C', 'THUNDERBALL/DR. ELIO', 16],\n ['ABSORBING MAN/CARL C', 'THUNDERSTRIKE/ERIC K', 4],\n ['ABSORBING MAN/CARL C', 'TIGER SHARK/TODD ARL', 2],\n ['ABSORBING MAN/CARL C', 'TITANIA II/MARY SKEE', 27],\n ['ABSORBING MAN/CARL C', 'TRAPSTER/PETER PETRU', 1],\n ['ABSORBING MAN/CARL C', 'TYGER, LORD', 1],\n ['ABSORBING MAN/CARL C', 'TYR', 1],\n ['ABSORBING MAN/CARL C', 'TYRANNUS', 2],\n ['ABSORBING MAN/CARL C', 'ULIK', 2],\n ['ABSORBING MAN/CARL C', 'ULTRON', 10],\n ['ABSORBING MAN/CARL C', 'UROC', 2],\n ['ABSORBING MAN/CARL C', 'VANISHER', 1],\n ['ABSORBING MAN/CARL C', 'VERMIN, LADY', 1],\n ['ABSORBING MAN/CARL C', 'VISION', 5],\n ['ABSORBING MAN/CARL C', 'VIZIER', 5],\n ['ABSORBING MAN/CARL C', 'VOLCANA/MARSHA ROSEN', 10],\n ['ABSORBING MAN/CARL C', 'VOLSTAGG', 6],\n ['ABSORBING MAN/CARL C', 'VULTURE/ADRIAN TOOME', 1],\n ['ABSORBING MAN/CARL C', 'WARLOCK III', 1],\n ['ABSORBING MAN/CARL C', 'WASP/JANET VAN DYNE', 20],\n ['ABSORBING MAN/CARL C', 'WATSON-PARKER, MARY', 2],\n ['ABSORBING MAN/CARL C', 'WEIN, GLYNIS', 1],\n ['ABSORBING MAN/CARL C', 'WEIN, LEN', 1],\n ['ABSORBING MAN/CARL C', 'WHITE QUEEN/EMMA FRO', 1],\n ['ABSORBING MAN/CARL C', 'WILSON, JIM', 2],\n ['ABSORBING MAN/CARL C', 'WIZARD/BENTLEY WITTM', 3],\n ['ABSORBING MAN/CARL C', 'WOLFSBANE/RAHNE SINC', 1],\n ['ABSORBING MAN/CARL C', 'WOLVERINE/LOGAN', 14],\n ['ABSORBING MAN/CARL C', 'WRECKER III/DIRK GAR', 18],\n ['ABSORBING MAN/CARL C', 'X-MAN/NATHAN GREY', 1],\n ['ABSORBING MAN/CARL C', 'YELLOWJACKET II/RITA', 3],\n ['ABSORBING MAN/CARL C', 'YMIR', 1],\n ['ACBA', 'ANALYZER', 1],\n ['ACBA', 'ARCANNA/ARCANNA JONE', 1],\n ['ACBA', 'ARISHEM [CELESTIAL]', 1],\n ['ACBA', 'BEAUTY', 1],\n ['ACBA', 'CHARM', 1],\n ['ACBA', 'DEATH', 1],\n ['ACBA', 'DEATHURGE', 1],\n ['ACBA', 'DR. DRUID/ANTHONY LU', 1],\n ['ACBA', 'DR. SPECTRUM/JOSEPH', 1],\n ['ACBA', 'DR. STRANGE/STEPHEN', 1],\n ['ACBA', 'EDDA', 1],\n ['ACBA', 'EGMA', 1],\n ['ACBA', 'ETERNITY/ADAM QADMON', 1],\n ['ACBA', 'GAEA', 1],\n ['ACBA', 'GALACTUS/GALAN', 1],\n ['ACBA', 'GAMMENON [CELESTIAL]', 1],\n ['ACBA', 'GRONK', 1],\n ['ACBA', 'HELIO', 1],\n ['ACBA', 'HYPERION', 1],\n ['ACBA', 'INFINITY II', 1],\n ['ACBA', 'KRONOS', 1],\n ['ACBA', 'MAELSTROM/MALCOLM ST', 1],\n ['ACBA', 'MAKKARI/MIKE KHARY/I', 1],\n ['ACBA', 'MOONDRAGON/HEATHER D', 1],\n ['ACBA', 'NOVA II/FRANKIE RAYE', 1],\n ['ACBA', 'OBLIVION', 1],\n ['ACBA', 'PHOBIUS', 1],\n ['ACBA', 'QUASAR III/WENDELL V', 1],\n ['ACBA', 'ROMA', 1],\n ['ACBA', 'SERSI/SYLVIA', 1],\n ['ACBA', 'SHAMAN/MICHAEL TWOYO', 1],\n ['ACBA', 'TRUTH', 1],\n ['ACBA', 'UATU', 1],\n ['ACBA', 'WHIZZER II/STANLEY S', 1],\n ['ACHEBE, REVEREND DOC', 'ADAMS, NICOLE NIKKI', 5],\n ['ACHEBE, REVEREND DOC', 'ANT-MAN/DR. HENRY J.', 2],\n ['ACHEBE, REVEREND DOC', \"BLACK PANTHER/T'CHAL\", 11],\n ['ACHEBE, REVEREND DOC', 'CAPTAIN AMERICA', 3],\n ['ACHEBE, REVEREND DOC', 'CLINTON, BILL', 1],\n ['ACHEBE, REVEREND DOC', 'CONSTRICTOR/FRANK PA', 3],\n ['ACHEBE, REVEREND DOC', 'COPYCAT/VANESSA', 3],\n ['ACHEBE, REVEREND DOC', 'CORSAIR', 1],\n ['ACHEBE, REVEREND DOC', 'DEADPOOL/JACK/WADE W', 3],\n ['ACHEBE, REVEREND DOC', 'DIRTY WOLFF', 1],\n ['ACHEBE, REVEREND DOC', 'FIRESTAR/ANGELICA JO', 1],\n ['ACHEBE, REVEREND DOC', 'GAPON, DZHOKHAR', 2],\n ['ACHEBE, REVEREND DOC', 'HYDROMAN/MORRIE BENC', 1],\n ['ACHEBE, REVEREND DOC', 'IRON MAN/TONY STARK', 4],\n ['ACHEBE, REVEREND DOC', 'JARVIS, EDWIN', 1],\n ['ACHEBE, REVEREND DOC', 'JUSTICE II/VANCE AST', 1],\n ['ACHEBE, REVEREND DOC', \"KILLMONGER, ERIC/N'J\", 3],\n ['ACHEBE, REVEREND DOC', 'KLAW/ULYSSES KLAW', 1],\n ['ACHEBE, REVEREND DOC', 'LYNNE, MONICA', 6],\n ['ACHEBE, REVEREND DOC', 'MALICE V/NAKIA', 6],\n ['ACHEBE, REVEREND DOC', 'MCPHAIL, NATALIE', 1],\n ['ACHEBE, REVEREND DOC', 'MEPHISTO', 3],\n ['ACHEBE, REVEREND DOC', 'OKOYE', 4],\n ['ACHEBE, REVEREND DOC', 'PREYY', 2],\n ['ACHEBE, REVEREND DOC', 'QUEEN DIVINE JUSTICE', 1],\n ['ACHEBE, REVEREND DOC', 'RAKIM, SEN. KAMAL', 1],\n ['ACHEBE, REVEREND DOC', 'RAMONDA', 4],\n ['ACHEBE, REVEREND DOC', 'RASPUTIN, LUCIFER', 1],\n ['ACHEBE, REVEREND DOC', 'RICHMOND, DELROY', 1],\n ['ACHEBE, REVEREND DOC', 'ROSS, EVERETT KENNET', 10],\n ['ACHEBE, REVEREND DOC', 'SCARLET WITCH/WANDA', 2],\n ['ACHEBE, REVEREND DOC', 'SHE-HULK/JENNIFER WA', 2],\n ['ACHEBE, REVEREND DOC', \"T'CHAKA\", 2],\n ['ACHEBE, REVEREND DOC', 'TAKU', 2],\n ['ACHEBE, REVEREND DOC', 'TAYLOR, JACK', 1],\n ['ACHEBE, REVEREND DOC', 'THOR/DR. DONALD BLAK', 2],\n ['ACHEBE, REVEREND DOC', 'TORK, SGT.', 6],\n ['ACHEBE, REVEREND DOC', 'TRIATHLON/DELROY GAR', 2],\n ['ACHEBE, REVEREND DOC', 'VINCENT, DANNY', 2],\n ['ACHEBE, REVEREND DOC', 'VISION', 1],\n ['ACHEBE, REVEREND DOC', \"W'KABI\", 1],\n ['ACHEBE, REVEREND DOC', 'WASP/JANET VAN DYNE', 2],\n ['ACHEBE, REVEREND DOC', 'WHITE WOLF/HUNTER', 6],\n ['ACHEBE, REVEREND DOC', 'WONDER MAN/SIMON WIL', 1],\n ['ACHEBE, REVEREND DOC', 'ZURI', 7],\n ['ACHILLES', 'AGAMEMNON', 1],\n ['ACHILLES', 'HECTOR', 1],\n ['ACHILLES', 'HERA/AUGUSTINE JONES', 1],\n ['ACHILLES', 'PROMETHEUS [OLYMPIAN', 1],\n ['ACHILLES', 'ULYSSES', 1],\n ['ACHILLES II/HELMUT', 'AGAMEMNON III/', 9],\n ['ACHILLES II/HELMUT', 'AJAX', 11],\n ['ACHILLES II/HELMUT', 'ANDREWS, DARYL TROOP', 1],\n ['ACHILLES II/HELMUT', 'ANIMATOR II/', 1],\n ['ACHILLES II/HELMUT', 'ARABIAN KNIGHT/ABDUL', 1],\n ['ACHILLES II/HELMUT', 'ATALANTA', 10],\n ['ACHILLES II/HELMUT', 'BANNER, BETTY ROSS T', 11],\n ['ACHILLES II/HELMUT', 'BARRIER/', 1],\n ['ACHILLES II/HELMUT', 'BERENGHETTI, MICHAEL', 1],\n ['ACHILLES II/HELMUT', 'BERENGHETTI, SUSAN', 2],\n ['ACHILLES II/HELMUT', 'CAGE, LUKE/CARL LUCA', 1],\n ['ACHILLES II/HELMUT', 'CAPTAIN AMERICA', 1],\n ['ACHILLES II/HELMUT', 'CASSIOPEIA', 4],\n ['ACHILLES II/HELMUT', 'CINDER/', 1],\n ['ACHILLES II/HELMUT', 'DELPHI', 7],\n ['ACHILLES II/HELMUT', 'DOC SAMSON/DR. LEONA', 2],\n ...]"
     },
     "execution_count": 21,
     "metadata": {},
     "output_type": "execute_result"
    }
   ],
   "source": [
    "# Sort the pair of heroes in each record (since the graph is undirected, we are interested in grouping together pair of names, irrespectively of their order)\n",
    "hero_network_df[[\"hero1\", \"hero2\"]] = np.sort(hero_network_df[[\"hero1\", \"hero2\"]], axis=1)\n",
    "\n",
    "# Group by pair of names and retrieve group size\n",
    "heroes_pairs = (hero_network_df.groupby([\"hero1\", \"hero2\"]).size().reset_index().values.tolist())\n",
    "heroes_pairs"
   ],
   "metadata": {
    "collapsed": false
   }
  },
  {
   "cell_type": "code",
   "execution_count": 22,
   "outputs": [],
   "source": [
    "# Build weighted edges\n",
    "heroes_collaboration = []\n",
    "\n",
    "for x in heroes_pairs:\n",
    "    for i in range(x[2]):\n",
    "        heroes_collaboration.append(tuple([x[0], x[1], round(1/x[2], 4)]))"
   ],
   "metadata": {
    "collapsed": false
   }
  },
  {
   "cell_type": "code",
   "execution_count": 23,
   "outputs": [],
   "source": [
    "# Add edges to graph\n",
    "G1.add_weighted_edges_from(heroes_collaboration)"
   ],
   "metadata": {
    "collapsed": false
   }
  },
  {
   "cell_type": "markdown",
   "source": [
    "### Second graph: G2 - Hero appearing in a specific comic"
   ],
   "metadata": {
    "collapsed": false
   }
  },
  {
   "cell_type": "markdown",
   "source": [
    "The graph **G2** should be **undirected** and **unweighted**.\n",
    "\n",
    "**Nodes**: *heroes* and *comics*\n",
    "**Edge** between node *Hero_A* and *Comic_A*: the hero has appeared in that specific comic"
   ],
   "metadata": {
    "collapsed": false
   }
  },
  {
   "cell_type": "code",
   "execution_count": 24,
   "outputs": [],
   "source": [
    "# NetworkX Graph: base undirected graph\n",
    "G2 = nx.Graph()"
   ],
   "metadata": {
    "collapsed": false
   }
  },
  {
   "cell_type": "code",
   "execution_count": 25,
   "outputs": [],
   "source": [
    "# Add nodes with \"type\" attribute to graph\n",
    "G2.add_nodes_from([(x[0], {\"type\": x[1]}) for x in nodes_df.to_records(index=False)])"
   ],
   "metadata": {
    "collapsed": false
   }
  },
  {
   "cell_type": "code",
   "execution_count": 26,
   "outputs": [],
   "source": [
    "# Add edges between heroes and comics to graph\n",
    "G2.add_edges_from(list(edges_df.to_records(index=False)))"
   ],
   "metadata": {
    "collapsed": false
   }
  },
  {
   "cell_type": "markdown",
   "source": [
    "# 2. Backend Implementation"
   ],
   "metadata": {
    "collapsed": false
   }
  },
  {
   "cell_type": "markdown",
   "source": [
    "# 3. Frontend Implementation"
   ],
   "metadata": {
    "collapsed": false
   }
  }
 ],
 "metadata": {
  "kernelspec": {
   "display_name": "Python 3",
   "language": "python",
   "name": "python3"
  },
  "language_info": {
   "codemirror_mode": {
    "name": "ipython",
    "version": 3
   },
   "file_extension": ".py",
   "mimetype": "text/x-python",
   "name": "python",
   "nbconvert_exporter": "python",
   "pygments_lexer": "ipython3",
   "version": "3.7.4"
  }
 },
 "nbformat": 4,
 "nbformat_minor": 2
}
