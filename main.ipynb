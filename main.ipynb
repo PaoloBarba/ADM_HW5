{
 "cells": [
  {
   "cell_type": "markdown",
   "metadata": {
    "collapsed": false
   },
   "source": [
    "# ADM - HW5 - The Marvel Universe!"
   ]
  },
  {
   "cell_type": "markdown",
   "metadata": {
    "collapsed": false
   },
   "source": [
    "## Libraries & Setup"
   ]
  },
  {
   "cell_type": "code",
   "execution_count": 3,
   "metadata": {
    "collapsed": false
   },
   "outputs": [],
   "source": [
    "import networkx as nx   # Network analysis\n",
    "\n",
    "import pandas as pd   # Data manipulation and analysis\n",
    "import numpy as np    # Scientific Computing\n",
    "\n",
    "import matplotlib.pyplot as plt   # Visualization\n",
    "\n",
    "import warnings\n",
    "warnings.filterwarnings('ignore')\n",
    "\n",
    "#import functions"
   ]
  },
  {
   "cell_type": "markdown",
   "metadata": {
    "collapsed": false
   },
   "source": [
    "# 1. Data"
   ]
  },
  {
   "cell_type": "markdown",
   "metadata": {
    "collapsed": false
   },
   "source": [
    "## Data Preprocessing"
   ]
  },
  {
   "cell_type": "code",
   "execution_count": 4,
   "metadata": {
    "collapsed": false
   },
   "outputs": [],
   "source": [
    "nodes_df = pd.read_csv(\"nodes.csv\")\n",
    "edges_df = pd.read_csv(\"edges.csv\")\n",
    "hero_network_df = pd.read_csv(\"hero-network.csv\")"
   ]
  },
  {
   "cell_type": "code",
   "execution_count": 4,
   "metadata": {
    "collapsed": false
   },
   "outputs": [
    {
     "data": {
      "text/html": [
       "<div>\n",
       "<style scoped>\n",
       "    .dataframe tbody tr th:only-of-type {\n",
       "        vertical-align: middle;\n",
       "    }\n",
       "\n",
       "    .dataframe tbody tr th {\n",
       "        vertical-align: top;\n",
       "    }\n",
       "\n",
       "    .dataframe thead th {\n",
       "        text-align: right;\n",
       "    }\n",
       "</style>\n",
       "<table border=\"1\" class=\"dataframe\">\n",
       "  <thead>\n",
       "    <tr style=\"text-align: right;\">\n",
       "      <th></th>\n",
       "      <th>node</th>\n",
       "      <th>type</th>\n",
       "    </tr>\n",
       "  </thead>\n",
       "  <tbody>\n",
       "    <tr>\n",
       "      <th>0</th>\n",
       "      <td>2001 10</td>\n",
       "      <td>comic</td>\n",
       "    </tr>\n",
       "    <tr>\n",
       "      <th>1</th>\n",
       "      <td>2001 8</td>\n",
       "      <td>comic</td>\n",
       "    </tr>\n",
       "    <tr>\n",
       "      <th>2</th>\n",
       "      <td>2001 9</td>\n",
       "      <td>comic</td>\n",
       "    </tr>\n",
       "    <tr>\n",
       "      <th>3</th>\n",
       "      <td>24-HOUR MAN/EMMANUEL</td>\n",
       "      <td>hero</td>\n",
       "    </tr>\n",
       "    <tr>\n",
       "      <th>4</th>\n",
       "      <td>3-D MAN/CHARLES CHAN</td>\n",
       "      <td>hero</td>\n",
       "    </tr>\n",
       "    <tr>\n",
       "      <th>...</th>\n",
       "      <td>...</td>\n",
       "      <td>...</td>\n",
       "    </tr>\n",
       "    <tr>\n",
       "      <th>19085</th>\n",
       "      <td>ZOTA, CARLO</td>\n",
       "      <td>hero</td>\n",
       "    </tr>\n",
       "    <tr>\n",
       "      <th>19086</th>\n",
       "      <td>ZOTA</td>\n",
       "      <td>hero</td>\n",
       "    </tr>\n",
       "    <tr>\n",
       "      <th>19087</th>\n",
       "      <td>ZURAS</td>\n",
       "      <td>hero</td>\n",
       "    </tr>\n",
       "    <tr>\n",
       "      <th>19088</th>\n",
       "      <td>ZURI</td>\n",
       "      <td>hero</td>\n",
       "    </tr>\n",
       "    <tr>\n",
       "      <th>19089</th>\n",
       "      <td>ZZZAX</td>\n",
       "      <td>hero</td>\n",
       "    </tr>\n",
       "  </tbody>\n",
       "</table>\n",
       "<p>19090 rows × 2 columns</p>\n",
       "</div>"
      ],
      "text/plain": [
       "                       node   type\n",
       "0                   2001 10  comic\n",
       "1                    2001 8  comic\n",
       "2                    2001 9  comic\n",
       "3      24-HOUR MAN/EMMANUEL   hero\n",
       "4      3-D MAN/CHARLES CHAN   hero\n",
       "...                     ...    ...\n",
       "19085           ZOTA, CARLO   hero\n",
       "19086                  ZOTA   hero\n",
       "19087                 ZURAS   hero\n",
       "19088                  ZURI   hero\n",
       "19089                 ZZZAX   hero\n",
       "\n",
       "[19090 rows x 2 columns]"
      ]
     },
     "execution_count": 4,
     "metadata": {},
     "output_type": "execute_result"
    }
   ],
   "source": [
    "nodes_df"
   ]
  },
  {
   "cell_type": "code",
   "execution_count": 5,
   "metadata": {
    "collapsed": false
   },
   "outputs": [
    {
     "data": {
      "text/html": [
       "<div>\n",
       "<style scoped>\n",
       "    .dataframe tbody tr th:only-of-type {\n",
       "        vertical-align: middle;\n",
       "    }\n",
       "\n",
       "    .dataframe tbody tr th {\n",
       "        vertical-align: top;\n",
       "    }\n",
       "\n",
       "    .dataframe thead th {\n",
       "        text-align: right;\n",
       "    }\n",
       "</style>\n",
       "<table border=\"1\" class=\"dataframe\">\n",
       "  <thead>\n",
       "    <tr style=\"text-align: right;\">\n",
       "      <th></th>\n",
       "      <th>hero</th>\n",
       "      <th>comic</th>\n",
       "    </tr>\n",
       "  </thead>\n",
       "  <tbody>\n",
       "    <tr>\n",
       "      <th>0</th>\n",
       "      <td>24-HOUR MAN/EMMANUEL</td>\n",
       "      <td>AA2 35</td>\n",
       "    </tr>\n",
       "    <tr>\n",
       "      <th>1</th>\n",
       "      <td>3-D MAN/CHARLES CHAN</td>\n",
       "      <td>AVF 4</td>\n",
       "    </tr>\n",
       "    <tr>\n",
       "      <th>2</th>\n",
       "      <td>3-D MAN/CHARLES CHAN</td>\n",
       "      <td>AVF 5</td>\n",
       "    </tr>\n",
       "    <tr>\n",
       "      <th>3</th>\n",
       "      <td>3-D MAN/CHARLES CHAN</td>\n",
       "      <td>COC 1</td>\n",
       "    </tr>\n",
       "    <tr>\n",
       "      <th>4</th>\n",
       "      <td>3-D MAN/CHARLES CHAN</td>\n",
       "      <td>H2 251</td>\n",
       "    </tr>\n",
       "    <tr>\n",
       "      <th>...</th>\n",
       "      <td>...</td>\n",
       "      <td>...</td>\n",
       "    </tr>\n",
       "    <tr>\n",
       "      <th>96099</th>\n",
       "      <td>ZZZAX</td>\n",
       "      <td>H2 326</td>\n",
       "    </tr>\n",
       "    <tr>\n",
       "      <th>96100</th>\n",
       "      <td>ZZZAX</td>\n",
       "      <td>H2 327</td>\n",
       "    </tr>\n",
       "    <tr>\n",
       "      <th>96101</th>\n",
       "      <td>ZZZAX</td>\n",
       "      <td>M/CP 8/4</td>\n",
       "    </tr>\n",
       "    <tr>\n",
       "      <th>96102</th>\n",
       "      <td>ZZZAX</td>\n",
       "      <td>PM 47</td>\n",
       "    </tr>\n",
       "    <tr>\n",
       "      <th>96103</th>\n",
       "      <td>ZZZAX</td>\n",
       "      <td>WCA2 12</td>\n",
       "    </tr>\n",
       "  </tbody>\n",
       "</table>\n",
       "<p>96104 rows × 2 columns</p>\n",
       "</div>"
      ],
      "text/plain": [
       "                       hero     comic\n",
       "0      24-HOUR MAN/EMMANUEL    AA2 35\n",
       "1      3-D MAN/CHARLES CHAN     AVF 4\n",
       "2      3-D MAN/CHARLES CHAN     AVF 5\n",
       "3      3-D MAN/CHARLES CHAN     COC 1\n",
       "4      3-D MAN/CHARLES CHAN    H2 251\n",
       "...                     ...       ...\n",
       "96099                 ZZZAX    H2 326\n",
       "96100                 ZZZAX    H2 327\n",
       "96101                 ZZZAX  M/CP 8/4\n",
       "96102                 ZZZAX     PM 47\n",
       "96103                 ZZZAX   WCA2 12\n",
       "\n",
       "[96104 rows x 2 columns]"
      ]
     },
     "execution_count": 5,
     "metadata": {},
     "output_type": "execute_result"
    }
   ],
   "source": [
    "edges_df"
   ]
  },
  {
   "cell_type": "code",
   "execution_count": 6,
   "metadata": {
    "collapsed": false
   },
   "outputs": [
    {
     "data": {
      "text/html": [
       "<div>\n",
       "<style scoped>\n",
       "    .dataframe tbody tr th:only-of-type {\n",
       "        vertical-align: middle;\n",
       "    }\n",
       "\n",
       "    .dataframe tbody tr th {\n",
       "        vertical-align: top;\n",
       "    }\n",
       "\n",
       "    .dataframe thead th {\n",
       "        text-align: right;\n",
       "    }\n",
       "</style>\n",
       "<table border=\"1\" class=\"dataframe\">\n",
       "  <thead>\n",
       "    <tr style=\"text-align: right;\">\n",
       "      <th></th>\n",
       "      <th>hero1</th>\n",
       "      <th>hero2</th>\n",
       "    </tr>\n",
       "  </thead>\n",
       "  <tbody>\n",
       "    <tr>\n",
       "      <th>0</th>\n",
       "      <td>LITTLE, ABNER</td>\n",
       "      <td>PRINCESS ZANDA</td>\n",
       "    </tr>\n",
       "    <tr>\n",
       "      <th>1</th>\n",
       "      <td>LITTLE, ABNER</td>\n",
       "      <td>BLACK PANTHER/T'CHAL</td>\n",
       "    </tr>\n",
       "    <tr>\n",
       "      <th>2</th>\n",
       "      <td>BLACK PANTHER/T'CHAL</td>\n",
       "      <td>PRINCESS ZANDA</td>\n",
       "    </tr>\n",
       "    <tr>\n",
       "      <th>3</th>\n",
       "      <td>LITTLE, ABNER</td>\n",
       "      <td>PRINCESS ZANDA</td>\n",
       "    </tr>\n",
       "    <tr>\n",
       "      <th>4</th>\n",
       "      <td>LITTLE, ABNER</td>\n",
       "      <td>BLACK PANTHER/T'CHAL</td>\n",
       "    </tr>\n",
       "    <tr>\n",
       "      <th>...</th>\n",
       "      <td>...</td>\n",
       "      <td>...</td>\n",
       "    </tr>\n",
       "    <tr>\n",
       "      <th>574462</th>\n",
       "      <td>COLOSSUS II/PETER RA</td>\n",
       "      <td>CALLISTO</td>\n",
       "    </tr>\n",
       "    <tr>\n",
       "      <th>574463</th>\n",
       "      <td>CALLISTO</td>\n",
       "      <td>ROGUE /</td>\n",
       "    </tr>\n",
       "    <tr>\n",
       "      <th>574464</th>\n",
       "      <td>CALLISTO</td>\n",
       "      <td>CALIBAN/</td>\n",
       "    </tr>\n",
       "    <tr>\n",
       "      <th>574465</th>\n",
       "      <td>CALIBAN/</td>\n",
       "      <td>ROGUE /</td>\n",
       "    </tr>\n",
       "    <tr>\n",
       "      <th>574466</th>\n",
       "      <td>HULK/DR. ROBERT BRUC</td>\n",
       "      <td>MARKS, DR. SHIELA</td>\n",
       "    </tr>\n",
       "  </tbody>\n",
       "</table>\n",
       "<p>574467 rows × 2 columns</p>\n",
       "</div>"
      ],
      "text/plain": [
       "                       hero1                 hero2\n",
       "0              LITTLE, ABNER        PRINCESS ZANDA\n",
       "1              LITTLE, ABNER  BLACK PANTHER/T'CHAL\n",
       "2       BLACK PANTHER/T'CHAL        PRINCESS ZANDA\n",
       "3              LITTLE, ABNER        PRINCESS ZANDA\n",
       "4              LITTLE, ABNER  BLACK PANTHER/T'CHAL\n",
       "...                      ...                   ...\n",
       "574462  COLOSSUS II/PETER RA              CALLISTO\n",
       "574463              CALLISTO               ROGUE /\n",
       "574464              CALLISTO              CALIBAN/\n",
       "574465              CALIBAN/               ROGUE /\n",
       "574466  HULK/DR. ROBERT BRUC     MARKS, DR. SHIELA\n",
       "\n",
       "[574467 rows x 2 columns]"
      ]
     },
     "execution_count": 6,
     "metadata": {},
     "output_type": "execute_result"
    }
   ],
   "source": [
    "hero_network_df"
   ]
  },
  {
   "cell_type": "markdown",
   "metadata": {
    "collapsed": false
   },
   "source": [
    "For the data to be *consistent* across all the dataframes, **all hero names** appearing in the *hero_network* dataframe should **also be found** in the *edges* dataframe"
   ]
  },
  {
   "cell_type": "code",
   "execution_count": 6,
   "metadata": {
    "collapsed": false
   },
   "outputs": [],
   "source": [
    "# Retrieve heroes' names appearing in \"hero_network\" dataframe, but not in \"edges\" dataframe\n",
    "def check_inconsistency():\n",
    "    names = set(hero_network_df.hero1).union(set(hero_network_df.hero2)).difference(set(edges_df.hero))\n",
    "    out = names if len(names)!=0 else \"No inconsistencies found!\"\n",
    "    return out"
   ]
  },
  {
   "cell_type": "code",
   "execution_count": 4,
   "metadata": {
    "collapsed": false
   },
   "outputs": [
    {
     "data": {
      "text/plain": [
       "['KLIGGER/SEN. EUGENE ',\n",
       " 'MAN-SPIDER | MUTANT ',\n",
       " 'SHADOWCAT/KATHERINE ',\n",
       " 'MANIKIN/DR. WHITMAN ',\n",
       " 'FURY, COL. NICHOLAS ',\n",
       " 'MODULAR MAN/STEPHEN ',\n",
       " 'SCARLET WITCH/WANDA ',\n",
       " 'ROOSEVELT, FRANKLIN ',\n",
       " 'MAGNETO/MAGNUS/ERIC ',\n",
       " 'MARTINELLI, VINCENT ']"
      ]
     },
     "execution_count": 4,
     "metadata": {},
     "output_type": "execute_result"
    }
   ],
   "source": [
    "# Some inconsistency examples\n",
    "list(check_inconsistency())[:10]"
   ]
  },
  {
   "cell_type": "markdown",
   "metadata": {
    "collapsed": false
   },
   "source": [
    "**Inconsistency reason 1:** some heroes' names in the *hero_network* dataframe have **extra spaces** at the end of their names"
   ]
  },
  {
   "cell_type": "code",
   "execution_count": 7,
   "metadata": {
    "collapsed": false
   },
   "outputs": [],
   "source": [
    "hero_network_df.hero1 = [x.strip() for x in hero_network_df.hero1]\n",
    "hero_network_df.hero2 = [x.strip() for x in hero_network_df.hero2]"
   ]
  },
  {
   "cell_type": "code",
   "execution_count": 6,
   "metadata": {
    "collapsed": false
   },
   "outputs": [
    {
     "data": {
      "text/plain": [
       "{'BLADE', 'SABRE', 'SPIDER-MAN/PETER PAR'}"
      ]
     },
     "execution_count": 6,
     "metadata": {},
     "output_type": "execute_result"
    }
   ],
   "source": [
    "check_inconsistency()"
   ]
  },
  {
   "cell_type": "markdown",
   "metadata": {
    "collapsed": false
   },
   "source": [
    "**Inconsistency reason 2:** some heroes in the *hero_network* dataframe **are missing a \"/\"** at the end of their names. In fact, *BLADE* and *SABRE* are labelled as **comics** in the *nodes* dataframe, while *BLADE/* and *SABRE/* represent the actual **heroes**"
   ]
  },
  {
   "cell_type": "code",
   "execution_count": 8,
   "metadata": {
    "collapsed": false
   },
   "outputs": [],
   "source": [
    "hero_network_df.loc[hero_network_df[\"hero1\"] == \"BLADE\", \"hero1\"] = \"BLADE/\"\n",
    "hero_network_df.loc[hero_network_df[\"hero2\"] == \"BLADE\", \"hero2\"] = \"BLADE/\"\n",
    "hero_network_df.loc[hero_network_df[\"hero1\"] == \"SABRE\", \"hero1\"] = \"SABRE/\"\n",
    "hero_network_df.loc[hero_network_df[\"hero2\"] == \"SABRE\", \"hero2\"] = \"SABRE/\""
   ]
  },
  {
   "cell_type": "code",
   "execution_count": 8,
   "metadata": {
    "collapsed": false
   },
   "outputs": [
    {
     "data": {
      "text/plain": [
       "{'SPIDER-MAN/PETER PAR'}"
      ]
     },
     "execution_count": 8,
     "metadata": {},
     "output_type": "execute_result"
    }
   ],
   "source": [
    "check_inconsistency()"
   ]
  },
  {
   "cell_type": "markdown",
   "metadata": {
    "collapsed": false
   },
   "source": [
    "**Inconsistency reason 3:** the hero name *\"SPIDER-MAN/PETER PARKER\"* in the *edges* dataframe has been changed to *\"SPIDER-MAN/PETER PAR\"* the *hero_network* dataframe"
   ]
  },
  {
   "cell_type": "code",
   "execution_count": 9,
   "metadata": {
    "collapsed": false
   },
   "outputs": [],
   "source": [
    "hero_network_df.loc[hero_network_df[\"hero1\"] == \"SPIDER-MAN/PETER PAR\", \"hero1\"] = \"SPIDER-MAN/PETER PARKER\"\n",
    "hero_network_df.loc[hero_network_df[\"hero2\"] == \"SPIDER-MAN/PETER PAR\", \"hero2\"] = \"SPIDER-MAN/PETER PARKER\""
   ]
  },
  {
   "cell_type": "code",
   "execution_count": 10,
   "metadata": {
    "collapsed": false
   },
   "outputs": [
    {
     "data": {
      "text/plain": [
       "'No inconsistencies found!'"
      ]
     },
     "execution_count": 10,
     "metadata": {},
     "output_type": "execute_result"
    }
   ],
   "source": [
    "check_inconsistency()"
   ]
  },
  {
   "cell_type": "markdown",
   "metadata": {
    "collapsed": false
   },
   "source": [
    "We also remove entries of the *hero_network* dataframe having the same hero in **both columns** (in order to avoid **self-loops** in the graph)"
   ]
  },
  {
   "cell_type": "code",
   "execution_count": 9,
   "metadata": {
    "collapsed": false
   },
   "outputs": [
    {
     "data": {
      "text/plain": [
       "574467"
      ]
     },
     "execution_count": 9,
     "metadata": {},
     "output_type": "execute_result"
    }
   ],
   "source": [
    "# With self-loop records\n",
    "len(hero_network_df)"
   ]
  },
  {
   "cell_type": "code",
   "execution_count": 11,
   "metadata": {
    "collapsed": false
   },
   "outputs": [],
   "source": [
    "hero_network_df.drop(hero_network_df[hero_network_df['hero1'] == hero_network_df['hero2']].index, inplace = True)"
   ]
  },
  {
   "cell_type": "code",
   "execution_count": 11,
   "metadata": {
    "collapsed": false
   },
   "outputs": [
    {
     "data": {
      "text/plain": [
       "572235"
      ]
     },
     "execution_count": 11,
     "metadata": {},
     "output_type": "execute_result"
    }
   ],
   "source": [
    "# Without self-loop records\n",
    "len(hero_network_df)"
   ]
  },
  {
   "cell_type": "markdown",
   "metadata": {
    "collapsed": false
   },
   "source": [
    "Finally, we identify and correct the **spelling mistake** in the hero name *\"SPIDER-MAN/PETER PARKER\"* present in the *nodes* dataframe (listed as *\"SPIDER-MAN/PETER PARKERKER\"*)"
   ]
  },
  {
   "cell_type": "code",
   "execution_count": 12,
   "metadata": {
    "collapsed": false
   },
   "outputs": [],
   "source": [
    "nodes_df.loc[nodes_df[\"node\"] == \"SPIDER-MAN/PETER PARKERKER\", \"node\"] = \"SPIDER-MAN/PETER PARKER\""
   ]
  },
  {
   "cell_type": "markdown",
   "metadata": {
    "collapsed": false
   },
   "source": [
    "## Graphs setup"
   ]
  },
  {
   "cell_type": "markdown",
   "metadata": {
    "collapsed": false
   },
   "source": [
    "### First graph: G1 - Heroes appearing in the same comic together"
   ]
  },
  {
   "cell_type": "markdown",
   "source": [
    "The graph **G1** should be **undirected** and **weighted**.\n",
    "\n",
    "* **Nodes**: *heroes*\n",
    "\n",
    "* **Edge** between node *Hero_A* and *Hero_B*: the heroes have appeared in the same comic together\n",
    "\n",
    "* **Edge weight**: the *reciprocal* of the *number of collaborations* of the two heroes\n",
    "\n",
    "$$w((Hero\\_A, Hero\\_B)) = \\frac{1}{num\\_collaborations \\; of \\; Hero\\_A \\; and \\; Hero\\_B}$$"
   ],
   "metadata": {
    "collapsed": false
   }
  },
  {
   "cell_type": "code",
   "execution_count": 10,
   "outputs": [],
   "source": [
    "# NetworkX Graph: base undirected graph\n",
    "G1 = nx.Graph()"
   ],
   "metadata": {
    "collapsed": false
   }
  },
  {
   "cell_type": "code",
   "execution_count": 14,
   "metadata": {
    "collapsed": false
   },
   "outputs": [],
   "source": [
    "# Sort the pair of heroes in each record (since the graph is undirected, we are interested in grouping together pair of names, irrespectively of their order)\n",
    "hero_network_df[[\"hero1\", \"hero2\"]] = np.sort(hero_network_df[[\"hero1\", \"hero2\"]], axis=1)\n",
    "\n",
    "# Group by pair of names and retrieve group size\n",
    "heroes_pairs = (hero_network_df.groupby([\"hero1\", \"hero2\"]).size().reset_index().values.tolist())"
   ]
  },
  {
   "cell_type": "code",
   "execution_count": 15,
   "metadata": {
    "collapsed": false
   },
   "outputs": [
    {
     "data": {
      "text/plain": [
       "[['24-HOUR MAN/EMMANUEL', 'FROST, CARMILLA', 1],\n",
       " ['24-HOUR MAN/EMMANUEL', \"G'RATH\", 1],\n",
       " ['24-HOUR MAN/EMMANUEL', 'KILLRAVEN/JONATHAN R', 1],\n",
       " ['24-HOUR MAN/EMMANUEL', \"M'SHULLA\", 1],\n",
       " ['24-HOUR MAN/EMMANUEL', 'OLD SKULL', 1],\n",
       " ['3-D MAN/CHARLES CHAN', 'AJAK/TECUMOTZIN [ETE', 1],\n",
       " ['3-D MAN/CHARLES CHAN', 'ANGEL/WARREN KENNETH', 1],\n",
       " ['3-D MAN/CHARLES CHAN', 'ANT-MAN II/SCOTT HAR', 1],\n",
       " ['3-D MAN/CHARLES CHAN', 'ANT-MAN/DR. HENRY J.', 2],\n",
       " ['3-D MAN/CHARLES CHAN', 'ARABIAN KNIGHT/ABDUL', 1]]"
      ]
     },
     "execution_count": 15,
     "metadata": {},
     "output_type": "execute_result"
    }
   ],
   "source": [
    "# Some pair of heroes and their number of collaborations\n",
    "heroes_pairs[:10]"
   ]
  },
  {
   "cell_type": "code",
   "execution_count": 12,
   "outputs": [],
   "source": [
    "# Build weighted edges\n",
    "heroes_collaboration = []\n",
    "\n",
    "for x in heroes_pairs:\n",
    "        heroes_collaboration.append(tuple([x[0], x[1], round(1/x[2], 4)]))"
   ],
   "metadata": {
    "collapsed": false
   }
  },
  {
   "cell_type": "code",
   "execution_count": 17,
   "metadata": {
    "collapsed": false
   },
   "outputs": [],
   "source": [
    "# Add edges to graph\n",
    "G1.add_weighted_edges_from(heroes_collaboration)"
   ]
  },
  {
   "cell_type": "markdown",
   "metadata": {
    "collapsed": false
   },
   "source": [
    "### Second graph: G2 - Hero appearing in a specific comic"
   ]
  },
  {
   "cell_type": "markdown",
   "metadata": {
    "collapsed": false
   },
   "source": [
    "The graph **G2** should be **undirected** and **unweighted**.\n",
    "\n",
    "* **Nodes**: *heroes* and *comics*\n",
    "\n",
    "* **Edge** between node *Hero_A* and *Comic_A*: the hero has appeared in that specific comic"
   ]
  },
  {
   "cell_type": "code",
   "execution_count": 20,
   "metadata": {
    "collapsed": false
   },
   "outputs": [],
   "source": [
    "# NetworkX Graph: base undirected graph\n",
    "G2 = nx.Graph()"
   ]
  },
  {
   "cell_type": "code",
   "execution_count": 21,
   "metadata": {
    "collapsed": false
   },
   "outputs": [],
   "source": [
    "# Add nodes with \"type\" attribute to graph\n",
    "G2.add_nodes_from([(x[0], {\"type\": x[1]}) for x in nodes_df.to_records(index=False)])"
   ]
  },
  {
   "cell_type": "code",
   "execution_count": 22,
   "metadata": {
    "collapsed": false
   },
   "outputs": [],
   "source": [
    "# Add edges between heroes and comics to graph\n",
    "G2.add_edges_from(list(edges_df.to_records(index=False)))"
   ]
  },
  {
   "cell_type": "markdown",
   "metadata": {
    "collapsed": false
   },
   "source": [
    "# 2. Backend Implementation"
   ]
  },
  {
   "attachments": {},
   "cell_type": "markdown",
   "metadata": {},
   "source": [
    "## Functionality 1"
   ]
  },
  {
   "cell_type": "code",
   "execution_count": 18,
   "metadata": {},
   "outputs": [],
   "source": [
    "# Function that returns a list of top N heroes who have appeared in the most number of comics\n",
    "def top_n(N = -1):\n",
    "    # dictionary of the top N heros based on their degree in Graph 2 (number of apparision in comics)\n",
    "    top_heros = sorted(dict(G2.degree()).items(), key=lambda x:x[1] , reverse = True)[:N]\n",
    "    top_list  = []\n",
    "    for hero in top_heros:            # Loop over the top heros\n",
    "        top_list.append(hero[0])      # Append the hero name\n",
    "    return top_list\n"
   ]
  },
  {
   "cell_type": "code",
   "execution_count": 20,
   "metadata": {},
   "outputs": [],
   "source": [
    "# Function that returns number of nodes for a given graph \n",
    "def Number_of_nodes(G, type : int , N = -1 ):\n",
    "    if type == 1:\n",
    "        G = G.subgraph(top_n(N))    # Create the subgraph of the top N heros\n",
    "        return G.number_of_nodes()  # returns the number of nodes\n",
    "    else:\n",
    "        G = G.edge_subgraph(G.edges(top_n(N)))  # Create the subgraph that contains the top N heros\n",
    "        number_of_nodes_comic = G.subgraph(list(edges_df['comic'].values)).number_of_nodes()\n",
    "        number_of_nodes_hero  = G.subgraph(list(edges_df['hero'].values)).number_of_nodes()\n",
    "        return number_of_nodes_comic , number_of_nodes_hero"
   ]
  },
  {
   "cell_type": "code",
   "execution_count": 110,
   "metadata": {},
   "outputs": [],
   "source": [
    "# Function that returns the number of collaborations for Graph 1\n",
    "def Number_of_collaboration(G , type: int , N = -1 ):\n",
    "    if type != 1:\n",
    "        raise Exception(\"Only valid fot type 1\")\n",
    "    G = G.subgraph(top_n(N)) \n",
    "    return G.degree()"
   ]
  },
  {
   "cell_type": "code",
   "execution_count": 23,
   "metadata": {},
   "outputs": [],
   "source": [
    "# Function that returns the number of hero for a given comic\n",
    "def Number_of_hero_for_each_comic(G , type: int , N = -1 ):\n",
    "    if type != 2:\n",
    "        raise Exception(\"Only valid for type 2\")\n",
    "    G = G.edge_subgraph(G.edges(top_n(N)))\n",
    "    comics = list(edges_df['comic'].values)  # list of all the comics\n",
    "    return G.degree(comics)                  # Degree distibution of each comic ( how many heros appear for a given comic)"
   ]
  },
  {
   "cell_type": "code",
   "execution_count": 24,
   "metadata": {},
   "outputs": [],
   "source": [
    "# Function that returns the density of a graph\n",
    "def Density(G, type : int , N = -1):\n",
    "    if type == 1:\n",
    "        G = G.subgraph(top_n(N))\n",
    "    else: \n",
    "        G = G.edge_subgraph(G.edges(top_n(N)))\n",
    "    return nx.density(G)\n",
    "    "
   ]
  },
  {
   "cell_type": "code",
   "execution_count": 26,
   "metadata": {},
   "outputs": [],
   "source": [
    "# Function that return the degree distribution of a graph\n",
    "def degree_distribution(G , type: int , N = -1):\n",
    "    if type == 1:\n",
    "        G = G.subgraph(top_n(N))\n",
    "    else: \n",
    "        G = G.edge_subgraph(G.edges(top_n(N)))\n",
    "    dist  = sorted(( d for n , d in G.degree()), reverse=True)\n",
    "    return dist"
   ]
  },
  {
   "cell_type": "code",
   "execution_count": 27,
   "metadata": {},
   "outputs": [],
   "source": [
    "# Function that returns the average degree of a graph\n",
    "def average_degree(G, type: int , N = -1 ):\n",
    "    if type == 1:\n",
    "        G = G.subgraph(top_n(N))\n",
    "    else: \n",
    "        G = G.edge_subgraph(G.edges(top_n(N)))\n",
    "    avg = np.mean(degree_distribution(G , type , N )) # Compute the mean of the degree of each node\n",
    "    return avg"
   ]
  },
  {
   "cell_type": "code",
   "execution_count": 28,
   "metadata": {},
   "outputs": [],
   "source": [
    "# Function that returns the hubs of a graph\n",
    "def Hubs( G , type: int, N = -1):\n",
    "    if type == 1:\n",
    "        G = G.subgraph(top_n(N))\n",
    "    else: \n",
    "        G = G.edge_subgraph(G.edges(top_n(N)))\n",
    "\n",
    "    dist = degree_distribution(G , type , N )    # degree distribution\n",
    "\n",
    "    threshold = np.quantile( dist, .95)          # value grater than 95% of all the degree \n",
    "\n",
    "    hubs = {}                                    # dictionary of the hubs of the network\n",
    "    \n",
    "    for nodes , degree in G.degree():            # loop over the nodes\n",
    "        if degree >= threshold:                  # check if is greater than the threshold\n",
    "            hubs[f\"{nodes}\"] = degree            # Update the hubs dictionary\n",
    "    return hubs"
   ]
  },
  {
   "cell_type": "code",
   "execution_count": 29,
   "metadata": {},
   "outputs": [],
   "source": [
    "# Function that return if a Network is sparse or dense\n",
    "def Sparse_or_dense( G , type : int , N = -1):\n",
    "    if type == 1:\n",
    "        G = G.subgraph(top_n(N))\n",
    "    else: \n",
    "        G = G.edge_subgraph(G.edges(top_n(N)))\n",
    "    threshold = 0.5\n",
    "    Den = Density( G , type , N)\n",
    "    if Den < threshold:\n",
    "        x = ('sparse.')\n",
    "    else:\n",
    "        x = ('dense.')\n",
    "    g = f\"The graph is {x}\"\n",
    "    return g"
   ]
  },
  {
   "cell_type": "code",
   "execution_count": null,
   "metadata": {},
   "outputs": [],
   "source": []
  },
  {
   "cell_type": "code",
   "execution_count": null,
   "metadata": {},
   "outputs": [],
   "source": []
  },
  {
   "cell_type": "code",
   "execution_count": null,
   "metadata": {},
   "outputs": [],
   "source": []
  },
  {
   "attachments": {},
   "cell_type": "markdown",
   "metadata": {},
   "source": [
    "### Functionality 5"
   ]
  },
  {
   "cell_type": "code",
   "execution_count": 39,
   "metadata": {},
   "outputs": [],
   "source": [
    "def remove_edge(G):\n",
    "    edge = ()\n",
    "    G_dict = nx.edge_betweenness_centrality(G)\n",
    "    sort_dict = sorted(G_dict.items() , key = lambda item : item[1] , reverse = True)\n",
    "    for key , value in sort_dict:\n",
    "        edge = key\n",
    "        break\n",
    "    return edge"
   ]
  },
  {
   "cell_type": "code",
   "execution_count": 46,
   "metadata": {},
   "outputs": [],
   "source": [
    "def girvan_newman(G):\n",
    "    sg = nx.connected_components(G)\n",
    "    sg_count = nx.number_connected_components(G)\n",
    "    c = 0\n",
    "    while sg_count == 1:\n",
    "        G.remove_edge(remove_edge(G)[0], remove_edge(G)[1])\n",
    "        sg = nx.connected_components(G)\n",
    "        sg_count = nx.number_connected_components(G)\n",
    "        c += 1\n",
    "        \n",
    "    return sg , c\n",
    "\n"
   ]
  },
  {
   "cell_type": "code",
   "execution_count": 68,
   "metadata": {},
   "outputs": [
    {
     "ename": "SyntaxError",
     "evalue": "non-default argument follows default argument (3376897774.py, line 1)",
     "output_type": "error",
     "traceback": [
      "\u001B[0;36m  Input \u001B[0;32mIn [68]\u001B[0;36m\u001B[0m\n\u001B[0;31m    def functionality_5(G , type , N = -1 , hero1 , hero2 ):\u001B[0m\n\u001B[0m                                                    ^\u001B[0m\n\u001B[0;31mSyntaxError\u001B[0m\u001B[0;31m:\u001B[0m non-default argument follows default argument\n"
     ]
    }
   ],
   "source": [
    "def functionality_5(G , type , N = -1 , hero1 , hero2 ):\n",
    "    G = G.subgraph(top_n(N))\n",
    "    com , count = girvan_newman(G.copy())\n",
    "\n",
    "    groups = []\n",
    "\n",
    "    for i in com:\n",
    "        groups.append(list(i))\n",
    "    same_com = False\n",
    "    for x in groups:\n",
    "        if hero1 in x and hero2 in x:\n",
    "            same_com = True\n",
    "            break\n",
    "    return groups , count\n",
    "\n",
    "\n"
   ]
  },
  {
   "cell_type": "code",
   "execution_count": 60,
   "metadata": {},
   "outputs": [
    {
     "data": {
      "text/plain": [
       "([['CAPTAIN AMERICA', 'IRON MAN/TONY STARK', 'THING/BENJAMIN J. GR'],\n",
       "  ['SPIDER-MAN/PETER PARKER']],\n",
       " 365)"
      ]
     },
     "execution_count": 60,
     "metadata": {},
     "output_type": "execute_result"
    }
   ],
   "source": [
    "functionality_5(G1 , type = 1 , N = 4)"
   ]
  },
  {
   "cell_type": "code",
   "execution_count": null,
   "metadata": {},
   "outputs": [],
   "source": []
  },
  {
   "cell_type": "code",
   "execution_count": 58,
   "metadata": {},
   "outputs": [
    {
     "data": {
      "text/plain": [
       "MultiEdgeView([('CAPTAIN AMERICA', 'SPIDER-MAN/PETER PARKER', 0), ('CAPTAIN AMERICA', 'SPIDER-MAN/PETER PARKER', 1), ('CAPTAIN AMERICA', 'SPIDER-MAN/PETER PARKER', 2), ('CAPTAIN AMERICA', 'SPIDER-MAN/PETER PARKER', 3), ('CAPTAIN AMERICA', 'SPIDER-MAN/PETER PARKER', 4), ('CAPTAIN AMERICA', 'SPIDER-MAN/PETER PARKER', 5), ('CAPTAIN AMERICA', 'SPIDER-MAN/PETER PARKER', 6), ('CAPTAIN AMERICA', 'SPIDER-MAN/PETER PARKER', 7), ('CAPTAIN AMERICA', 'SPIDER-MAN/PETER PARKER', 8), ('CAPTAIN AMERICA', 'SPIDER-MAN/PETER PARKER', 9), ('CAPTAIN AMERICA', 'SPIDER-MAN/PETER PARKER', 10), ('CAPTAIN AMERICA', 'SPIDER-MAN/PETER PARKER', 11), ('CAPTAIN AMERICA', 'SPIDER-MAN/PETER PARKER', 12), ('CAPTAIN AMERICA', 'SPIDER-MAN/PETER PARKER', 13), ('CAPTAIN AMERICA', 'SPIDER-MAN/PETER PARKER', 14), ('CAPTAIN AMERICA', 'SPIDER-MAN/PETER PARKER', 15), ('CAPTAIN AMERICA', 'SPIDER-MAN/PETER PARKER', 16), ('CAPTAIN AMERICA', 'SPIDER-MAN/PETER PARKER', 17), ('CAPTAIN AMERICA', 'SPIDER-MAN/PETER PARKER', 18), ('CAPTAIN AMERICA', 'SPIDER-MAN/PETER PARKER', 19), ('CAPTAIN AMERICA', 'SPIDER-MAN/PETER PARKER', 20), ('CAPTAIN AMERICA', 'SPIDER-MAN/PETER PARKER', 21), ('CAPTAIN AMERICA', 'SPIDER-MAN/PETER PARKER', 22), ('CAPTAIN AMERICA', 'SPIDER-MAN/PETER PARKER', 23), ('CAPTAIN AMERICA', 'SPIDER-MAN/PETER PARKER', 24), ('CAPTAIN AMERICA', 'SPIDER-MAN/PETER PARKER', 25), ('CAPTAIN AMERICA', 'SPIDER-MAN/PETER PARKER', 26), ('CAPTAIN AMERICA', 'SPIDER-MAN/PETER PARKER', 27), ('CAPTAIN AMERICA', 'SPIDER-MAN/PETER PARKER', 28), ('CAPTAIN AMERICA', 'SPIDER-MAN/PETER PARKER', 29), ('CAPTAIN AMERICA', 'SPIDER-MAN/PETER PARKER', 30), ('CAPTAIN AMERICA', 'SPIDER-MAN/PETER PARKER', 31), ('CAPTAIN AMERICA', 'SPIDER-MAN/PETER PARKER', 32), ('CAPTAIN AMERICA', 'SPIDER-MAN/PETER PARKER', 33), ('CAPTAIN AMERICA', 'SPIDER-MAN/PETER PARKER', 34), ('CAPTAIN AMERICA', 'SPIDER-MAN/PETER PARKER', 35), ('CAPTAIN AMERICA', 'SPIDER-MAN/PETER PARKER', 36), ('CAPTAIN AMERICA', 'SPIDER-MAN/PETER PARKER', 37), ('CAPTAIN AMERICA', 'SPIDER-MAN/PETER PARKER', 38), ('CAPTAIN AMERICA', 'SPIDER-MAN/PETER PARKER', 39), ('CAPTAIN AMERICA', 'SPIDER-MAN/PETER PARKER', 40), ('CAPTAIN AMERICA', 'SPIDER-MAN/PETER PARKER', 41), ('CAPTAIN AMERICA', 'SPIDER-MAN/PETER PARKER', 42), ('CAPTAIN AMERICA', 'SPIDER-MAN/PETER PARKER', 43), ('CAPTAIN AMERICA', 'SPIDER-MAN/PETER PARKER', 44), ('CAPTAIN AMERICA', 'SPIDER-MAN/PETER PARKER', 45), ('CAPTAIN AMERICA', 'SPIDER-MAN/PETER PARKER', 46), ('CAPTAIN AMERICA', 'SPIDER-MAN/PETER PARKER', 47), ('CAPTAIN AMERICA', 'SPIDER-MAN/PETER PARKER', 48), ('CAPTAIN AMERICA', 'SPIDER-MAN/PETER PARKER', 49), ('CAPTAIN AMERICA', 'SPIDER-MAN/PETER PARKER', 50), ('CAPTAIN AMERICA', 'SPIDER-MAN/PETER PARKER', 51), ('CAPTAIN AMERICA', 'SPIDER-MAN/PETER PARKER', 52), ('CAPTAIN AMERICA', 'SPIDER-MAN/PETER PARKER', 53), ('CAPTAIN AMERICA', 'SPIDER-MAN/PETER PARKER', 54), ('CAPTAIN AMERICA', 'SPIDER-MAN/PETER PARKER', 55), ('CAPTAIN AMERICA', 'SPIDER-MAN/PETER PARKER', 56), ('CAPTAIN AMERICA', 'SPIDER-MAN/PETER PARKER', 57), ('CAPTAIN AMERICA', 'SPIDER-MAN/PETER PARKER', 58), ('CAPTAIN AMERICA', 'SPIDER-MAN/PETER PARKER', 59), ('CAPTAIN AMERICA', 'SPIDER-MAN/PETER PARKER', 60), ('CAPTAIN AMERICA', 'SPIDER-MAN/PETER PARKER', 61), ('CAPTAIN AMERICA', 'SPIDER-MAN/PETER PARKER', 62), ('CAPTAIN AMERICA', 'SPIDER-MAN/PETER PARKER', 63), ('CAPTAIN AMERICA', 'SPIDER-MAN/PETER PARKER', 64), ('CAPTAIN AMERICA', 'SPIDER-MAN/PETER PARKER', 65), ('CAPTAIN AMERICA', 'SPIDER-MAN/PETER PARKER', 66), ('CAPTAIN AMERICA', 'SPIDER-MAN/PETER PARKER', 67), ('CAPTAIN AMERICA', 'SPIDER-MAN/PETER PARKER', 68), ('CAPTAIN AMERICA', 'SPIDER-MAN/PETER PARKER', 69), ('CAPTAIN AMERICA', 'SPIDER-MAN/PETER PARKER', 70), ('CAPTAIN AMERICA', 'SPIDER-MAN/PETER PARKER', 71), ('CAPTAIN AMERICA', 'SPIDER-MAN/PETER PARKER', 72), ('CAPTAIN AMERICA', 'SPIDER-MAN/PETER PARKER', 73), ('CAPTAIN AMERICA', 'SPIDER-MAN/PETER PARKER', 74), ('CAPTAIN AMERICA', 'SPIDER-MAN/PETER PARKER', 75), ('CAPTAIN AMERICA', 'SPIDER-MAN/PETER PARKER', 76), ('CAPTAIN AMERICA', 'SPIDER-MAN/PETER PARKER', 77), ('CAPTAIN AMERICA', 'SPIDER-MAN/PETER PARKER', 78), ('CAPTAIN AMERICA', 'SPIDER-MAN/PETER PARKER', 79), ('CAPTAIN AMERICA', 'SPIDER-MAN/PETER PARKER', 80), ('CAPTAIN AMERICA', 'SPIDER-MAN/PETER PARKER', 81), ('CAPTAIN AMERICA', 'SPIDER-MAN/PETER PARKER', 82), ('CAPTAIN AMERICA', 'SPIDER-MAN/PETER PARKER', 83), ('CAPTAIN AMERICA', 'SPIDER-MAN/PETER PARKER', 84), ('CAPTAIN AMERICA', 'SPIDER-MAN/PETER PARKER', 85), ('CAPTAIN AMERICA', 'SPIDER-MAN/PETER PARKER', 86), ('CAPTAIN AMERICA', 'SPIDER-MAN/PETER PARKER', 87), ('CAPTAIN AMERICA', 'SPIDER-MAN/PETER PARKER', 88), ('CAPTAIN AMERICA', 'SPIDER-MAN/PETER PARKER', 89), ('CAPTAIN AMERICA', 'SPIDER-MAN/PETER PARKER', 90), ('CAPTAIN AMERICA', 'SPIDER-MAN/PETER PARKER', 91), ('CAPTAIN AMERICA', 'SPIDER-MAN/PETER PARKER', 92), ('CAPTAIN AMERICA', 'SPIDER-MAN/PETER PARKER', 93), ('CAPTAIN AMERICA', 'SPIDER-MAN/PETER PARKER', 94), ('CAPTAIN AMERICA', 'SPIDER-MAN/PETER PARKER', 95), ('CAPTAIN AMERICA', 'SPIDER-MAN/PETER PARKER', 96), ('CAPTAIN AMERICA', 'SPIDER-MAN/PETER PARKER', 97), ('CAPTAIN AMERICA', 'SPIDER-MAN/PETER PARKER', 98), ('CAPTAIN AMERICA', 'SPIDER-MAN/PETER PARKER', 99), ('CAPTAIN AMERICA', 'SPIDER-MAN/PETER PARKER', 100), ('CAPTAIN AMERICA', 'SPIDER-MAN/PETER PARKER', 101), ('CAPTAIN AMERICA', 'SPIDER-MAN/PETER PARKER', 102), ('CAPTAIN AMERICA', 'SPIDER-MAN/PETER PARKER', 103), ('CAPTAIN AMERICA', 'SPIDER-MAN/PETER PARKER', 104), ('CAPTAIN AMERICA', 'SPIDER-MAN/PETER PARKER', 105), ('CAPTAIN AMERICA', 'SPIDER-MAN/PETER PARKER', 106), ('CAPTAIN AMERICA', 'SPIDER-MAN/PETER PARKER', 107), ('CAPTAIN AMERICA', 'SPIDER-MAN/PETER PARKER', 108), ('CAPTAIN AMERICA', 'SPIDER-MAN/PETER PARKER', 109), ('CAPTAIN AMERICA', 'SPIDER-MAN/PETER PARKER', 110), ('CAPTAIN AMERICA', 'SPIDER-MAN/PETER PARKER', 111), ('CAPTAIN AMERICA', 'SPIDER-MAN/PETER PARKER', 112), ('CAPTAIN AMERICA', 'SPIDER-MAN/PETER PARKER', 113), ('CAPTAIN AMERICA', 'SPIDER-MAN/PETER PARKER', 114), ('CAPTAIN AMERICA', 'SPIDER-MAN/PETER PARKER', 115), ('CAPTAIN AMERICA', 'SPIDER-MAN/PETER PARKER', 116), ('CAPTAIN AMERICA', 'SPIDER-MAN/PETER PARKER', 117), ('CAPTAIN AMERICA', 'SPIDER-MAN/PETER PARKER', 118), ('CAPTAIN AMERICA', 'SPIDER-MAN/PETER PARKER', 119), ('CAPTAIN AMERICA', 'SPIDER-MAN/PETER PARKER', 120), ('CAPTAIN AMERICA', 'SPIDER-MAN/PETER PARKER', 121), ('CAPTAIN AMERICA', 'SPIDER-MAN/PETER PARKER', 122), ('CAPTAIN AMERICA', 'SPIDER-MAN/PETER PARKER', 123), ('CAPTAIN AMERICA', 'SPIDER-MAN/PETER PARKER', 124), ('CAPTAIN AMERICA', 'SPIDER-MAN/PETER PARKER', 125), ('CAPTAIN AMERICA', 'SPIDER-MAN/PETER PARKER', 126), ('CAPTAIN AMERICA', 'SPIDER-MAN/PETER PARKER', 127), ('CAPTAIN AMERICA', 'SPIDER-MAN/PETER PARKER', 128), ('CAPTAIN AMERICA', 'SPIDER-MAN/PETER PARKER', 129), ('CAPTAIN AMERICA', 'SPIDER-MAN/PETER PARKER', 130), ('CAPTAIN AMERICA', 'SPIDER-MAN/PETER PARKER', 131), ('CAPTAIN AMERICA', 'SPIDER-MAN/PETER PARKER', 132), ('CAPTAIN AMERICA', 'SPIDER-MAN/PETER PARKER', 133), ('CAPTAIN AMERICA', 'SPIDER-MAN/PETER PARKER', 134), ('CAPTAIN AMERICA', 'SPIDER-MAN/PETER PARKER', 135), ('CAPTAIN AMERICA', 'SPIDER-MAN/PETER PARKER', 136), ('CAPTAIN AMERICA', 'SPIDER-MAN/PETER PARKER', 137), ('CAPTAIN AMERICA', 'SPIDER-MAN/PETER PARKER', 138), ('CAPTAIN AMERICA', 'SPIDER-MAN/PETER PARKER', 139), ('CAPTAIN AMERICA', 'SPIDER-MAN/PETER PARKER', 140), ('CAPTAIN AMERICA', 'SPIDER-MAN/PETER PARKER', 141), ('CAPTAIN AMERICA', 'SPIDER-MAN/PETER PARKER', 142), ('CAPTAIN AMERICA', 'SPIDER-MAN/PETER PARKER', 143), ('CAPTAIN AMERICA', 'SPIDER-MAN/PETER PARKER', 144)])"
      ]
     },
     "execution_count": 58,
     "metadata": {},
     "output_type": "execute_result"
    }
   ],
   "source": [
    "G1.subgraph(top_n(2)).edges"
   ]
  },
  {
   "cell_type": "code",
   "execution_count": 24,
   "metadata": {},
   "outputs": [],
   "source": [
    "G = G1.subgraph(top_n(10))"
   ]
  },
  {
   "cell_type": "code",
   "execution_count": 28,
   "metadata": {},
   "outputs": [
    {
     "data": {
      "text/plain": [
       "[{'CAPTAIN AMERICA',\n",
       "  'HULK/DR. ROBERT BRUC',\n",
       "  'HUMAN TORCH/JOHNNY S',\n",
       "  'INVISIBLE WOMAN/SUE',\n",
       "  'IRON MAN/TONY STARK',\n",
       "  'MR. FANTASTIC/REED R',\n",
       "  'SPIDER-MAN/PETER PARKER',\n",
       "  'THING/BENJAMIN J. GR',\n",
       "  'THOR/DR. DONALD BLAK',\n",
       "  'WOLVERINE/LOGAN'}]"
      ]
     },
     "execution_count": 28,
     "metadata": {},
     "output_type": "execute_result"
    }
   ],
   "source": [
    "list(nx.connected_components(G))"
   ]
  },
  {
   "cell_type": "code",
   "execution_count": 35,
   "metadata": {},
   "outputs": [],
   "source": [
    "G_dict = nx.edge_betweenness_centrality(G)\n",
    "sort_dict = sorted(G_dict.items() , key = lambda item : item[1] , reverse = True)\n"
   ]
  },
  {
   "cell_type": "code",
   "execution_count": 37,
   "metadata": {},
   "outputs": [
    {
     "name": "stdout",
     "output_type": "stream",
     "text": [
      "('THOR/DR. DONALD BLAK', 'WOLVERINE/LOGAN', 0)\n",
      "0.0007936507936507937\n"
     ]
    }
   ],
   "source": [
    "for key , value in sort_dict:\n",
    "    print(key)\n",
    "    print(value)\n",
    "    break"
   ]
  },
  {
   "cell_type": "markdown",
   "metadata": {
    "collapsed": false
   },
   "source": [
    "# 3. Frontend Implementation"
   ]
  },
  {
   "attachments": {},
   "cell_type": "markdown",
   "metadata": {},
   "source": [
    "## Visualization 1 "
   ]
  },
  {
   "cell_type": "code",
   "execution_count": 63,
   "metadata": {},
   "outputs": [],
   "source": [
    "n = 300\n",
    "type_1 = 1\n",
    "type_2 = 2\n",
    "data = [type_1,n,\n",
    "        Number_of_nodes(G1, type = 1 , N = n),\n",
    "        Density(G1 , type = 1 , N = n),\n",
    "        average_degree(G1, type = 1 , N = n), \n",
    "        Sparse_or_dense(G1 , type = 1, N = n)]\n",
    "\n",
    "data_2 = [type_2, n,\n",
    "        Number_of_nodes(G2, type = 2 , N = n),\n",
    "        Density(G2 , type = 1 , N = n),\n",
    "        average_degree(G2, type = 2 , N = n), \n",
    "        Sparse_or_dense(G2 , type = 2, N = n)]\n",
    "\n",
    "col_names = [\"Graph type\",\"N\",\"Number_of_nodes\", \"Density\", \"average_degree\", \"Sparse_or_dense\" ]"
   ]
  },
  {
   "cell_type": "code",
   "execution_count": 64,
   "metadata": {},
   "outputs": [
    {
     "name": "stdout",
     "output_type": "stream",
     "text": [
      "+------------+-----+-----------------+----------------------+--------------------+----------------------+\n",
      "| Graph type |  N  | Number_of_nodes |       Density        |   average_degree   |   Sparse_or_dense    |\n",
      "+------------+-----+-----------------+----------------------+--------------------+----------------------+\n",
      "|     1      | 300 |       288       |  5.3470286488579175  | 1534.5972222222222 | The graph is dense.  |\n",
      "|     2      | 300 |   (11829, 476)  | 0.013957636566332218 | 9.153514831369362  | The graph is sparse. |\n",
      "+------------+-----+-----------------+----------------------+--------------------+----------------------+\n"
     ]
    }
   ],
   "source": [
    "# Importing PrettyTable class from prettytable library\n",
    "from prettytable import PrettyTable\n",
    "\n",
    "# Creating instance of PrettyTable class\n",
    "my_table = PrettyTable(col_names)\n",
    "\n",
    "# Creating a list that we want to tabulate\n",
    "my_table.add_row(data)\n",
    "my_table.add_row(data_2)\n",
    "\n",
    "\n",
    "# Printing the tabulated list\n",
    "print(my_table)"
   ]
  },
  {
   "cell_type": "code",
   "execution_count": 108,
   "metadata": {},
   "outputs": [
    {
     "name": "stdout",
     "output_type": "stream",
     "text": [
      "+------------+-----+-------------------------------------------------------------------------------------------------------------------------------------------------------------------------------------------------------------------------------------------------------------------------------------------------------------------------------------------------+\n",
      "| Graph type |  N  |                                                                                                                                                                       HUBS                                                                                                                                                                      |\n",
      "+------------+-----+-------------------------------------------------------------------------------------------------------------------------------------------------------------------------------------------------------------------------------------------------------------------------------------------------------------------------------------------------+\n",
      "|     1      | 300 | ['WOLVERINE/LOGAN', 'WASP/JANET VAN DYNE', 'SCARLET WITCH/WANDA', 'THING/BENJAMIN J. GR', 'CAPTAIN AMERICA', 'CYCLOPS/SCOTT SUMMER', 'STORM/ORORO MUNROE S', 'MR. FANTASTIC/REED R', 'INVISIBLE WOMAN/SUE', 'IRON MAN/TONY STARK', 'HUMAN TORCH/JOHNNY S', 'THOR/DR. DONALD BLAK', 'SPIDER-MAN/PETER PARKER', 'VISION', 'BEAST/HENRY &HANK& P'] |\n",
      "+------------+-----+-------------------------------------------------------------------------------------------------------------------------------------------------------------------------------------------------------------------------------------------------------------------------------------------------------------------------------------------------+\n"
     ]
    }
   ],
   "source": [
    "col_names = [\"Graph type\",\"N\",\"HUBS\"]\n",
    "\n",
    "data = [type_1,n,\n",
    "        list(Hubs(G1, type = 1 , N = n).keys())]\n",
    "\n",
    "\n",
    "\n",
    "table_hubs = PrettyTable(col_names)\n",
    "\n",
    "# Creating a list that we want to tabulate\n",
    "table_hubs.add_row(data)\n",
    "#table_hubs.add_row(data_2)\n",
    "\n",
    "\n",
    "# Printing the tabulated list\n",
    "print(table_hubs)\n"
   ]
  },
  {
   "cell_type": "code",
   "execution_count": 140,
   "metadata": {},
   "outputs": [
    {
     "data": {
      "image/png": "[encoded data removed]",
      "text/plain": [
       "<Figure size 864x432 with 1 Axes>"
      ]
     },
     "metadata": {},
     "output_type": "display_data"
    }
   ],
   "source": [
    "# import libraries\n",
    "import seaborn as sns\n",
    "dic= dict(Number_of_collaboration(G1, type = 1 , N = 10))\n",
    "\n",
    "\n",
    "names = list(dic.keys())\n",
    "values = list(dic.values())\n",
    "\n",
    "df = pd.DataFrame({\"Hero_names\": names,\n",
    "                \"#Collaborations\":values})\n",
    "# set plot style: grey grid in the background:\n",
    "\n",
    "\n",
    "# load dataset\n",
    "\n",
    "\n",
    "# Set the figure size\n",
    "plt.figure(figsize=(12, 6))\n",
    "\n",
    "# plot a bar chart\n",
    "sns.barplot(\n",
    "    x= values, \n",
    "    y= names,  \n",
    "    ci=None, \n",
    "    color='#69b3a2',\n",
    "    order = df.sort_values('#Collaborations', ascending = False).Hero_names);\n",
    "\n",
    "plt.xlabel(\"Number of collaborations\", size=15)\n",
    "plt.ylabel(\"Heros\", size=15)\n",
    "plt.title(\"Number of collaborations for each \\n hero in the top N\", size=18)\n",
    "plt.tight_layout()\n",
    "\n",
    "\n"
   ]
  },
  {
   "cell_type": "code",
   "execution_count": 141,
   "metadata": {},
   "outputs": [
    {
     "data": {
      "image/png": "[encoded data removed]",
      "text/plain": [
       "<Figure size 1008x576 with 1 Axes>"
      ]
     },
     "metadata": {},
     "output_type": "display_data"
    }
   ],
   "source": [
    "names = top_n(10)\n",
    "values = degree_distribution(G1 , 1 , 10)\n",
    "plt.figure(figsize=(14, 8))\n",
    "\n",
    "# plot a bar chart\n",
    "sns.barplot(\n",
    "    y= values, \n",
    "    x= names, \n",
    "    ci=None, \n",
    "    color='#69b3a2');\n",
    "plt.xticks(rotation=90)\n",
    "plt.xlabel(\"heros\", size=15)\n",
    "plt.ylabel(\"degree\", size=15)\n",
    "plt.title(\" Degree distribution of \\n hero in the top N\", size=18)\n",
    "plt.tight_layout()\n",
    "\n",
    "plt.show()\n"
   ]
  },
  {
   "cell_type": "code",
   "execution_count": null,
   "metadata": {},
   "outputs": [],
   "source": []
  },
  {
   "cell_type": "code",
   "execution_count": null,
   "metadata": {},
   "outputs": [],
   "source": []
  },
  {
   "cell_type": "code",
   "execution_count": null,
   "metadata": {},
   "outputs": [],
   "source": []
  }
 ],
 "metadata": {
  "kernelspec": {
   "display_name": "base",
   "language": "python",
   "name": "python3"
  },
  "language_info": {
   "codemirror_mode": {
    "name": "ipython",
    "version": 3
   },
   "file_extension": ".py",
   "mimetype": "text/x-python",
   "name": "python",
   "nbconvert_exporter": "python",
   "pygments_lexer": "ipython3",
   "version": "3.9.12"
  },
  "vscode": {
   "interpreter": {
    "hash": "f4667d31aad76a2fc6367a343b03ad539ee0fdcfaae0637945dddaa0789b3d6c"
   }
  }
 },
 "nbformat": 4,
 "nbformat_minor": 2
}
