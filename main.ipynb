{
 "cells": [
  {
   "cell_type": "markdown",
   "metadata": {
    "collapsed": false
   },
   "source": [
    "# ADM - HW5 - The Marvel Universe!"
   ]
  },
  {
   "cell_type": "markdown",
   "metadata": {
    "collapsed": false
   },
   "source": [
    "## Libraries & Setup"
   ]
  },
  {
   "cell_type": "code",
   "execution_count": 1,
   "metadata": {
    "collapsed": false
   },
   "outputs": [],
   "source": [
    "import networkx as nx   # Network analysis\n",
    "\n",
    "import pandas as pd   # Data manipulation and analysis\n",
    "import numpy as np    # Scientific Computing\n",
    "\n",
    "import matplotlib.pyplot as plt   # Visualization\n",
    "\n",
    "import warnings\n",
    "warnings.filterwarnings('ignore')\n",
    "\n",
    "#import functions"
   ]
  },
  {
   "cell_type": "markdown",
   "metadata": {
    "collapsed": false
   },
   "source": [
    "# 1. Data"
   ]
  },
  {
   "cell_type": "markdown",
   "metadata": {
    "collapsed": false
   },
   "source": [
    "## Data Preprocessing"
   ]
  },
  {
   "cell_type": "code",
   "execution_count": 2,
   "metadata": {
    "collapsed": false
   },
   "outputs": [],
   "source": [
    "nodes_df = pd.read_csv(\"nodes.csv\")\n",
    "edges_df = pd.read_csv(\"edges.csv\")\n",
    "hero_network_df = pd.read_csv(\"hero-network.csv\")"
   ]
  },
  {
   "cell_type": "code",
   "execution_count": 4,
   "metadata": {
    "collapsed": false
   },
   "outputs": [
    {
     "data": {
      "text/html": [
       "<div>\n",
       "<style scoped>\n",
       "    .dataframe tbody tr th:only-of-type {\n",
       "        vertical-align: middle;\n",
       "    }\n",
       "\n",
       "    .dataframe tbody tr th {\n",
       "        vertical-align: top;\n",
       "    }\n",
       "\n",
       "    .dataframe thead th {\n",
       "        text-align: right;\n",
       "    }\n",
       "</style>\n",
       "<table border=\"1\" class=\"dataframe\">\n",
       "  <thead>\n",
       "    <tr style=\"text-align: right;\">\n",
       "      <th></th>\n",
       "      <th>node</th>\n",
       "      <th>type</th>\n",
       "    </tr>\n",
       "  </thead>\n",
       "  <tbody>\n",
       "    <tr>\n",
       "      <th>0</th>\n",
       "      <td>2001 10</td>\n",
       "      <td>comic</td>\n",
       "    </tr>\n",
       "    <tr>\n",
       "      <th>1</th>\n",
       "      <td>2001 8</td>\n",
       "      <td>comic</td>\n",
       "    </tr>\n",
       "    <tr>\n",
       "      <th>2</th>\n",
       "      <td>2001 9</td>\n",
       "      <td>comic</td>\n",
       "    </tr>\n",
       "    <tr>\n",
       "      <th>3</th>\n",
       "      <td>24-HOUR MAN/EMMANUEL</td>\n",
       "      <td>hero</td>\n",
       "    </tr>\n",
       "    <tr>\n",
       "      <th>4</th>\n",
       "      <td>3-D MAN/CHARLES CHAN</td>\n",
       "      <td>hero</td>\n",
       "    </tr>\n",
       "    <tr>\n",
       "      <th>...</th>\n",
       "      <td>...</td>\n",
       "      <td>...</td>\n",
       "    </tr>\n",
       "    <tr>\n",
       "      <th>19085</th>\n",
       "      <td>ZOTA, CARLO</td>\n",
       "      <td>hero</td>\n",
       "    </tr>\n",
       "    <tr>\n",
       "      <th>19086</th>\n",
       "      <td>ZOTA</td>\n",
       "      <td>hero</td>\n",
       "    </tr>\n",
       "    <tr>\n",
       "      <th>19087</th>\n",
       "      <td>ZURAS</td>\n",
       "      <td>hero</td>\n",
       "    </tr>\n",
       "    <tr>\n",
       "      <th>19088</th>\n",
       "      <td>ZURI</td>\n",
       "      <td>hero</td>\n",
       "    </tr>\n",
       "    <tr>\n",
       "      <th>19089</th>\n",
       "      <td>ZZZAX</td>\n",
       "      <td>hero</td>\n",
       "    </tr>\n",
       "  </tbody>\n",
       "</table>\n",
       "<p>19090 rows × 2 columns</p>\n",
       "</div>"
      ],
      "text/plain": [
       "                       node   type\n",
       "0                   2001 10  comic\n",
       "1                    2001 8  comic\n",
       "2                    2001 9  comic\n",
       "3      24-HOUR MAN/EMMANUEL   hero\n",
       "4      3-D MAN/CHARLES CHAN   hero\n",
       "...                     ...    ...\n",
       "19085           ZOTA, CARLO   hero\n",
       "19086                  ZOTA   hero\n",
       "19087                 ZURAS   hero\n",
       "19088                  ZURI   hero\n",
       "19089                 ZZZAX   hero\n",
       "\n",
       "[19090 rows x 2 columns]"
      ]
     },
     "execution_count": 4,
     "metadata": {},
     "output_type": "execute_result"
    }
   ],
   "source": [
    "nodes_df"
   ]
  },
  {
   "cell_type": "code",
   "execution_count": 5,
   "metadata": {
    "collapsed": false
   },
   "outputs": [
    {
     "data": {
      "text/html": [
       "<div>\n",
       "<style scoped>\n",
       "    .dataframe tbody tr th:only-of-type {\n",
       "        vertical-align: middle;\n",
       "    }\n",
       "\n",
       "    .dataframe tbody tr th {\n",
       "        vertical-align: top;\n",
       "    }\n",
       "\n",
       "    .dataframe thead th {\n",
       "        text-align: right;\n",
       "    }\n",
       "</style>\n",
       "<table border=\"1\" class=\"dataframe\">\n",
       "  <thead>\n",
       "    <tr style=\"text-align: right;\">\n",
       "      <th></th>\n",
       "      <th>hero</th>\n",
       "      <th>comic</th>\n",
       "    </tr>\n",
       "  </thead>\n",
       "  <tbody>\n",
       "    <tr>\n",
       "      <th>0</th>\n",
       "      <td>24-HOUR MAN/EMMANUEL</td>\n",
       "      <td>AA2 35</td>\n",
       "    </tr>\n",
       "    <tr>\n",
       "      <th>1</th>\n",
       "      <td>3-D MAN/CHARLES CHAN</td>\n",
       "      <td>AVF 4</td>\n",
       "    </tr>\n",
       "    <tr>\n",
       "      <th>2</th>\n",
       "      <td>3-D MAN/CHARLES CHAN</td>\n",
       "      <td>AVF 5</td>\n",
       "    </tr>\n",
       "    <tr>\n",
       "      <th>3</th>\n",
       "      <td>3-D MAN/CHARLES CHAN</td>\n",
       "      <td>COC 1</td>\n",
       "    </tr>\n",
       "    <tr>\n",
       "      <th>4</th>\n",
       "      <td>3-D MAN/CHARLES CHAN</td>\n",
       "      <td>H2 251</td>\n",
       "    </tr>\n",
       "    <tr>\n",
       "      <th>...</th>\n",
       "      <td>...</td>\n",
       "      <td>...</td>\n",
       "    </tr>\n",
       "    <tr>\n",
       "      <th>96099</th>\n",
       "      <td>ZZZAX</td>\n",
       "      <td>H2 326</td>\n",
       "    </tr>\n",
       "    <tr>\n",
       "      <th>96100</th>\n",
       "      <td>ZZZAX</td>\n",
       "      <td>H2 327</td>\n",
       "    </tr>\n",
       "    <tr>\n",
       "      <th>96101</th>\n",
       "      <td>ZZZAX</td>\n",
       "      <td>M/CP 8/4</td>\n",
       "    </tr>\n",
       "    <tr>\n",
       "      <th>96102</th>\n",
       "      <td>ZZZAX</td>\n",
       "      <td>PM 47</td>\n",
       "    </tr>\n",
       "    <tr>\n",
       "      <th>96103</th>\n",
       "      <td>ZZZAX</td>\n",
       "      <td>WCA2 12</td>\n",
       "    </tr>\n",
       "  </tbody>\n",
       "</table>\n",
       "<p>96104 rows × 2 columns</p>\n",
       "</div>"
      ],
      "text/plain": [
       "                       hero     comic\n",
       "0      24-HOUR MAN/EMMANUEL    AA2 35\n",
       "1      3-D MAN/CHARLES CHAN     AVF 4\n",
       "2      3-D MAN/CHARLES CHAN     AVF 5\n",
       "3      3-D MAN/CHARLES CHAN     COC 1\n",
       "4      3-D MAN/CHARLES CHAN    H2 251\n",
       "...                     ...       ...\n",
       "96099                 ZZZAX    H2 326\n",
       "96100                 ZZZAX    H2 327\n",
       "96101                 ZZZAX  M/CP 8/4\n",
       "96102                 ZZZAX     PM 47\n",
       "96103                 ZZZAX   WCA2 12\n",
       "\n",
       "[96104 rows x 2 columns]"
      ]
     },
     "execution_count": 5,
     "metadata": {},
     "output_type": "execute_result"
    }
   ],
   "source": [
    "edges_df"
   ]
  },
  {
   "cell_type": "code",
   "execution_count": 6,
   "metadata": {
    "collapsed": false
   },
   "outputs": [
    {
     "data": {
      "text/html": [
       "<div>\n",
       "<style scoped>\n",
       "    .dataframe tbody tr th:only-of-type {\n",
       "        vertical-align: middle;\n",
       "    }\n",
       "\n",
       "    .dataframe tbody tr th {\n",
       "        vertical-align: top;\n",
       "    }\n",
       "\n",
       "    .dataframe thead th {\n",
       "        text-align: right;\n",
       "    }\n",
       "</style>\n",
       "<table border=\"1\" class=\"dataframe\">\n",
       "  <thead>\n",
       "    <tr style=\"text-align: right;\">\n",
       "      <th></th>\n",
       "      <th>hero1</th>\n",
       "      <th>hero2</th>\n",
       "    </tr>\n",
       "  </thead>\n",
       "  <tbody>\n",
       "    <tr>\n",
       "      <th>0</th>\n",
       "      <td>LITTLE, ABNER</td>\n",
       "      <td>PRINCESS ZANDA</td>\n",
       "    </tr>\n",
       "    <tr>\n",
       "      <th>1</th>\n",
       "      <td>LITTLE, ABNER</td>\n",
       "      <td>BLACK PANTHER/T'CHAL</td>\n",
       "    </tr>\n",
       "    <tr>\n",
       "      <th>2</th>\n",
       "      <td>BLACK PANTHER/T'CHAL</td>\n",
       "      <td>PRINCESS ZANDA</td>\n",
       "    </tr>\n",
       "    <tr>\n",
       "      <th>3</th>\n",
       "      <td>LITTLE, ABNER</td>\n",
       "      <td>PRINCESS ZANDA</td>\n",
       "    </tr>\n",
       "    <tr>\n",
       "      <th>4</th>\n",
       "      <td>LITTLE, ABNER</td>\n",
       "      <td>BLACK PANTHER/T'CHAL</td>\n",
       "    </tr>\n",
       "    <tr>\n",
       "      <th>...</th>\n",
       "      <td>...</td>\n",
       "      <td>...</td>\n",
       "    </tr>\n",
       "    <tr>\n",
       "      <th>574462</th>\n",
       "      <td>COLOSSUS II/PETER RA</td>\n",
       "      <td>CALLISTO</td>\n",
       "    </tr>\n",
       "    <tr>\n",
       "      <th>574463</th>\n",
       "      <td>CALLISTO</td>\n",
       "      <td>ROGUE /</td>\n",
       "    </tr>\n",
       "    <tr>\n",
       "      <th>574464</th>\n",
       "      <td>CALLISTO</td>\n",
       "      <td>CALIBAN/</td>\n",
       "    </tr>\n",
       "    <tr>\n",
       "      <th>574465</th>\n",
       "      <td>CALIBAN/</td>\n",
       "      <td>ROGUE /</td>\n",
       "    </tr>\n",
       "    <tr>\n",
       "      <th>574466</th>\n",
       "      <td>HULK/DR. ROBERT BRUC</td>\n",
       "      <td>MARKS, DR. SHIELA</td>\n",
       "    </tr>\n",
       "  </tbody>\n",
       "</table>\n",
       "<p>574467 rows × 2 columns</p>\n",
       "</div>"
      ],
      "text/plain": [
       "                       hero1                 hero2\n",
       "0              LITTLE, ABNER        PRINCESS ZANDA\n",
       "1              LITTLE, ABNER  BLACK PANTHER/T'CHAL\n",
       "2       BLACK PANTHER/T'CHAL        PRINCESS ZANDA\n",
       "3              LITTLE, ABNER        PRINCESS ZANDA\n",
       "4              LITTLE, ABNER  BLACK PANTHER/T'CHAL\n",
       "...                      ...                   ...\n",
       "574462  COLOSSUS II/PETER RA              CALLISTO\n",
       "574463              CALLISTO               ROGUE /\n",
       "574464              CALLISTO              CALIBAN/\n",
       "574465              CALIBAN/               ROGUE /\n",
       "574466  HULK/DR. ROBERT BRUC     MARKS, DR. SHIELA\n",
       "\n",
       "[574467 rows x 2 columns]"
      ]
     },
     "execution_count": 6,
     "metadata": {},
     "output_type": "execute_result"
    }
   ],
   "source": [
    "hero_network_df"
   ]
  },
  {
   "cell_type": "markdown",
   "metadata": {
    "collapsed": false
   },
   "source": [
    "For the data to be *consistent* across all the dataframes, **all hero names** appearing in the *hero_network* dataframe should **also be found** in the *edges* dataframe"
   ]
  },
  {
   "cell_type": "code",
   "execution_count": 3,
   "metadata": {
    "collapsed": false
   },
   "outputs": [],
   "source": [
    "# Retrieve heroes' names appearing in \"hero_network\" dataframe, but not in \"edges\" dataframe\n",
    "def check_inconsistency():\n",
    "    names = set(hero_network_df.hero1).union(set(hero_network_df.hero2)).difference(set(edges_df.hero))\n",
    "    out = names if len(names)!=0 else \"No inconsistencies found!\"\n",
    "    return out"
   ]
  },
  {
   "cell_type": "code",
   "execution_count": 4,
   "metadata": {
    "collapsed": false
   },
   "outputs": [
    {
     "data": {
      "text/plain": [
       "['RAPTOR II/PROFESSOR ',\n",
       " 'MISSING LINK II/RAY ',\n",
       " 'MARROW/SARAH ',\n",
       " 'DEATH STING/MIRANDA ',\n",
       " 'ZEMO/BARON HEINRICH ',\n",
       " 'ROCKET RACER/ROBERT ',\n",
       " 'MAGNETO/MAGNUS/ERIC ',\n",
       " 'DOC SAMSON | MUTANT ',\n",
       " 'LECLAIRE, PROFESSOR ',\n",
       " 'GRIMM, BEN | MUTANT ']"
      ]
     },
     "execution_count": 4,
     "metadata": {},
     "output_type": "execute_result"
    }
   ],
   "source": [
    "# Some inconsistency examples\n",
    "list(check_inconsistency())[:10]"
   ]
  },
  {
   "cell_type": "markdown",
   "metadata": {
    "collapsed": false
   },
   "source": [
    "**Inconsistency reason 1:** some heroes' names in the *hero_network* dataframe have **extra spaces** at the end of their names"
   ]
  },
  {
   "cell_type": "code",
   "execution_count": 4,
   "metadata": {
    "collapsed": false
   },
   "outputs": [],
   "source": [
    "hero_network_df.hero1 = [x.strip() for x in hero_network_df.hero1]\n",
    "hero_network_df.hero2 = [x.strip() for x in hero_network_df.hero2]"
   ]
  },
  {
   "cell_type": "code",
   "execution_count": 6,
   "metadata": {
    "collapsed": false
   },
   "outputs": [
    {
     "data": {
      "text/plain": [
       "{'BLADE', 'SABRE', 'SPIDER-MAN/PETER PAR'}"
      ]
     },
     "execution_count": 6,
     "metadata": {},
     "output_type": "execute_result"
    }
   ],
   "source": [
    "check_inconsistency()"
   ]
  },
  {
   "cell_type": "markdown",
   "metadata": {
    "collapsed": false
   },
   "source": [
    "**Inconsistency reason 2:** some heroes in the *hero_network* dataframe **are missing a \"/\"** at the end of their names. In fact, *BLADE* and *SABRE* are labelled as **comics** in the *nodes* dataframe, while *BLADE/* and *SABRE/* represent the actual **heroes**"
   ]
  },
  {
   "cell_type": "code",
   "execution_count": 5,
   "metadata": {
    "collapsed": false
   },
   "outputs": [],
   "source": [
    "hero_network_df.loc[hero_network_df[\"hero1\"] == \"BLADE\", \"hero1\"] = \"BLADE/\"\n",
    "hero_network_df.loc[hero_network_df[\"hero2\"] == \"BLADE\", \"hero2\"] = \"BLADE/\"\n",
    "hero_network_df.loc[hero_network_df[\"hero1\"] == \"SABRE\", \"hero1\"] = \"SABRE/\"\n",
    "hero_network_df.loc[hero_network_df[\"hero2\"] == \"SABRE\", \"hero2\"] = \"SABRE/\""
   ]
  },
  {
   "cell_type": "code",
   "execution_count": 8,
   "metadata": {
    "collapsed": false
   },
   "outputs": [
    {
     "data": {
      "text/plain": [
       "{'SPIDER-MAN/PETER PAR'}"
      ]
     },
     "execution_count": 8,
     "metadata": {},
     "output_type": "execute_result"
    }
   ],
   "source": [
    "check_inconsistency()"
   ]
  },
  {
   "cell_type": "markdown",
   "metadata": {
    "collapsed": false
   },
   "source": [
    "**Inconsistency reason 3:** the hero name *\"SPIDER-MAN/PETER PARKER\"* in the *edges* dataframe has been changed to *\"SPIDER-MAN/PETER PAR\"* the *hero_network* dataframe"
   ]
  },
  {
   "cell_type": "code",
   "execution_count": 8,
   "metadata": {
    "collapsed": false
   },
   "outputs": [],
   "source": [
    "hero_network_df.loc[hero_network_df[\"hero1\"] == \"SPIDER-MAN/PETER PAR\", \"hero1\"] = \"SPIDER-MAN/PETER PARKER\"\n",
    "hero_network_df.loc[hero_network_df[\"hero2\"] == \"SPIDER-MAN/PETER PAR\", \"hero2\"] = \"SPIDER-MAN/PETER PARKER\""
   ]
  },
  {
   "cell_type": "code",
   "execution_count": 10,
   "metadata": {
    "collapsed": false
   },
   "outputs": [
    {
     "data": {
      "text/plain": [
       "'No inconsistencies found!'"
      ]
     },
     "execution_count": 10,
     "metadata": {},
     "output_type": "execute_result"
    }
   ],
   "source": [
    "check_inconsistency()"
   ]
  },
  {
   "cell_type": "markdown",
   "metadata": {
    "collapsed": false
   },
   "source": [
    "We also remove entries of the *hero_network* dataframe having the same hero in **both columns** (in order to avoid **self-loops** in the graph)"
   ]
  },
  {
   "cell_type": "code",
   "execution_count": 11,
   "metadata": {
    "collapsed": false
   },
   "outputs": [
    {
     "data": {
      "text/plain": [
       "574467"
      ]
     },
     "execution_count": 11,
     "metadata": {},
     "output_type": "execute_result"
    }
   ],
   "source": [
    "# With self-loop records\n",
    "len(hero_network_df)"
   ]
  },
  {
   "cell_type": "code",
   "execution_count": 9,
   "metadata": {
    "collapsed": false
   },
   "outputs": [],
   "source": [
    "hero_network_df.drop(hero_network_df[hero_network_df['hero1'] == hero_network_df['hero2']].index, inplace = True)"
   ]
  },
  {
   "cell_type": "code",
   "execution_count": 13,
   "metadata": {
    "collapsed": false
   },
   "outputs": [
    {
     "data": {
      "text/plain": [
       "572235"
      ]
     },
     "execution_count": 13,
     "metadata": {},
     "output_type": "execute_result"
    }
   ],
   "source": [
    "# Without self-loop records\n",
    "len(hero_network_df)"
   ]
  },
  {
   "cell_type": "markdown",
   "metadata": {
    "collapsed": false
   },
   "source": [
    "Finally, we identify and correct the **spelling mistake** in the hero name *\"SPIDER-MAN/PETER PARKER\"* present in the *nodes* dataframe (listed as *\"SPIDER-MAN/PETER PARKERKER\"*)"
   ]
  },
  {
   "cell_type": "code",
   "execution_count": 10,
   "metadata": {
    "collapsed": false
   },
   "outputs": [],
   "source": [
    "nodes_df.loc[nodes_df[\"node\"] == \"SPIDER-MAN/PETER PARKERKER\", \"node\"] = \"SPIDER-MAN/PETER PARKER\""
   ]
  },
  {
   "cell_type": "markdown",
   "metadata": {
    "collapsed": false
   },
   "source": [
    "## Graphs setup"
   ]
  },
  {
   "cell_type": "markdown",
   "metadata": {
    "collapsed": false
   },
   "source": [
    "### First graph: G1 - Heroes appearing in the same comic together"
   ]
  },
  {
   "cell_type": "markdown",
   "metadata": {
    "collapsed": false
   },
   "source": [
    "The graph **G1** should be **undirected**, **weighted** and should allow for **parallel edges**.\n",
    "\n",
    "* **Nodes**: *heroes*\n",
    "\n",
    "* **Edge** between node *Hero_A* and *Hero_B*: the heroes have appeared in the same comic together\n",
    "\n",
    "* **Number of edges** between node *Hero_A* and *Hero_B* = $num\\_collaborations$ of the two heroes\n",
    "\n",
    "* **Edge weight**: the *reciprocal* of the *number of collaborations* of the two heroes\n",
    "\n",
    "$$w((Hero\\_A, Hero\\_B)) = \\frac{1}{num\\_collaborations \\; of \\; Hero\\_A \\; and \\; Hero\\_B}$$"
   ]
  },
  {
   "cell_type": "code",
   "execution_count": 11,
   "metadata": {
    "collapsed": false
   },
   "outputs": [],
   "source": [
    "# NetworkX MultiGraph: undirected graph, can store multiedges\n",
    "G1 = nx.MultiGraph()"
   ]
  },
  {
   "cell_type": "code",
   "execution_count": 12,
   "metadata": {
    "collapsed": false
   },
   "outputs": [],
   "source": [
    "# Sort the pair of heroes in each record (since the graph is undirected, we are interested in grouping together pair of names, irrespectively of their order)\n",
    "hero_network_df[[\"hero1\", \"hero2\"]] = np.sort(hero_network_df[[\"hero1\", \"hero2\"]], axis=1)\n",
    "\n",
    "# Group by pair of names and retrieve group size\n",
    "heroes_pairs = (hero_network_df.groupby([\"hero1\", \"hero2\"]).size().reset_index().values.tolist())"
   ]
  },
  {
   "cell_type": "code",
   "execution_count": 17,
   "metadata": {
    "collapsed": false
   },
   "outputs": [
    {
     "data": {
      "text/plain": [
       "[['24-HOUR MAN/EMMANUEL', 'FROST, CARMILLA', 1],\n",
       " ['24-HOUR MAN/EMMANUEL', \"G'RATH\", 1],\n",
       " ['24-HOUR MAN/EMMANUEL', 'KILLRAVEN/JONATHAN R', 1],\n",
       " ['24-HOUR MAN/EMMANUEL', \"M'SHULLA\", 1],\n",
       " ['24-HOUR MAN/EMMANUEL', 'OLD SKULL', 1],\n",
       " ['3-D MAN/CHARLES CHAN', 'AJAK/TECUMOTZIN [ETE', 1],\n",
       " ['3-D MAN/CHARLES CHAN', 'ANGEL/WARREN KENNETH', 1],\n",
       " ['3-D MAN/CHARLES CHAN', 'ANT-MAN II/SCOTT HAR', 1],\n",
       " ['3-D MAN/CHARLES CHAN', 'ANT-MAN/DR. HENRY J.', 2],\n",
       " ['3-D MAN/CHARLES CHAN', 'ARABIAN KNIGHT/ABDUL', 1]]"
      ]
     },
     "execution_count": 17,
     "metadata": {},
     "output_type": "execute_result"
    }
   ],
   "source": [
    "# Some pair of heroes and their number of collaborations\n",
    "heroes_pairs[:10]"
   ]
  },
  {
   "cell_type": "code",
   "execution_count": 13,
   "metadata": {
    "collapsed": false
   },
   "outputs": [],
   "source": [
    "# Build weighted edges\n",
    "heroes_collaboration = []\n",
    "\n",
    "for x in heroes_pairs:\n",
    "    for i in range(x[2]):\n",
    "        heroes_collaboration.append(tuple([x[0], x[1], round(1/x[2], 4)]))"
   ]
  },
  {
   "cell_type": "code",
   "execution_count": 14,
   "metadata": {
    "collapsed": false
   },
   "outputs": [],
   "source": [
    "# Add edges to graph\n",
    "G1.add_weighted_edges_from(heroes_collaboration)"
   ]
  },
  {
   "cell_type": "markdown",
   "metadata": {
    "collapsed": false
   },
   "source": [
    "### Second graph: G2 - Hero appearing in a specific comic"
   ]
  },
  {
   "cell_type": "markdown",
   "metadata": {
    "collapsed": false
   },
   "source": [
    "The graph **G2** should be **undirected** and **unweighted**.\n",
    "\n",
    "* **Nodes**: *heroes* and *comics*\n",
    "\n",
    "* **Edge** between node *Hero_A* and *Comic_A*: the hero has appeared in that specific comic"
   ]
  },
  {
   "cell_type": "code",
   "execution_count": 15,
   "metadata": {
    "collapsed": false
   },
   "outputs": [],
   "source": [
    "# NetworkX Graph: base undirected graph\n",
    "G2 = nx.Graph()"
   ]
  },
  {
   "cell_type": "code",
   "execution_count": 16,
   "metadata": {
    "collapsed": false
   },
   "outputs": [],
   "source": [
    "# Add nodes with \"type\" attribute to graph\n",
    "G2.add_nodes_from([(x[0], {\"type\": x[1]}) for x in nodes_df.to_records(index=False)])"
   ]
  },
  {
   "cell_type": "code",
   "execution_count": 17,
   "metadata": {
    "collapsed": false
   },
   "outputs": [],
   "source": [
    "# Add edges between heroes and comics to graph\n",
    "G2.add_edges_from(list(edges_df.to_records(index=False)))"
   ]
  },
  {
   "cell_type": "markdown",
   "metadata": {
    "collapsed": false
   },
   "source": [
    "# 2. Backend Implementation"
   ]
  },
  {
   "attachments": {},
   "cell_type": "markdown",
   "metadata": {},
   "source": [
    "## Functionality 1"
   ]
  },
  {
   "cell_type": "code",
   "execution_count": 18,
   "metadata": {},
   "outputs": [],
   "source": [
    "# Function that returns a list of top N heroes who have appeared in the most number of comics\n",
    "def top_n(N = -1):\n",
    "    # dictionary of the top N heros based on their degree in Graph 2 (number of apparision in comics)\n",
    "    top_heros = sorted(dict(G2.degree()).items(), key=lambda x:x[1] , reverse = True)[:N]\n",
    "    top_list  = []\n",
    "    for hero in top_heros:            # Loop over the top heros\n",
    "        top_list.append(hero[0])      # Append the hero name\n",
    "    return top_list\n"
   ]
  },
  {
   "cell_type": "code",
   "execution_count": 20,
   "metadata": {},
   "outputs": [],
   "source": [
    "# Function that returns number of nodes for a given graph \n",
    "def Number_of_nodes(G, type : int , N = -1 ):\n",
    "    if type == 1:\n",
    "        G = G.subgraph(top_n(N))    # Create the subgraph of the top N heros\n",
    "        return G.number_of_nodes()  # returns the number of nodes\n",
    "    else:\n",
    "        G = G.edge_subgraph(G.edges(top_n(N)))  # Create the subgraph that contains the top N heros\n",
    "        number_of_nodes_comic = G.subgraph(list(edges_df['comic'].values)).number_of_nodes()\n",
    "        number_of_nodes_hero  = G.subgraph(list(edges_df['hero'].values)).number_of_nodes()\n",
    "        return number_of_nodes_comic , number_of_nodes_hero"
   ]
  },
  {
   "cell_type": "code",
   "execution_count": 22,
   "metadata": {},
   "outputs": [],
   "source": [
    "# Function that returns the number of collaborations for Graph 1\n",
    "def Number_of_collaboration(G , type: int , N = -1 ):\n",
    "    if type != 1:\n",
    "        raise Exception(\"Only valid fot type 1\")\n",
    "    G = G.subgraph(top_n(N)) \n",
    "    return G.number_of_edges()"
   ]
  },
  {
   "cell_type": "code",
   "execution_count": 23,
   "metadata": {},
   "outputs": [],
   "source": [
    "# Function that returns the number of hero for a given comic\n",
    "def Number_of_hero_for_each_comic(G , type: int , N = -1 ):\n",
    "    if type != 2:\n",
    "        raise Exception(\"Only valid for type 2\")\n",
    "    G = G.edge_subgraph(G.edges(top_n(N)))\n",
    "    comics = list(edges_df['comic'].values)  # list of all the comics\n",
    "    return G.degree(comics)                  # Degree distibution of each comic ( how many heros appear for a given comic)"
   ]
  },
  {
   "cell_type": "code",
   "execution_count": 24,
   "metadata": {},
   "outputs": [],
   "source": [
    "# Function that returns the density of a graph\n",
    "def Density(G, type : int , N = -1):\n",
    "    if type == 1:\n",
    "        G = G.subgraph(top_n(N))\n",
    "    else: \n",
    "        G = G.edge_subgraph(G.edges(top_n(N)))\n",
    "    return nx.density(G)\n",
    "    "
   ]
  },
  {
   "cell_type": "code",
   "execution_count": 26,
   "metadata": {},
   "outputs": [],
   "source": [
    "# Function that return the degree distribution of a graph\n",
    "def degree_distribution(G , type: int , N = -1):\n",
    "    if type == 1:\n",
    "        G = G.subgraph(top_n(N))\n",
    "    else: \n",
    "        G = G.edge_subgraph(G.edges(top_n(N)))\n",
    "    dist  = sorted(( d for n , d in G.degree()), reverse=True)\n",
    "    return dist"
   ]
  },
  {
   "cell_type": "code",
   "execution_count": 27,
   "metadata": {},
   "outputs": [],
   "source": [
    "# Function that returns the average degree of a graph\n",
    "def average_degree(G, type: int , N = -1 ):\n",
    "    if type == 1:\n",
    "        G = G.subgraph(top_n(N))\n",
    "    else: \n",
    "        G = G.edge_subgraph(G.edges(top_n(N)))\n",
    "    avg = np.mean(degree_distribution(G , type , N )) # Compute the mean of the degree of each node\n",
    "    return avg"
   ]
  },
  {
   "cell_type": "code",
   "execution_count": 28,
   "metadata": {},
   "outputs": [],
   "source": [
    "# Function that returns the hubs of a graph\n",
    "def Hubs( G , type: int, N = -1):\n",
    "    if type == 1:\n",
    "        G = G.subgraph(top_n(N))\n",
    "    else: \n",
    "        G = G.edge_subgraph(G.edges(top_n(N)))\n",
    "\n",
    "    dist = degree_distribution(G , type , N )    # degree distribution\n",
    "\n",
    "    threshold = np.quantile( dist, .95)          # value grater than 95% of all the degree \n",
    "\n",
    "    hubs = {}                                    # dictionary of the hubs of the network\n",
    "    \n",
    "    for nodes , degree in G.degree():            # loop over the nodes\n",
    "        if degree >= threshold:                  # check if is greater than the threshold\n",
    "            hubs[f\"{nodes}\"] = degree            # Update the hubs dictionary\n",
    "    return hubs"
   ]
  },
  {
   "cell_type": "code",
   "execution_count": 29,
   "metadata": {},
   "outputs": [],
   "source": [
    "# Function that return if a Network is sparse or dense\n",
    "def Sparse_or_dense( G , type : int , N = -1):\n",
    "    if type == 1:\n",
    "        G = G.subgraph(top_n(N))\n",
    "    else: \n",
    "        G = G.edge_subgraph(G.edges(top_n(N)))\n",
    "    threshold = 0.5\n",
    "    Den = Density( G , type , N)\n",
    "    if Den < threshold:\n",
    "        x = ('sparse.')\n",
    "    else:\n",
    "        x = ('dense.')\n",
    "    g = f\"The graph is {x}\"\n",
    "    return g"
   ]
  },
  {
   "cell_type": "markdown",
   "metadata": {
    "collapsed": false
   },
   "source": [
    "# 3. Frontend Implementation"
   ]
  },
  {
   "attachments": {},
   "cell_type": "markdown",
   "metadata": {},
   "source": [
    "## Visualization 1 "
   ]
  },
  {
   "cell_type": "code",
   "execution_count": 63,
   "metadata": {},
   "outputs": [],
   "source": [
    "n = 300\n",
    "type_1 = 1\n",
    "type_2 = 2\n",
    "data = [type_1,n,\n",
    "        Number_of_nodes(G1, type = 1 , N = n),\n",
    "        Density(G1 , type = 1 , N = n),\n",
    "        average_degree(G1, type = 1 , N = n), \n",
    "        Sparse_or_dense(G1 , type = 1, N = n)]\n",
    "\n",
    "data_2 = [type_2, n,\n",
    "        Number_of_nodes(G2, type = 2 , N = n),\n",
    "        Density(G2 , type = 1 , N = n),\n",
    "        average_degree(G2, type = 2 , N = n), \n",
    "        Sparse_or_dense(G2 , type = 2, N = n)]\n",
    "\n",
    "col_names = [\"Graph type\",\"N\",\"Number_of_nodes\", \"Density\", \"average_degree\", \"Sparse_or_dense\" ]"
   ]
  },
  {
   "cell_type": "code",
   "execution_count": 64,
   "metadata": {},
   "outputs": [
    {
     "name": "stdout",
     "output_type": "stream",
     "text": [
      "+------------+-----+-----------------+----------------------+--------------------+----------------------+\n",
      "| Graph type |  N  | Number_of_nodes |       Density        |   average_degree   |   Sparse_or_dense    |\n",
      "+------------+-----+-----------------+----------------------+--------------------+----------------------+\n",
      "|     1      | 300 |       288       |  5.3470286488579175  | 1534.5972222222222 | The graph is dense.  |\n",
      "|     2      | 300 |   (11829, 476)  | 0.013957636566332218 | 9.153514831369362  | The graph is sparse. |\n",
      "+------------+-----+-----------------+----------------------+--------------------+----------------------+\n"
     ]
    }
   ],
   "source": [
    "# Importing PrettyTable class from prettytable library\n",
    "from prettytable import PrettyTable\n",
    "\n",
    "# Creating instance of PrettyTable class\n",
    "my_table = PrettyTable(col_names)\n",
    "\n",
    "# Creating a list that we want to tabulate\n",
    "my_table.add_row(data)\n",
    "my_table.add_row(data_2)\n",
    "\n",
    "\n",
    "# Printing the tabulated list\n",
    "print(my_table)"
   ]
  },
  {
   "cell_type": "code",
   "execution_count": 102,
   "metadata": {},
   "outputs": [
    {
     "data": {
      "text/plain": [
       "['CAPTAIN AMERICA']"
      ]
     },
     "execution_count": 102,
     "metadata": {},
     "output_type": "execute_result"
    }
   ],
   "source": [
    "list(Hubs(G1, 1 , N = 20).keys())"
   ]
  },
  {
   "cell_type": "code",
   "execution_count": 103,
   "metadata": {},
   "outputs": [
    {
     "data": {
      "text/plain": [
       "['FF 226',\n",
       " 'HR:R 1',\n",
       " 'FF 263',\n",
       " 'GAL 3',\n",
       " 'FF 129',\n",
       " 'M/TIO 8',\n",
       " 'FF 359',\n",
       " 'FF 294',\n",
       " 'WM2 14',\n",
       " 'X 55',\n",
       " 'FF 253',\n",
       " 'FF 293',\n",
       " 'M/SHSW 5',\n",
       " 'DF 2.3',\n",
       " 'FF 4',\n",
       " 'SS3 93',\n",
       " 'FF 277',\n",
       " 'FF3 39',\n",
       " 'SWII 5',\n",
       " 'M/SHSW 6',\n",
       " 'ST 101',\n",
       " 'IG 4',\n",
       " 'FF 248',\n",
       " 'FF 74',\n",
       " 'FF 103',\n",
       " 'FF 301',\n",
       " 'FF 230',\n",
       " 'FF 66',\n",
       " 'GSM-T 2',\n",
       " 'UX 167',\n",
       " 'FF 2',\n",
       " 'FF 99',\n",
       " 'FF 188',\n",
       " 'FF 102',\n",
       " 'FF 106',\n",
       " 'DAZZ 21',\n",
       " 'FF 109',\n",
       " 'HULK/DR. ROBERT BRUC',\n",
       " 'M/SHSW 3',\n",
       " 'DEF 10',\n",
       " 'A 82',\n",
       " 'FF3 41',\n",
       " 'FF 336',\n",
       " 'FF 149',\n",
       " 'ASM 1',\n",
       " 'FF 360',\n",
       " 'FF 23',\n",
       " 'FF 98',\n",
       " 'FF 92',\n",
       " 'ST 120',\n",
       " 'Q 60',\n",
       " 'FF 18',\n",
       " 'FF 195',\n",
       " 'FF 341',\n",
       " 'GZILL 24',\n",
       " 'FF 251',\n",
       " 'ST 111',\n",
       " 'M/TU 9',\n",
       " 'FF 104',\n",
       " 'CA2 12',\n",
       " 'FF 370',\n",
       " 'FF2 4',\n",
       " 'FF 183',\n",
       " 'FF 75',\n",
       " 'ASM2 4',\n",
       " 'A 330',\n",
       " 'AF 94',\n",
       " 'A 25',\n",
       " 'FF3 33',\n",
       " 'M/TIO 78',\n",
       " 'DAZZ 3',\n",
       " 'FF 96',\n",
       " 'TM:ID',\n",
       " 'FF3 12',\n",
       " 'FF3 35',\n",
       " 'FF 42',\n",
       " 'FF 141',\n",
       " 'FF 191',\n",
       " 'FF 201',\n",
       " 'INVISIBLE WOMAN/SUE',\n",
       " 'FF 79',\n",
       " 'DEF 107',\n",
       " 'FF 152',\n",
       " 'M/TIO 69',\n",
       " 'FF 217',\n",
       " 'SWII 9',\n",
       " 'XM 59',\n",
       " 'FF 178',\n",
       " 'MAXSEC 3',\n",
       " 'FF 354',\n",
       " 'M/TIO 83',\n",
       " 'SENSM 28',\n",
       " 'FF3 5',\n",
       " 'H2 284',\n",
       " 'A 300',\n",
       " 'FF 17',\n",
       " 'FF 411',\n",
       " 'FF 238',\n",
       " 'GAL 5',\n",
       " 'GAL 6',\n",
       " 'FF 243',\n",
       " 'MAXSEC 2',\n",
       " 'FF 52',\n",
       " 'T 405',\n",
       " 'TB 12',\n",
       " 'FF2 1',\n",
       " 'FF 362',\n",
       " 'DEF 11',\n",
       " 'FF 351',\n",
       " 'FF 41',\n",
       " 'FF 202',\n",
       " 'IW 1',\n",
       " 'FF 135',\n",
       " 'FF 350',\n",
       " 'FF 338',\n",
       " 'FF 61',\n",
       " 'FF 408',\n",
       " 'A 318',\n",
       " 'FF 358',\n",
       " 'FF 32',\n",
       " 'PP 36',\n",
       " 'A 266',\n",
       " 'FF 50',\n",
       " 'FF 13',\n",
       " 'TB 44',\n",
       " 'FF 409',\n",
       " 'A 60',\n",
       " 'M/FAN 2/2',\n",
       " 'FF 327',\n",
       " 'FF2 6',\n",
       " 'FF 16',\n",
       " 'FF 209',\n",
       " 'FF 366',\n",
       " 'FF 47',\n",
       " 'A 88',\n",
       " 'FF2 8',\n",
       " 'M/FAN 46',\n",
       " 'FF 24',\n",
       " 'XF 5',\n",
       " 'FF3 38',\n",
       " 'FF 264',\n",
       " 'NW 16',\n",
       " 'A 116',\n",
       " 'FFV.X 4',\n",
       " 'HR:R 3',\n",
       " 'FF 100',\n",
       " 'ASM 1/2',\n",
       " 'MICRO 14',\n",
       " 'SUB-M2 3',\n",
       " 'ST 121',\n",
       " 'FF 70',\n",
       " 'WOLVERINE/LOGAN',\n",
       " 'FF3 26',\n",
       " 'MEPHV. 2',\n",
       " 'M/TIO 96',\n",
       " 'NW 17',\n",
       " 'FF3 31',\n",
       " 'IW 3',\n",
       " 'A 100',\n",
       " 'ASM 3',\n",
       " 'A 303',\n",
       " 'FF 184',\n",
       " 'M/TIO 9',\n",
       " 'FF 210',\n",
       " 'H2 300',\n",
       " 'ST 110',\n",
       " 'FF3 32',\n",
       " 'WCA2 22',\n",
       " 'MARVELS 3',\n",
       " 'S-M 23',\n",
       " 'A 1.5',\n",
       " 'FF 115',\n",
       " 'A2 10',\n",
       " 'FF 11/2',\n",
       " 'A 18/2',\n",
       " 'FF 71',\n",
       " 'A3 11',\n",
       " \"UTSM '96\",\n",
       " 'H2 277',\n",
       " 'IM 159',\n",
       " 'FF 167',\n",
       " 'ASM 5',\n",
       " 'FF 297',\n",
       " 'FF 33',\n",
       " 'SS2 1',\n",
       " 'X:HY 9',\n",
       " 'M/SHSW 8',\n",
       " 'M/GN 18',\n",
       " 'M/SHSW 1',\n",
       " 'FF 161',\n",
       " 'FF 200',\n",
       " 'FF 64',\n",
       " 'FF 39',\n",
       " 'FF 126',\n",
       " 'FF 208',\n",
       " 'IG 2',\n",
       " 'FF 332',\n",
       " 'ROM 23',\n",
       " 'FF 30',\n",
       " \"GENX '96\",\n",
       " 'MK 35',\n",
       " 'FF 105',\n",
       " 'S&L 2',\n",
       " 'SHOWAR 20',\n",
       " 'M/TIO 75',\n",
       " 'TG 23',\n",
       " 'FF 142',\n",
       " 'FF 233',\n",
       " 'A 21',\n",
       " 'FF 118',\n",
       " 'ST 117',\n",
       " 'M/CP 68/3',\n",
       " 'M/TIO 77',\n",
       " 'MARVELS 2',\n",
       " 'FF2 3',\n",
       " 'FF3 15',\n",
       " 'FF 413',\n",
       " 'CA3 1',\n",
       " 'H2 278',\n",
       " 'O:MU',\n",
       " 'MICRO 16',\n",
       " 'FF 128',\n",
       " 'T2 5',\n",
       " 'FF 117',\n",
       " 'A 316',\n",
       " 'TB 11',\n",
       " 'FF 353',\n",
       " 'FF 302',\n",
       " 'A 221',\n",
       " 'WM2 15',\n",
       " 'FF 2/2',\n",
       " 'CA3 7',\n",
       " 'FF 124',\n",
       " 'FF 333',\n",
       " 'FF3 18',\n",
       " 'SWII 2',\n",
       " 'A 301',\n",
       " 'FF 196',\n",
       " 'FF 347',\n",
       " 'M/TIO 5',\n",
       " 'UX 14',\n",
       " 'FF 139',\n",
       " 'DLOK2 4',\n",
       " 'UX 135',\n",
       " 'FF 221',\n",
       " 'Q 20',\n",
       " 'FF 49',\n",
       " 'IM3 35',\n",
       " 'WIW 8',\n",
       " 'A 151',\n",
       " 'FF 192',\n",
       " 'PP 62',\n",
       " 'DAMCON3 4',\n",
       " 'H2 153',\n",
       " 'FF 305',\n",
       " 'FF 349',\n",
       " 'A 10',\n",
       " 'FF 334',\n",
       " 'A 13',\n",
       " 'FF 86',\n",
       " 'FF 229',\n",
       " 'FF 63',\n",
       " 'FF 193',\n",
       " 'H2 152',\n",
       " 'M/TIO 20',\n",
       " 'FF3 19',\n",
       " 'FF 223',\n",
       " 'FF 215',\n",
       " 'FF 38',\n",
       " 'FF 254',\n",
       " 'WM2 13',\n",
       " 'MEPHV. 4',\n",
       " 'FF2 9',\n",
       " 'FF 213',\n",
       " 'ST 131',\n",
       " 'HR:R 2',\n",
       " 'ST 105',\n",
       " 'FF 73',\n",
       " 'IW 5',\n",
       " 'FF 165',\n",
       " 'M/TIO 97',\n",
       " 'FF 133',\n",
       " 'FF3 10',\n",
       " 'ST 132',\n",
       " 'FF 108',\n",
       " 'FF 319',\n",
       " 'FF3 13',\n",
       " 'FF3 43',\n",
       " 'FF 220',\n",
       " 'FF 199',\n",
       " 'HUMAN TORCH/JOHNNY S',\n",
       " 'SS3 52',\n",
       " 'FF 407',\n",
       " 'DRSTR2 53',\n",
       " 'FF 159',\n",
       " 'FF 53',\n",
       " 'H2 450/2',\n",
       " 'FF 1/2',\n",
       " 'FF 147',\n",
       " 'FF3 44',\n",
       " 'FF 114',\n",
       " 'FF 56',\n",
       " 'S-H2 30',\n",
       " 'A 1',\n",
       " 'DD2 8',\n",
       " 'FF 356',\n",
       " 'GAL 2',\n",
       " 'FF 242',\n",
       " 'N 1/3',\n",
       " 'MK3 41',\n",
       " 'CAPTAIN AMERICA',\n",
       " 'FF 240',\n",
       " 'FF 78',\n",
       " 'FF 197',\n",
       " 'FF 40',\n",
       " 'FF 371',\n",
       " 'PP 34',\n",
       " 'NF3 26',\n",
       " 'A2 12',\n",
       " 'FF 67',\n",
       " 'M/TIO 74',\n",
       " 'FF 150',\n",
       " 'A 333',\n",
       " 'A2 6',\n",
       " 'M/SHSW 2',\n",
       " 'FF 21',\n",
       " 'A 5',\n",
       " 'FF 65',\n",
       " 'FF 237',\n",
       " 'M/TIO 47',\n",
       " 'FF 31',\n",
       " 'FF3 6',\n",
       " 'M/TU 100',\n",
       " 'A 327',\n",
       " 'FF 34',\n",
       " \"UX/FF '98\",\n",
       " 'FF 163',\n",
       " \"FF '01\",\n",
       " 'ST 125',\n",
       " 'FF 123',\n",
       " 'FF 335',\n",
       " 'PM&IF 125',\n",
       " 'FF 55',\n",
       " 'H2 282',\n",
       " 'SVTU 6',\n",
       " 'A 168',\n",
       " 'FF 400/2',\n",
       " 'SUB-M 35',\n",
       " 'FF 329',\n",
       " 'FF3 27',\n",
       " 'A 11',\n",
       " 'AR 1',\n",
       " 'FF 89',\n",
       " 'H2 467',\n",
       " 'FF 245',\n",
       " 'FF3 37',\n",
       " 'FF 187',\n",
       " 'FF 112',\n",
       " 'FF3 17',\n",
       " 'H2 281',\n",
       " 'FF 203',\n",
       " 'PPTSS 89',\n",
       " 'COC 3',\n",
       " 'FF 232',\n",
       " 'DAZZ 2',\n",
       " 'DF 4.8',\n",
       " 'FF 26',\n",
       " 'FF3 30',\n",
       " 'IG 3',\n",
       " \"FF '00\",\n",
       " 'H2 445',\n",
       " 'FF 91',\n",
       " 'FF 175',\n",
       " 'FF 262',\n",
       " 'FF3 42',\n",
       " 'UX 5',\n",
       " 'FF3 45',\n",
       " 'FF 122',\n",
       " 'FF 1',\n",
       " 'COC 1',\n",
       " 'A3 25',\n",
       " 'FF 339',\n",
       " 'FF 121',\n",
       " 'THOR/DR. DONALD BLAK',\n",
       " 'UX 108',\n",
       " 'AF 61',\n",
       " 'IM3 14',\n",
       " 'FF 241',\n",
       " 'FF 214',\n",
       " 'DD 2',\n",
       " 'FF 330',\n",
       " 'M/SS 1',\n",
       " 'FF 344',\n",
       " 'FF3 7',\n",
       " 'M/SHSW 11',\n",
       " 'FF 177',\n",
       " 'FF 343',\n",
       " 'FF 85',\n",
       " 'GZILL 23',\n",
       " 'FF 244',\n",
       " 'A 305',\n",
       " 'A 280',\n",
       " 'FF 130',\n",
       " 'FF 361',\n",
       " 'FF3 20',\n",
       " 'FF 256',\n",
       " 'MR. FANTASTIC/REED R',\n",
       " 'M/TIO 70',\n",
       " 'AWC 75',\n",
       " 'AF 93',\n",
       " 'A 227',\n",
       " 'O:X',\n",
       " 'MICRO 17',\n",
       " 'ST 134',\n",
       " 'CPU 1',\n",
       " 'A 216',\n",
       " 'FF 218',\n",
       " 'DF 4.7',\n",
       " 'A 127',\n",
       " 'SPIDER-MAN/PETER PARKER',\n",
       " 'SS3 54',\n",
       " 'FF 57',\n",
       " 'ST 119',\n",
       " 'HR:R 4',\n",
       " 'DF 3.5',\n",
       " 'MICRO 15',\n",
       " 'WOSM 76',\n",
       " 'A 128',\n",
       " 'T 14',\n",
       " 'FF 95',\n",
       " 'SVTU 7',\n",
       " 'FF 171',\n",
       " 'UX 336',\n",
       " 'M/SHSW 9',\n",
       " 'A 317',\n",
       " 'GAL 1',\n",
       " 'M/TE 13',\n",
       " 'FF 158',\n",
       " 'FF 348',\n",
       " 'IRON MAN/TONY STARK',\n",
       " 'H2 321',\n",
       " 'M/TU 10',\n",
       " 'DAZZ 1',\n",
       " 'FF 286',\n",
       " \"FF '99\",\n",
       " 'FF 412',\n",
       " 'MEPHV. 3',\n",
       " 'FF 84',\n",
       " 'FF 68',\n",
       " 'FF 252',\n",
       " 'FF 340',\n",
       " 'A 118',\n",
       " 'FF 205',\n",
       " 'X 71',\n",
       " 'M/TU 3',\n",
       " 'FF 250',\n",
       " 'TG 10',\n",
       " 'M/TU 2',\n",
       " 'Q 39',\n",
       " 'UX 9',\n",
       " 'FF 83',\n",
       " 'FF3 22',\n",
       " 'FF 43',\n",
       " 'FF 62',\n",
       " 'DF 1.1',\n",
       " 'FF 234',\n",
       " 'A 302',\n",
       " 'FF 3',\n",
       " 'FF 363',\n",
       " 'IW 4',\n",
       " 'AF 111',\n",
       " 'FF 94',\n",
       " 'FF 247',\n",
       " 'FF 198',\n",
       " 'FF 222',\n",
       " 'ASM 18',\n",
       " 'MM 15',\n",
       " 'M/TIO 16',\n",
       " 'FF 25',\n",
       " 'ST 106',\n",
       " 'FF 35',\n",
       " 'FF 328',\n",
       " 'FF3 4',\n",
       " 'FF 15',\n",
       " 'FF 364',\n",
       " 'FF 416',\n",
       " 'IW 2',\n",
       " 'FF3 25',\n",
       " 'FF 170',\n",
       " 'A 51',\n",
       " 'FF 9',\n",
       " 'ST 116',\n",
       " 'A 329',\n",
       " 'FF 345',\n",
       " 'FF 143',\n",
       " 'TB 10',\n",
       " 'FF3 9',\n",
       " 'FF 169',\n",
       " 'FF 414',\n",
       " 'ASM2 1',\n",
       " 'RH2 5',\n",
       " 'FF 331',\n",
       " 'GAL 4',\n",
       " 'FF 166',\n",
       " 'FF 266',\n",
       " 'FF 274',\n",
       " 'FF 352',\n",
       " 'FF 261',\n",
       " 'FF 271',\n",
       " 'MAXSEC 1',\n",
       " 'FF 255',\n",
       " 'A 2',\n",
       " 'FF 29',\n",
       " 'FF 113',\n",
       " 'A 18',\n",
       " 'FF 97',\n",
       " 'FF 304',\n",
       " 'FF 162',\n",
       " 'FF 211',\n",
       " 'FF 60',\n",
       " 'H 11',\n",
       " 'ST 107',\n",
       " 'FF 134',\n",
       " 'FF3 21',\n",
       " 'A 308',\n",
       " 'FF 216',\n",
       " 'FF 127',\n",
       " 'FFV.X 2',\n",
       " 'FF 410',\n",
       " 'AR 2',\n",
       " 'ST 126',\n",
       " 'FF 337',\n",
       " 'FF 268',\n",
       " 'FF2 12',\n",
       " 'T 305',\n",
       " 'FF 176',\n",
       " 'FF2 2',\n",
       " 'DF 3.6',\n",
       " 'FF2 11',\n",
       " 'FF3 1',\n",
       " 'FF2 7',\n",
       " 'FF 365',\n",
       " 'FF 148',\n",
       " 'DD 164',\n",
       " 'A3 39',\n",
       " 'SVTU 5',\n",
       " 'FF 225',\n",
       " 'FF 172',\n",
       " 'M/FAN 14',\n",
       " 'M/SHSW 4',\n",
       " 'FF 236',\n",
       " 'FF 373',\n",
       " 'M/GN 1',\n",
       " 'SENTRY 2',\n",
       " 'FF3 29',\n",
       " 'FF 140',\n",
       " 'ST 112',\n",
       " 'DH 9',\n",
       " 'FF3 8',\n",
       " 'IG 6',\n",
       " 'FF 415',\n",
       " 'H2 279',\n",
       " 'DLOK2 5',\n",
       " 'FF 401',\n",
       " 'FF 77',\n",
       " 'MEPHV. 1',\n",
       " 'FF 72',\n",
       " 'IFW 2',\n",
       " 'ASM 8/2',\n",
       " 'FF 22',\n",
       " 'FF 54',\n",
       " 'FF3 24',\n",
       " 'M/FEA 11',\n",
       " 'IM2 3',\n",
       " 'FF 37',\n",
       " 'A 14',\n",
       " 'A 12',\n",
       " 'M/K 6',\n",
       " \"UTSM '97\",\n",
       " 'FF 87',\n",
       " 'FF 298',\n",
       " 'FF 5',\n",
       " 'M/GN 17',\n",
       " 'WCA 1',\n",
       " 'FURY 1',\n",
       " 'WOSM 5',\n",
       " 'FF 173',\n",
       " 'FF 7',\n",
       " 'M/TIO 7',\n",
       " 'M/SHSW 7',\n",
       " 'AWC 4',\n",
       " 'IM 275',\n",
       " 'A 332',\n",
       " 'FF3 23',\n",
       " 'FF 357',\n",
       " 'FF 185',\n",
       " 'FF 369',\n",
       " 'A 94',\n",
       " 'FF 181',\n",
       " 'SHOWAR 19',\n",
       " 'FF3 34',\n",
       " 'FF 227',\n",
       " 'FF 51',\n",
       " 'M/TIO 27',\n",
       " 'A 314',\n",
       " 'FF 10',\n",
       " 'DEF2 1',\n",
       " 'MK3 44',\n",
       " 'FF 19',\n",
       " 'M/:LG 7',\n",
       " 'FF 27',\n",
       " 'IW 6',\n",
       " 'FF 231',\n",
       " 'ROA 3 & ROA 4',\n",
       " 'A3 1',\n",
       " 'H2 250',\n",
       " 'FF 110',\n",
       " 'PPTSS 263',\n",
       " 'FF2 10',\n",
       " 'FF 306',\n",
       " 'MICRO 40',\n",
       " 'FF 36',\n",
       " 'FF 174',\n",
       " 'ASM 215',\n",
       " 'A 233',\n",
       " 'FF 111',\n",
       " 'A 3',\n",
       " 'FF 116',\n",
       " 'FF 164',\n",
       " 'DAZZ 4',\n",
       " 'RH2 4',\n",
       " 'FF2 5',\n",
       " 'FF 8',\n",
       " 'H2 365',\n",
       " 'SS 17',\n",
       " 'SS3 16',\n",
       " 'SS 6',\n",
       " 'FF3 36',\n",
       " 'FF 69',\n",
       " 'FF 107',\n",
       " 'H2 283',\n",
       " 'FF3 28',\n",
       " 'IM2 6',\n",
       " 'FF 101',\n",
       " 'THING/BENJAMIN J. GR',\n",
       " 'FF 125',\n",
       " 'GSSS 1',\n",
       " 'IM2 12',\n",
       " 'FF 326',\n",
       " 'Q 38',\n",
       " 'TTA 59',\n",
       " 'M/TIO 2',\n",
       " 'M/SHSW 12',\n",
       " 'T 233',\n",
       " 'FF 296',\n",
       " 'FF 307',\n",
       " 'FFV.X 3',\n",
       " 'COH 3',\n",
       " 'FF 204',\n",
       " 'FF 20',\n",
       " 'FF 88',\n",
       " 'H2 123',\n",
       " 'FF 300',\n",
       " 'FF 48',\n",
       " 'FF 368',\n",
       " \"T '99\",\n",
       " 'FF3 14',\n",
       " 'FF 59',\n",
       " 'FF 119',\n",
       " 'FF 28',\n",
       " 'FF3 3',\n",
       " 'AA2 2',\n",
       " 'A 144',\n",
       " 'M/TIO 28',\n",
       " 'FF 267',\n",
       " 'FF 235',\n",
       " 'M/SHSW 10',\n",
       " 'SS3 14',\n",
       " 'SS3 146',\n",
       " 'FF 299',\n",
       " 'M/TIO 80',\n",
       " 'ASM 16',\n",
       " 'ST 118',\n",
       " 'FF 212',\n",
       " 'M/TIO 1',\n",
       " 'FF 395',\n",
       " 'T 271',\n",
       " 'FF 246',\n",
       " 'FF 12',\n",
       " 'FF 186',\n",
       " 'FF 168',\n",
       " 'FF 58',\n",
       " 'FF 182',\n",
       " 'FF 219',\n",
       " 'FF 6',\n",
       " 'FF 228',\n",
       " 'FF 346',\n",
       " 'Q 28',\n",
       " 'FF3 2',\n",
       " 'ST 156',\n",
       " 'M/FAN 43/2',\n",
       " 'FFV.X 1',\n",
       " 'FF 76',\n",
       " 'FF 44',\n",
       " 'H2 122',\n",
       " 'N 13',\n",
       " 'FF3 16',\n",
       " 'FF 45',\n",
       " 'M/TIO 46',\n",
       " 'FF 367',\n",
       " 'FF 120',\n",
       " 'SS 5',\n",
       " 'FF 239',\n",
       " 'ST 130',\n",
       " 'FF 11',\n",
       " 'FF 249',\n",
       " 'M/TIO 92',\n",
       " 'FF 160',\n",
       " 'FF 179',\n",
       " 'A 400',\n",
       " 'FF 224',\n",
       " 'FF 257',\n",
       " 'FF 46',\n",
       " 'M/TU 61',\n",
       " 'X:HY 20',\n",
       " 'FF 90',\n",
       " 'FF 14',\n",
       " 'T 402',\n",
       " 'A3 10',\n",
       " 'FF3 40',\n",
       " 'DAZZ 18',\n",
       " 'A 307']"
      ]
     },
     "execution_count": 103,
     "metadata": {},
     "output_type": "execute_result"
    }
   ],
   "source": [
    "list(Hubs(G2, 2 , 10).keys())"
   ]
  },
  {
   "cell_type": "code",
   "execution_count": null,
   "metadata": {},
   "outputs": [],
   "source": []
  },
  {
   "cell_type": "code",
   "execution_count": 83,
   "metadata": {},
   "outputs": [],
   "source": [
    "\n",
    "data = [type_1,n,\n",
    "        list(Hubs(G1, type = 1 , N = n).keys())]"
   ]
  },
  {
   "cell_type": "code",
   "execution_count": 108,
   "metadata": {},
   "outputs": [
    {
     "name": "stdout",
     "output_type": "stream",
     "text": [
      "+------------+-----+-------------------------------------------------------------------------------------------------------------------------------------------------------------------------------------------------------------------------------------------------------------------------------------------------------------------------------------------------+\n",
      "| Graph type |  N  |                                                                                                                                                                       HUBS                                                                                                                                                                      |\n",
      "+------------+-----+-------------------------------------------------------------------------------------------------------------------------------------------------------------------------------------------------------------------------------------------------------------------------------------------------------------------------------------------------+\n",
      "|     1      | 300 | ['WOLVERINE/LOGAN', 'WASP/JANET VAN DYNE', 'SCARLET WITCH/WANDA', 'THING/BENJAMIN J. GR', 'CAPTAIN AMERICA', 'CYCLOPS/SCOTT SUMMER', 'STORM/ORORO MUNROE S', 'MR. FANTASTIC/REED R', 'INVISIBLE WOMAN/SUE', 'IRON MAN/TONY STARK', 'HUMAN TORCH/JOHNNY S', 'THOR/DR. DONALD BLAK', 'SPIDER-MAN/PETER PARKER', 'VISION', 'BEAST/HENRY &HANK& P'] |\n",
      "+------------+-----+-------------------------------------------------------------------------------------------------------------------------------------------------------------------------------------------------------------------------------------------------------------------------------------------------------------------------------------------------+\n"
     ]
    }
   ],
   "source": [
    "col_names = [\"Graph type\",\"N\",\"HUBS\"]\n",
    "\n",
    "data = [type_1,n,\n",
    "        list(Hubs(G1, type = 1 , N = n).keys())]\n",
    "\n",
    "\n",
    "\n",
    "table_hubs = PrettyTable(col_names)\n",
    "\n",
    "# Creating a list that we want to tabulate\n",
    "table_hubs.add_row(data)\n",
    "#table_hubs.add_row(data_2)\n",
    "\n",
    "\n",
    "# Printing the tabulated list\n",
    "print(table_hubs)\n"
   ]
  }
 ],
 "metadata": {
  "kernelspec": {
   "display_name": "base",
   "language": "python",
   "name": "python3"
  },
  "language_info": {
   "codemirror_mode": {
    "name": "ipython",
    "version": 3
   },
   "file_extension": ".py",
   "mimetype": "text/x-python",
   "name": "python",
   "nbconvert_exporter": "python",
   "pygments_lexer": "ipython3",
   "version": "3.9.12"
  },
  "vscode": {
   "interpreter": {
    "hash": "f4667d31aad76a2fc6367a343b03ad539ee0fdcfaae0637945dddaa0789b3d6c"
   }
  }
 },
 "nbformat": 4,
 "nbformat_minor": 2
}
