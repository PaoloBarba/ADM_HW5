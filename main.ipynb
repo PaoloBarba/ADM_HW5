{
 "cells": [
  {
   "cell_type": "markdown",
   "source": [
    "# ADM - HW5 - The Marvel Universe!"
   ],
   "metadata": {
    "collapsed": false
   }
  },
  {
   "cell_type": "markdown",
   "source": [
    "## Libraries & Setup"
   ],
   "metadata": {
    "collapsed": false
   }
  },
  {
   "cell_type": "code",
   "execution_count": 2,
   "outputs": [],
   "source": [
    "import networkx as nx   # Network analysis\n",
    "\n",
    "import pandas as pd   # Data manipulation and analysis\n",
    "import numpy as np    # Scientific Computing\n",
    "\n",
    "import matplotlib.pyplot as plt   # Visualization\n",
    "\n",
    "import warnings\n",
    "warnings.filterwarnings('ignore')\n",
    "\n",
    "#import functions"
   ],
   "metadata": {
    "collapsed": false
   }
  },
  {
   "cell_type": "markdown",
   "source": [
    "# 1. Data"
   ],
   "metadata": {
    "collapsed": false
   }
  },
  {
   "cell_type": "markdown",
   "source": [
    "## Data Preprocessing"
   ],
   "metadata": {
    "collapsed": false
   }
  },
  {
   "cell_type": "code",
   "execution_count": 3,
   "outputs": [],
   "source": [
    "nodes_df = pd.read_csv(\"nodes.csv\")\n",
    "edges_df = pd.read_csv(\"edges.csv\")\n",
    "hero_network_df = pd.read_csv(\"hero-network.csv\")"
   ],
   "metadata": {
    "collapsed": false
   }
  },
  {
   "cell_type": "code",
   "execution_count": 4,
   "outputs": [
    {
     "data": {
      "text/plain": "                       node   type\n0                   2001 10  comic\n1                    2001 8  comic\n2                    2001 9  comic\n3      24-HOUR MAN/EMMANUEL   hero\n4      3-D MAN/CHARLES CHAN   hero\n...                     ...    ...\n19085           ZOTA, CARLO   hero\n19086                  ZOTA   hero\n19087                 ZURAS   hero\n19088                  ZURI   hero\n19089                 ZZZAX   hero\n\n[19090 rows x 2 columns]",
      "text/html": "<div>\n<style scoped>\n    .dataframe tbody tr th:only-of-type {\n        vertical-align: middle;\n    }\n\n    .dataframe tbody tr th {\n        vertical-align: top;\n    }\n\n    .dataframe thead th {\n        text-align: right;\n    }\n</style>\n<table border=\"1\" class=\"dataframe\">\n  <thead>\n    <tr style=\"text-align: right;\">\n      <th></th>\n      <th>node</th>\n      <th>type</th>\n    </tr>\n  </thead>\n  <tbody>\n    <tr>\n      <th>0</th>\n      <td>2001 10</td>\n      <td>comic</td>\n    </tr>\n    <tr>\n      <th>1</th>\n      <td>2001 8</td>\n      <td>comic</td>\n    </tr>\n    <tr>\n      <th>2</th>\n      <td>2001 9</td>\n      <td>comic</td>\n    </tr>\n    <tr>\n      <th>3</th>\n      <td>24-HOUR MAN/EMMANUEL</td>\n      <td>hero</td>\n    </tr>\n    <tr>\n      <th>4</th>\n      <td>3-D MAN/CHARLES CHAN</td>\n      <td>hero</td>\n    </tr>\n    <tr>\n      <th>...</th>\n      <td>...</td>\n      <td>...</td>\n    </tr>\n    <tr>\n      <th>19085</th>\n      <td>ZOTA, CARLO</td>\n      <td>hero</td>\n    </tr>\n    <tr>\n      <th>19086</th>\n      <td>ZOTA</td>\n      <td>hero</td>\n    </tr>\n    <tr>\n      <th>19087</th>\n      <td>ZURAS</td>\n      <td>hero</td>\n    </tr>\n    <tr>\n      <th>19088</th>\n      <td>ZURI</td>\n      <td>hero</td>\n    </tr>\n    <tr>\n      <th>19089</th>\n      <td>ZZZAX</td>\n      <td>hero</td>\n    </tr>\n  </tbody>\n</table>\n<p>19090 rows × 2 columns</p>\n</div>"
     },
     "execution_count": 4,
     "metadata": {},
     "output_type": "execute_result"
    }
   ],
   "source": [
    "nodes_df"
   ],
   "metadata": {
    "collapsed": false
   }
  },
  {
   "cell_type": "code",
   "execution_count": 5,
   "outputs": [
    {
     "data": {
      "text/plain": "                       hero     comic\n0      24-HOUR MAN/EMMANUEL    AA2 35\n1      3-D MAN/CHARLES CHAN     AVF 4\n2      3-D MAN/CHARLES CHAN     AVF 5\n3      3-D MAN/CHARLES CHAN     COC 1\n4      3-D MAN/CHARLES CHAN    H2 251\n...                     ...       ...\n96099                 ZZZAX    H2 326\n96100                 ZZZAX    H2 327\n96101                 ZZZAX  M/CP 8/4\n96102                 ZZZAX     PM 47\n96103                 ZZZAX   WCA2 12\n\n[96104 rows x 2 columns]",
      "text/html": "<div>\n<style scoped>\n    .dataframe tbody tr th:only-of-type {\n        vertical-align: middle;\n    }\n\n    .dataframe tbody tr th {\n        vertical-align: top;\n    }\n\n    .dataframe thead th {\n        text-align: right;\n    }\n</style>\n<table border=\"1\" class=\"dataframe\">\n  <thead>\n    <tr style=\"text-align: right;\">\n      <th></th>\n      <th>hero</th>\n      <th>comic</th>\n    </tr>\n  </thead>\n  <tbody>\n    <tr>\n      <th>0</th>\n      <td>24-HOUR MAN/EMMANUEL</td>\n      <td>AA2 35</td>\n    </tr>\n    <tr>\n      <th>1</th>\n      <td>3-D MAN/CHARLES CHAN</td>\n      <td>AVF 4</td>\n    </tr>\n    <tr>\n      <th>2</th>\n      <td>3-D MAN/CHARLES CHAN</td>\n      <td>AVF 5</td>\n    </tr>\n    <tr>\n      <th>3</th>\n      <td>3-D MAN/CHARLES CHAN</td>\n      <td>COC 1</td>\n    </tr>\n    <tr>\n      <th>4</th>\n      <td>3-D MAN/CHARLES CHAN</td>\n      <td>H2 251</td>\n    </tr>\n    <tr>\n      <th>...</th>\n      <td>...</td>\n      <td>...</td>\n    </tr>\n    <tr>\n      <th>96099</th>\n      <td>ZZZAX</td>\n      <td>H2 326</td>\n    </tr>\n    <tr>\n      <th>96100</th>\n      <td>ZZZAX</td>\n      <td>H2 327</td>\n    </tr>\n    <tr>\n      <th>96101</th>\n      <td>ZZZAX</td>\n      <td>M/CP 8/4</td>\n    </tr>\n    <tr>\n      <th>96102</th>\n      <td>ZZZAX</td>\n      <td>PM 47</td>\n    </tr>\n    <tr>\n      <th>96103</th>\n      <td>ZZZAX</td>\n      <td>WCA2 12</td>\n    </tr>\n  </tbody>\n</table>\n<p>96104 rows × 2 columns</p>\n</div>"
     },
     "execution_count": 5,
     "metadata": {},
     "output_type": "execute_result"
    }
   ],
   "source": [
    "edges_df"
   ],
   "metadata": {
    "collapsed": false
   }
  },
  {
   "cell_type": "code",
   "execution_count": 6,
   "outputs": [
    {
     "data": {
      "text/plain": "                       hero1                 hero2\n0              LITTLE, ABNER        PRINCESS ZANDA\n1              LITTLE, ABNER  BLACK PANTHER/T'CHAL\n2       BLACK PANTHER/T'CHAL        PRINCESS ZANDA\n3              LITTLE, ABNER        PRINCESS ZANDA\n4              LITTLE, ABNER  BLACK PANTHER/T'CHAL\n...                      ...                   ...\n574462  COLOSSUS II/PETER RA              CALLISTO\n574463              CALLISTO               ROGUE /\n574464              CALLISTO              CALIBAN/\n574465              CALIBAN/               ROGUE /\n574466  HULK/DR. ROBERT BRUC     MARKS, DR. SHIELA\n\n[574467 rows x 2 columns]",
      "text/html": "<div>\n<style scoped>\n    .dataframe tbody tr th:only-of-type {\n        vertical-align: middle;\n    }\n\n    .dataframe tbody tr th {\n        vertical-align: top;\n    }\n\n    .dataframe thead th {\n        text-align: right;\n    }\n</style>\n<table border=\"1\" class=\"dataframe\">\n  <thead>\n    <tr style=\"text-align: right;\">\n      <th></th>\n      <th>hero1</th>\n      <th>hero2</th>\n    </tr>\n  </thead>\n  <tbody>\n    <tr>\n      <th>0</th>\n      <td>LITTLE, ABNER</td>\n      <td>PRINCESS ZANDA</td>\n    </tr>\n    <tr>\n      <th>1</th>\n      <td>LITTLE, ABNER</td>\n      <td>BLACK PANTHER/T'CHAL</td>\n    </tr>\n    <tr>\n      <th>2</th>\n      <td>BLACK PANTHER/T'CHAL</td>\n      <td>PRINCESS ZANDA</td>\n    </tr>\n    <tr>\n      <th>3</th>\n      <td>LITTLE, ABNER</td>\n      <td>PRINCESS ZANDA</td>\n    </tr>\n    <tr>\n      <th>4</th>\n      <td>LITTLE, ABNER</td>\n      <td>BLACK PANTHER/T'CHAL</td>\n    </tr>\n    <tr>\n      <th>...</th>\n      <td>...</td>\n      <td>...</td>\n    </tr>\n    <tr>\n      <th>574462</th>\n      <td>COLOSSUS II/PETER RA</td>\n      <td>CALLISTO</td>\n    </tr>\n    <tr>\n      <th>574463</th>\n      <td>CALLISTO</td>\n      <td>ROGUE /</td>\n    </tr>\n    <tr>\n      <th>574464</th>\n      <td>CALLISTO</td>\n      <td>CALIBAN/</td>\n    </tr>\n    <tr>\n      <th>574465</th>\n      <td>CALIBAN/</td>\n      <td>ROGUE /</td>\n    </tr>\n    <tr>\n      <th>574466</th>\n      <td>HULK/DR. ROBERT BRUC</td>\n      <td>MARKS, DR. SHIELA</td>\n    </tr>\n  </tbody>\n</table>\n<p>574467 rows × 2 columns</p>\n</div>"
     },
     "execution_count": 6,
     "metadata": {},
     "output_type": "execute_result"
    }
   ],
   "source": [
    "hero_network_df"
   ],
   "metadata": {
    "collapsed": false
   }
  },
  {
   "cell_type": "markdown",
   "source": [
    "For the data to be *consistent* across all the dataframes, **all hero names** appearing in the *hero_network* dataframe should **also be found** in the *edges* dataframe"
   ],
   "metadata": {
    "collapsed": false
   }
  },
  {
   "cell_type": "code",
   "execution_count": 7,
   "outputs": [],
   "source": [
    "# Retrieve heroes' names appearing in \"hero_network\" dataframe, but not in \"edges\" dataframe\n",
    "def check_inconsistency():\n",
    "    names = set(hero_network_df.hero1).union(set(hero_network_df.hero2)).difference(set(edges_df.hero))\n",
    "    out = names if len(names)!=0 else \"No inconsistencies found!\"\n",
    "    return out"
   ],
   "metadata": {
    "collapsed": false
   }
  },
  {
   "cell_type": "code",
   "execution_count": 8,
   "outputs": [
    {
     "data": {
      "text/plain": "['KLIGGER/SEN. EUGENE ',\n 'WORTHINGTON, WARREN ',\n 'LIVING LASER/ARTHUR ',\n 'CHI DEMON/PROFESSOR ',\n 'SILVERCLAW/LA GARRA ',\n 'BRADDOCK, JAMES JR. ',\n 'CEREBRO MARK XIII | ',\n 'MR. SINISTER/NATHAN ',\n 'SPAR, DR. KATHERINE ',\n 'KILLER SHRIKE/SIMON ']"
     },
     "execution_count": 8,
     "metadata": {},
     "output_type": "execute_result"
    }
   ],
   "source": [
    "# Some inconsistency examples\n",
    "list(check_inconsistency())[:10]"
   ],
   "metadata": {
    "collapsed": false
   }
  },
  {
   "cell_type": "markdown",
   "source": [
    "**Inconsistency reason 1:** some heroes' names in the *hero_network* dataframe have **extra spaces** at the end of their names"
   ],
   "metadata": {
    "collapsed": false
   }
  },
  {
   "cell_type": "code",
   "execution_count": 9,
   "outputs": [],
   "source": [
    "hero_network_df.hero1 = [x.strip() for x in hero_network_df.hero1]\n",
    "hero_network_df.hero2 = [x.strip() for x in hero_network_df.hero2]"
   ],
   "metadata": {
    "collapsed": false
   }
  },
  {
   "cell_type": "code",
   "execution_count": 10,
   "outputs": [
    {
     "data": {
      "text/plain": "{'BLADE', 'SABRE', 'SPIDER-MAN/PETER PAR'}"
     },
     "execution_count": 10,
     "metadata": {},
     "output_type": "execute_result"
    }
   ],
   "source": [
    "check_inconsistency()"
   ],
   "metadata": {
    "collapsed": false
   }
  },
  {
   "cell_type": "markdown",
   "source": [
    "**Inconsistency reason 2:** some heroes in the *hero_network* dataframe **are missing a \"/\"** at the end of their names. In fact, *BLADE* and *SABRE* are labelled as **comics** in the *nodes* dataframe, while *BLADE/* and *SABRE/* represent the actual **heroes**"
   ],
   "metadata": {
    "collapsed": false
   }
  },
  {
   "cell_type": "code",
   "execution_count": 11,
   "outputs": [],
   "source": [
    "hero_network_df.loc[hero_network_df[\"hero1\"] == \"BLADE\", \"hero1\"] = \"BLADE/\"\n",
    "hero_network_df.loc[hero_network_df[\"hero2\"] == \"BLADE\", \"hero2\"] = \"BLADE/\"\n",
    "hero_network_df.loc[hero_network_df[\"hero1\"] == \"SABRE\", \"hero1\"] = \"SABRE/\"\n",
    "hero_network_df.loc[hero_network_df[\"hero2\"] == \"SABRE\", \"hero2\"] = \"SABRE/\""
   ],
   "metadata": {
    "collapsed": false
   }
  },
  {
   "cell_type": "code",
   "execution_count": 12,
   "outputs": [
    {
     "data": {
      "text/plain": "{'SPIDER-MAN/PETER PAR'}"
     },
     "execution_count": 12,
     "metadata": {},
     "output_type": "execute_result"
    }
   ],
   "source": [
    "check_inconsistency()"
   ],
   "metadata": {
    "collapsed": false
   }
  },
  {
   "cell_type": "markdown",
   "source": [
    "**Inconsistency reason 3:** the hero name *\"SPIDER-MAN/PETER PARKER\"* in the *edges* dataframe has been changed to *\"SPIDER-MAN/PETER PAR\"* the *hero_network* dataframe"
   ],
   "metadata": {
    "collapsed": false
   }
  },
  {
   "cell_type": "code",
   "execution_count": 13,
   "outputs": [],
   "source": [
    "hero_network_df.loc[hero_network_df[\"hero1\"] == \"SPIDER-MAN/PETER PAR\", \"hero1\"] = \"SPIDER-MAN/PETER PARKER\"\n",
    "hero_network_df.loc[hero_network_df[\"hero2\"] == \"SPIDER-MAN/PETER PAR\", \"hero2\"] = \"SPIDER-MAN/PETER PARKER\""
   ],
   "metadata": {
    "collapsed": false
   }
  },
  {
   "cell_type": "code",
   "execution_count": 14,
   "outputs": [
    {
     "data": {
      "text/plain": "'No inconsistencies found!'"
     },
     "execution_count": 14,
     "metadata": {},
     "output_type": "execute_result"
    }
   ],
   "source": [
    "check_inconsistency()"
   ],
   "metadata": {
    "collapsed": false
   }
  },
  {
   "cell_type": "markdown",
   "source": [
    "We also remove entries of the *hero_network* dataframe having the same hero in **both columns** (in order to avoid **self-loops** in the graph)"
   ],
   "metadata": {
    "collapsed": false
   }
  },
  {
   "cell_type": "code",
   "execution_count": 15,
   "outputs": [
    {
     "data": {
      "text/plain": "574467"
     },
     "execution_count": 15,
     "metadata": {},
     "output_type": "execute_result"
    }
   ],
   "source": [
    "# With self-loop records\n",
    "len(hero_network_df)"
   ],
   "metadata": {
    "collapsed": false
   }
  },
  {
   "cell_type": "code",
   "execution_count": 16,
   "outputs": [],
   "source": [
    "hero_network_df.drop(hero_network_df[hero_network_df['hero1'] == hero_network_df['hero2']].index, inplace = True)"
   ],
   "metadata": {
    "collapsed": false
   }
  },
  {
   "cell_type": "code",
   "execution_count": 17,
   "outputs": [
    {
     "data": {
      "text/plain": "572235"
     },
     "execution_count": 17,
     "metadata": {},
     "output_type": "execute_result"
    }
   ],
   "source": [
    "# Without self-loop records\n",
    "len(hero_network_df)"
   ],
   "metadata": {
    "collapsed": false
   }
  },
  {
   "cell_type": "markdown",
   "source": [
    "Finally, we identify and correct the **spelling mistake** in the hero name *\"SPIDER-MAN/PETER PARKER\"* present in the *nodes* dataframe (listed as *\"SPIDER-MAN/PETER PARKERKER\"*)"
   ],
   "metadata": {
    "collapsed": false
   }
  },
  {
   "cell_type": "code",
   "execution_count": 18,
   "outputs": [],
   "source": [
    "nodes_df.loc[nodes_df[\"node\"] == \"SPIDER-MAN/PETER PARKERKER\", \"node\"] = \"SPIDER-MAN/PETER PARKER\""
   ],
   "metadata": {
    "collapsed": false
   }
  },
  {
   "cell_type": "markdown",
   "source": [
    "## Graphs setup"
   ],
   "metadata": {
    "collapsed": false
   }
  },
  {
   "cell_type": "markdown",
   "source": [
    "### First graph: G1 - Heroes appearing in the same comic together"
   ],
   "metadata": {
    "collapsed": false
   }
  },
  {
   "cell_type": "markdown",
   "source": [
    "The graph **G1** should be **undirected**, **weighted** and should allow for **parallel edges**.\n",
    "\n",
    "**Nodes**: *heroes*\n",
    "\n",
    "**Edge** between node *Hero_A* and *Hero_B*: the heroes have appeared in the same comic together\n",
    "\n",
    "**Number of edges** between node *Hero_A* and *Hero_B* = $num\\_collaborations$ of the two heroes\n",
    "\n",
    "**Edge weight**: the *reciprocal* of the *number of collaborations* of the two heroes\n",
    "\n",
    "$$w((Hero\\_A, Hero\\_B)) = \\frac{1}{num\\_collaborations \\; of \\; Hero\\_A \\; and \\; Hero\\_B}$$"
   ],
   "metadata": {
    "collapsed": false
   }
  },
  {
   "cell_type": "code",
   "execution_count": 19,
   "outputs": [],
   "source": [
    "# NetworkX MultiGraph: undirected graph, can store multiedges\n",
    "G1 = nx.MultiGraph()"
   ],
   "metadata": {
    "collapsed": false
   }
  },
  {
   "cell_type": "code",
   "execution_count": 20,
   "outputs": [],
   "source": [
    "# Sort the pair of heroes in each record (since the graph is undirected, we are interested in grouping together pair of names, irrespectively of their order)\n",
    "hero_network_df[[\"hero1\", \"hero2\"]] = np.sort(hero_network_df[[\"hero1\", \"hero2\"]], axis=1)\n",
    "\n",
    "# Group by pair of names and retrieve group size\n",
    "heroes_pairs = (hero_network_df.groupby([\"hero1\", \"hero2\"]).size().reset_index().values.tolist())"
   ],
   "metadata": {
    "collapsed": false
   }
  },
  {
   "cell_type": "code",
   "execution_count": 21,
   "outputs": [
    {
     "data": {
      "text/plain": "[['24-HOUR MAN/EMMANUEL', 'FROST, CARMILLA', 1],\n ['24-HOUR MAN/EMMANUEL', \"G'RATH\", 1],\n ['24-HOUR MAN/EMMANUEL', 'KILLRAVEN/JONATHAN R', 1],\n ['24-HOUR MAN/EMMANUEL', \"M'SHULLA\", 1],\n ['24-HOUR MAN/EMMANUEL', 'OLD SKULL', 1],\n ['3-D MAN/CHARLES CHAN', 'AJAK/TECUMOTZIN [ETE', 1],\n ['3-D MAN/CHARLES CHAN', 'ANGEL/WARREN KENNETH', 1],\n ['3-D MAN/CHARLES CHAN', 'ANT-MAN II/SCOTT HAR', 1],\n ['3-D MAN/CHARLES CHAN', 'ANT-MAN/DR. HENRY J.', 2],\n ['3-D MAN/CHARLES CHAN', 'ARABIAN KNIGHT/ABDUL', 1]]"
     },
     "execution_count": 21,
     "metadata": {},
     "output_type": "execute_result"
    }
   ],
   "source": [
    "# Some pair of heroes and their number of collaborations\n",
    "heroes_pairs[:10]"
   ],
   "metadata": {
    "collapsed": false
   }
  },
  {
   "cell_type": "code",
   "execution_count": 22,
   "outputs": [],
   "source": [
    "# Build weighted edges\n",
    "heroes_collaboration = []\n",
    "\n",
    "for x in heroes_pairs:\n",
    "    for i in range(x[2]):\n",
    "        heroes_collaboration.append(tuple([x[0], x[1], round(1/x[2], 4)]))"
   ],
   "metadata": {
    "collapsed": false
   }
  },
  {
   "cell_type": "code",
   "execution_count": 23,
   "outputs": [],
   "source": [
    "# Add edges to graph\n",
    "G1.add_weighted_edges_from(heroes_collaboration)"
   ],
   "metadata": {
    "collapsed": false
   }
  },
  {
   "cell_type": "markdown",
   "source": [
    "### Second graph: G2 - Hero appearing in a specific comic"
   ],
   "metadata": {
    "collapsed": false
   }
  },
  {
   "cell_type": "markdown",
   "source": [
    "The graph **G2** should be **undirected** and **unweighted**.\n",
    "\n",
    "**Nodes**: *heroes* and *comics*\n",
    "\n",
    "**Edge** between node *Hero_A* and *Comic_A*: the hero has appeared in that specific comic"
   ],
   "metadata": {
    "collapsed": false
   }
  },
  {
   "cell_type": "code",
   "execution_count": 24,
   "outputs": [],
   "source": [
    "# NetworkX Graph: base undirected graph\n",
    "G2 = nx.Graph()"
   ],
   "metadata": {
    "collapsed": false
   }
  },
  {
   "cell_type": "code",
   "execution_count": 25,
   "outputs": [],
   "source": [
    "# Add nodes with \"type\" attribute to graph\n",
    "G2.add_nodes_from([(x[0], {\"type\": x[1]}) for x in nodes_df.to_records(index=False)])"
   ],
   "metadata": {
    "collapsed": false
   }
  },
  {
   "cell_type": "code",
   "execution_count": 26,
   "outputs": [],
   "source": [
    "# Add edges between heroes and comics to graph\n",
    "G2.add_edges_from(list(edges_df.to_records(index=False)))"
   ],
   "metadata": {
    "collapsed": false
   }
  },
  {
   "cell_type": "markdown",
   "source": [
    "# 2. Backend Implementation"
   ],
   "metadata": {
    "collapsed": false
   }
  },
  {
   "cell_type": "markdown",
   "source": [
    "# 3. Frontend Implementation"
   ],
   "metadata": {
    "collapsed": false
   }
  }
 ],
 "metadata": {
  "kernelspec": {
   "display_name": "Python 3",
   "language": "python",
   "name": "python3"
  },
  "language_info": {
   "codemirror_mode": {
    "name": "ipython",
    "version": 3
   },
   "file_extension": ".py",
   "mimetype": "text/x-python",
   "name": "python",
   "nbconvert_exporter": "python",
   "pygments_lexer": "ipython3",
   "version": "3.7.4"
  }
 },
 "nbformat": 4,
 "nbformat_minor": 2
}
