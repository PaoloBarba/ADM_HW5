{
 "cells": [
  {
   "cell_type": "markdown",
   "metadata": {
    "collapsed": false
   },
   "source": [
    "# ADM - HW5 - The Marvel Universe!"
   ]
  },
  {
   "cell_type": "markdown",
   "metadata": {
    "collapsed": false
   },
   "source": [
    "## Libraries & Setup"
   ]
  },
  {
   "cell_type": "code",
   "execution_count": 1,
   "metadata": {
    "collapsed": false
   },
   "outputs": [],
   "source": [
    "import networkx as nx   # Network analysis\n",
    "\n",
    "import pandas as pd   # Data manipulation and analysis\n",
    "import numpy as np    # Scientific Computing\n",
    "\n",
    "import matplotlib.pyplot as plt   # Visualization\n",
    "\n",
    "import warnings\n",
    "warnings.filterwarnings('ignore')\n",
    "\n",
    "#import functions"
   ]
  },
  {
   "cell_type": "markdown",
   "metadata": {
    "collapsed": false
   },
   "source": [
    "# 1. Data"
   ]
  },
  {
   "cell_type": "markdown",
   "metadata": {
    "collapsed": false
   },
   "source": [
    "## Data Preprocessing"
   ]
  },
  {
   "cell_type": "code",
   "execution_count": 2,
   "metadata": {
    "collapsed": false
   },
   "outputs": [],
   "source": [
    "nodes_df = pd.read_csv(\"nodes.csv\")\n",
    "edges_df = pd.read_csv(\"edges.csv\")\n",
    "hero_network_df = pd.read_csv(\"hero-network.csv\")"
   ]
  },
  {
   "cell_type": "code",
   "execution_count": 4,
   "metadata": {
    "collapsed": false
   },
   "outputs": [
    {
     "data": {
      "text/html": [
       "<div>\n",
       "<style scoped>\n",
       "    .dataframe tbody tr th:only-of-type {\n",
       "        vertical-align: middle;\n",
       "    }\n",
       "\n",
       "    .dataframe tbody tr th {\n",
       "        vertical-align: top;\n",
       "    }\n",
       "\n",
       "    .dataframe thead th {\n",
       "        text-align: right;\n",
       "    }\n",
       "</style>\n",
       "<table border=\"1\" class=\"dataframe\">\n",
       "  <thead>\n",
       "    <tr style=\"text-align: right;\">\n",
       "      <th></th>\n",
       "      <th>node</th>\n",
       "      <th>type</th>\n",
       "    </tr>\n",
       "  </thead>\n",
       "  <tbody>\n",
       "    <tr>\n",
       "      <th>0</th>\n",
       "      <td>2001 10</td>\n",
       "      <td>comic</td>\n",
       "    </tr>\n",
       "    <tr>\n",
       "      <th>1</th>\n",
       "      <td>2001 8</td>\n",
       "      <td>comic</td>\n",
       "    </tr>\n",
       "    <tr>\n",
       "      <th>2</th>\n",
       "      <td>2001 9</td>\n",
       "      <td>comic</td>\n",
       "    </tr>\n",
       "    <tr>\n",
       "      <th>3</th>\n",
       "      <td>24-HOUR MAN/EMMANUEL</td>\n",
       "      <td>hero</td>\n",
       "    </tr>\n",
       "    <tr>\n",
       "      <th>4</th>\n",
       "      <td>3-D MAN/CHARLES CHAN</td>\n",
       "      <td>hero</td>\n",
       "    </tr>\n",
       "    <tr>\n",
       "      <th>...</th>\n",
       "      <td>...</td>\n",
       "      <td>...</td>\n",
       "    </tr>\n",
       "    <tr>\n",
       "      <th>19085</th>\n",
       "      <td>ZOTA, CARLO</td>\n",
       "      <td>hero</td>\n",
       "    </tr>\n",
       "    <tr>\n",
       "      <th>19086</th>\n",
       "      <td>ZOTA</td>\n",
       "      <td>hero</td>\n",
       "    </tr>\n",
       "    <tr>\n",
       "      <th>19087</th>\n",
       "      <td>ZURAS</td>\n",
       "      <td>hero</td>\n",
       "    </tr>\n",
       "    <tr>\n",
       "      <th>19088</th>\n",
       "      <td>ZURI</td>\n",
       "      <td>hero</td>\n",
       "    </tr>\n",
       "    <tr>\n",
       "      <th>19089</th>\n",
       "      <td>ZZZAX</td>\n",
       "      <td>hero</td>\n",
       "    </tr>\n",
       "  </tbody>\n",
       "</table>\n",
       "<p>19090 rows × 2 columns</p>\n",
       "</div>"
      ],
      "text/plain": [
       "                       node   type\n",
       "0                   2001 10  comic\n",
       "1                    2001 8  comic\n",
       "2                    2001 9  comic\n",
       "3      24-HOUR MAN/EMMANUEL   hero\n",
       "4      3-D MAN/CHARLES CHAN   hero\n",
       "...                     ...    ...\n",
       "19085           ZOTA, CARLO   hero\n",
       "19086                  ZOTA   hero\n",
       "19087                 ZURAS   hero\n",
       "19088                  ZURI   hero\n",
       "19089                 ZZZAX   hero\n",
       "\n",
       "[19090 rows x 2 columns]"
      ]
     },
     "execution_count": 4,
     "metadata": {},
     "output_type": "execute_result"
    }
   ],
   "source": [
    "nodes_df"
   ]
  },
  {
   "cell_type": "code",
   "execution_count": 5,
   "metadata": {
    "collapsed": false
   },
   "outputs": [
    {
     "data": {
      "text/html": [
       "<div>\n",
       "<style scoped>\n",
       "    .dataframe tbody tr th:only-of-type {\n",
       "        vertical-align: middle;\n",
       "    }\n",
       "\n",
       "    .dataframe tbody tr th {\n",
       "        vertical-align: top;\n",
       "    }\n",
       "\n",
       "    .dataframe thead th {\n",
       "        text-align: right;\n",
       "    }\n",
       "</style>\n",
       "<table border=\"1\" class=\"dataframe\">\n",
       "  <thead>\n",
       "    <tr style=\"text-align: right;\">\n",
       "      <th></th>\n",
       "      <th>hero</th>\n",
       "      <th>comic</th>\n",
       "    </tr>\n",
       "  </thead>\n",
       "  <tbody>\n",
       "    <tr>\n",
       "      <th>0</th>\n",
       "      <td>24-HOUR MAN/EMMANUEL</td>\n",
       "      <td>AA2 35</td>\n",
       "    </tr>\n",
       "    <tr>\n",
       "      <th>1</th>\n",
       "      <td>3-D MAN/CHARLES CHAN</td>\n",
       "      <td>AVF 4</td>\n",
       "    </tr>\n",
       "    <tr>\n",
       "      <th>2</th>\n",
       "      <td>3-D MAN/CHARLES CHAN</td>\n",
       "      <td>AVF 5</td>\n",
       "    </tr>\n",
       "    <tr>\n",
       "      <th>3</th>\n",
       "      <td>3-D MAN/CHARLES CHAN</td>\n",
       "      <td>COC 1</td>\n",
       "    </tr>\n",
       "    <tr>\n",
       "      <th>4</th>\n",
       "      <td>3-D MAN/CHARLES CHAN</td>\n",
       "      <td>H2 251</td>\n",
       "    </tr>\n",
       "    <tr>\n",
       "      <th>...</th>\n",
       "      <td>...</td>\n",
       "      <td>...</td>\n",
       "    </tr>\n",
       "    <tr>\n",
       "      <th>96099</th>\n",
       "      <td>ZZZAX</td>\n",
       "      <td>H2 326</td>\n",
       "    </tr>\n",
       "    <tr>\n",
       "      <th>96100</th>\n",
       "      <td>ZZZAX</td>\n",
       "      <td>H2 327</td>\n",
       "    </tr>\n",
       "    <tr>\n",
       "      <th>96101</th>\n",
       "      <td>ZZZAX</td>\n",
       "      <td>M/CP 8/4</td>\n",
       "    </tr>\n",
       "    <tr>\n",
       "      <th>96102</th>\n",
       "      <td>ZZZAX</td>\n",
       "      <td>PM 47</td>\n",
       "    </tr>\n",
       "    <tr>\n",
       "      <th>96103</th>\n",
       "      <td>ZZZAX</td>\n",
       "      <td>WCA2 12</td>\n",
       "    </tr>\n",
       "  </tbody>\n",
       "</table>\n",
       "<p>96104 rows × 2 columns</p>\n",
       "</div>"
      ],
      "text/plain": [
       "                       hero     comic\n",
       "0      24-HOUR MAN/EMMANUEL    AA2 35\n",
       "1      3-D MAN/CHARLES CHAN     AVF 4\n",
       "2      3-D MAN/CHARLES CHAN     AVF 5\n",
       "3      3-D MAN/CHARLES CHAN     COC 1\n",
       "4      3-D MAN/CHARLES CHAN    H2 251\n",
       "...                     ...       ...\n",
       "96099                 ZZZAX    H2 326\n",
       "96100                 ZZZAX    H2 327\n",
       "96101                 ZZZAX  M/CP 8/4\n",
       "96102                 ZZZAX     PM 47\n",
       "96103                 ZZZAX   WCA2 12\n",
       "\n",
       "[96104 rows x 2 columns]"
      ]
     },
     "execution_count": 5,
     "metadata": {},
     "output_type": "execute_result"
    }
   ],
   "source": [
    "edges_df"
   ]
  },
  {
   "cell_type": "code",
   "execution_count": 6,
   "metadata": {
    "collapsed": false
   },
   "outputs": [
    {
     "data": {
      "text/html": [
       "<div>\n",
       "<style scoped>\n",
       "    .dataframe tbody tr th:only-of-type {\n",
       "        vertical-align: middle;\n",
       "    }\n",
       "\n",
       "    .dataframe tbody tr th {\n",
       "        vertical-align: top;\n",
       "    }\n",
       "\n",
       "    .dataframe thead th {\n",
       "        text-align: right;\n",
       "    }\n",
       "</style>\n",
       "<table border=\"1\" class=\"dataframe\">\n",
       "  <thead>\n",
       "    <tr style=\"text-align: right;\">\n",
       "      <th></th>\n",
       "      <th>hero1</th>\n",
       "      <th>hero2</th>\n",
       "    </tr>\n",
       "  </thead>\n",
       "  <tbody>\n",
       "    <tr>\n",
       "      <th>0</th>\n",
       "      <td>LITTLE, ABNER</td>\n",
       "      <td>PRINCESS ZANDA</td>\n",
       "    </tr>\n",
       "    <tr>\n",
       "      <th>1</th>\n",
       "      <td>LITTLE, ABNER</td>\n",
       "      <td>BLACK PANTHER/T'CHAL</td>\n",
       "    </tr>\n",
       "    <tr>\n",
       "      <th>2</th>\n",
       "      <td>BLACK PANTHER/T'CHAL</td>\n",
       "      <td>PRINCESS ZANDA</td>\n",
       "    </tr>\n",
       "    <tr>\n",
       "      <th>3</th>\n",
       "      <td>LITTLE, ABNER</td>\n",
       "      <td>PRINCESS ZANDA</td>\n",
       "    </tr>\n",
       "    <tr>\n",
       "      <th>4</th>\n",
       "      <td>LITTLE, ABNER</td>\n",
       "      <td>BLACK PANTHER/T'CHAL</td>\n",
       "    </tr>\n",
       "    <tr>\n",
       "      <th>...</th>\n",
       "      <td>...</td>\n",
       "      <td>...</td>\n",
       "    </tr>\n",
       "    <tr>\n",
       "      <th>574462</th>\n",
       "      <td>COLOSSUS II/PETER RA</td>\n",
       "      <td>CALLISTO</td>\n",
       "    </tr>\n",
       "    <tr>\n",
       "      <th>574463</th>\n",
       "      <td>CALLISTO</td>\n",
       "      <td>ROGUE /</td>\n",
       "    </tr>\n",
       "    <tr>\n",
       "      <th>574464</th>\n",
       "      <td>CALLISTO</td>\n",
       "      <td>CALIBAN/</td>\n",
       "    </tr>\n",
       "    <tr>\n",
       "      <th>574465</th>\n",
       "      <td>CALIBAN/</td>\n",
       "      <td>ROGUE /</td>\n",
       "    </tr>\n",
       "    <tr>\n",
       "      <th>574466</th>\n",
       "      <td>HULK/DR. ROBERT BRUC</td>\n",
       "      <td>MARKS, DR. SHIELA</td>\n",
       "    </tr>\n",
       "  </tbody>\n",
       "</table>\n",
       "<p>574467 rows × 2 columns</p>\n",
       "</div>"
      ],
      "text/plain": [
       "                       hero1                 hero2\n",
       "0              LITTLE, ABNER        PRINCESS ZANDA\n",
       "1              LITTLE, ABNER  BLACK PANTHER/T'CHAL\n",
       "2       BLACK PANTHER/T'CHAL        PRINCESS ZANDA\n",
       "3              LITTLE, ABNER        PRINCESS ZANDA\n",
       "4              LITTLE, ABNER  BLACK PANTHER/T'CHAL\n",
       "...                      ...                   ...\n",
       "574462  COLOSSUS II/PETER RA              CALLISTO\n",
       "574463              CALLISTO               ROGUE /\n",
       "574464              CALLISTO              CALIBAN/\n",
       "574465              CALIBAN/               ROGUE /\n",
       "574466  HULK/DR. ROBERT BRUC     MARKS, DR. SHIELA\n",
       "\n",
       "[574467 rows x 2 columns]"
      ]
     },
     "execution_count": 6,
     "metadata": {},
     "output_type": "execute_result"
    }
   ],
   "source": [
    "hero_network_df"
   ]
  },
  {
   "cell_type": "markdown",
   "metadata": {
    "collapsed": false
   },
   "source": [
    "For the data to be *consistent* across all the dataframes, **all hero names** appearing in the *hero_network* dataframe should **also be found** in the *edges* dataframe"
   ]
  },
  {
   "cell_type": "code",
   "execution_count": 3,
   "metadata": {
    "collapsed": false
   },
   "outputs": [],
   "source": [
    "# Retrieve heroes' names appearing in \"hero_network\" dataframe, but not in \"edges\" dataframe\n",
    "def check_inconsistency():\n",
    "    names = set(hero_network_df.hero1).union(set(hero_network_df.hero2)).difference(set(edges_df.hero))\n",
    "    out = names if len(names)!=0 else \"No inconsistencies found!\"\n",
    "    return out"
   ]
  },
  {
   "cell_type": "code",
   "execution_count": 4,
   "metadata": {
    "collapsed": false
   },
   "outputs": [
    {
     "data": {
      "text/plain": [
       "['RAPTOR II/PROFESSOR ',\n",
       " 'MISSING LINK II/RAY ',\n",
       " 'MARROW/SARAH ',\n",
       " 'DEATH STING/MIRANDA ',\n",
       " 'ZEMO/BARON HEINRICH ',\n",
       " 'ROCKET RACER/ROBERT ',\n",
       " 'MAGNETO/MAGNUS/ERIC ',\n",
       " 'DOC SAMSON | MUTANT ',\n",
       " 'LECLAIRE, PROFESSOR ',\n",
       " 'GRIMM, BEN | MUTANT ']"
      ]
     },
     "execution_count": 4,
     "metadata": {},
     "output_type": "execute_result"
    }
   ],
   "source": [
    "# Some inconsistency examples\n",
    "list(check_inconsistency())[:10]"
   ]
  },
  {
   "cell_type": "markdown",
   "metadata": {
    "collapsed": false
   },
   "source": [
    "**Inconsistency reason 1:** some heroes' names in the *hero_network* dataframe have **extra spaces** at the end of their names"
   ]
  },
  {
   "cell_type": "code",
   "execution_count": 5,
   "metadata": {
    "collapsed": false
   },
   "outputs": [],
   "source": [
    "hero_network_df.hero1 = [x.strip() for x in hero_network_df.hero1]\n",
    "hero_network_df.hero2 = [x.strip() for x in hero_network_df.hero2]"
   ]
  },
  {
   "cell_type": "code",
   "execution_count": 6,
   "metadata": {
    "collapsed": false
   },
   "outputs": [
    {
     "data": {
      "text/plain": [
       "{'BLADE', 'SABRE', 'SPIDER-MAN/PETER PAR'}"
      ]
     },
     "execution_count": 6,
     "metadata": {},
     "output_type": "execute_result"
    }
   ],
   "source": [
    "check_inconsistency()"
   ]
  },
  {
   "cell_type": "markdown",
   "metadata": {
    "collapsed": false
   },
   "source": [
    "**Inconsistency reason 2:** some heroes in the *hero_network* dataframe **are missing a \"/\"** at the end of their names. In fact, *BLADE* and *SABRE* are labelled as **comics** in the *nodes* dataframe, while *BLADE/* and *SABRE/* represent the actual **heroes**"
   ]
  },
  {
   "cell_type": "code",
   "execution_count": 7,
   "metadata": {
    "collapsed": false
   },
   "outputs": [],
   "source": [
    "hero_network_df.loc[hero_network_df[\"hero1\"] == \"BLADE\", \"hero1\"] = \"BLADE/\"\n",
    "hero_network_df.loc[hero_network_df[\"hero2\"] == \"BLADE\", \"hero2\"] = \"BLADE/\"\n",
    "hero_network_df.loc[hero_network_df[\"hero1\"] == \"SABRE\", \"hero1\"] = \"SABRE/\"\n",
    "hero_network_df.loc[hero_network_df[\"hero2\"] == \"SABRE\", \"hero2\"] = \"SABRE/\""
   ]
  },
  {
   "cell_type": "code",
   "execution_count": 8,
   "metadata": {
    "collapsed": false
   },
   "outputs": [
    {
     "data": {
      "text/plain": [
       "{'SPIDER-MAN/PETER PAR'}"
      ]
     },
     "execution_count": 8,
     "metadata": {},
     "output_type": "execute_result"
    }
   ],
   "source": [
    "check_inconsistency()"
   ]
  },
  {
   "cell_type": "markdown",
   "metadata": {
    "collapsed": false
   },
   "source": [
    "**Inconsistency reason 3:** the hero name *\"SPIDER-MAN/PETER PARKER\"* in the *edges* dataframe has been changed to *\"SPIDER-MAN/PETER PAR\"* the *hero_network* dataframe"
   ]
  },
  {
   "cell_type": "code",
   "execution_count": 9,
   "metadata": {
    "collapsed": false
   },
   "outputs": [],
   "source": [
    "hero_network_df.loc[hero_network_df[\"hero1\"] == \"SPIDER-MAN/PETER PAR\", \"hero1\"] = \"SPIDER-MAN/PETER PARKER\"\n",
    "hero_network_df.loc[hero_network_df[\"hero2\"] == \"SPIDER-MAN/PETER PAR\", \"hero2\"] = \"SPIDER-MAN/PETER PARKER\""
   ]
  },
  {
   "cell_type": "code",
   "execution_count": 10,
   "metadata": {
    "collapsed": false
   },
   "outputs": [
    {
     "data": {
      "text/plain": [
       "'No inconsistencies found!'"
      ]
     },
     "execution_count": 10,
     "metadata": {},
     "output_type": "execute_result"
    }
   ],
   "source": [
    "check_inconsistency()"
   ]
  },
  {
   "cell_type": "markdown",
   "metadata": {
    "collapsed": false
   },
   "source": [
    "We also remove entries of the *hero_network* dataframe having the same hero in **both columns** (in order to avoid **self-loops** in the graph)"
   ]
  },
  {
   "cell_type": "code",
   "execution_count": 11,
   "metadata": {
    "collapsed": false
   },
   "outputs": [
    {
     "data": {
      "text/plain": [
       "574467"
      ]
     },
     "execution_count": 11,
     "metadata": {},
     "output_type": "execute_result"
    }
   ],
   "source": [
    "# With self-loop records\n",
    "len(hero_network_df)"
   ]
  },
  {
   "cell_type": "code",
   "execution_count": 12,
   "metadata": {
    "collapsed": false
   },
   "outputs": [],
   "source": [
    "hero_network_df.drop(hero_network_df[hero_network_df['hero1'] == hero_network_df['hero2']].index, inplace = True)"
   ]
  },
  {
   "cell_type": "code",
   "execution_count": 13,
   "metadata": {
    "collapsed": false
   },
   "outputs": [
    {
     "data": {
      "text/plain": [
       "572235"
      ]
     },
     "execution_count": 13,
     "metadata": {},
     "output_type": "execute_result"
    }
   ],
   "source": [
    "# Without self-loop records\n",
    "len(hero_network_df)"
   ]
  },
  {
   "cell_type": "markdown",
   "metadata": {
    "collapsed": false
   },
   "source": [
    "Finally, we identify and correct the **spelling mistake** in the hero name *\"SPIDER-MAN/PETER PARKER\"* present in the *nodes* dataframe (listed as *\"SPIDER-MAN/PETER PARKERKER\"*)"
   ]
  },
  {
   "cell_type": "code",
   "execution_count": 14,
   "metadata": {
    "collapsed": false
   },
   "outputs": [],
   "source": [
    "nodes_df.loc[nodes_df[\"node\"] == \"SPIDER-MAN/PETER PARKERKER\", \"node\"] = \"SPIDER-MAN/PETER PARKER\""
   ]
  },
  {
   "cell_type": "markdown",
   "metadata": {
    "collapsed": false
   },
   "source": [
    "## Graphs setup"
   ]
  },
  {
   "cell_type": "markdown",
   "metadata": {
    "collapsed": false
   },
   "source": [
    "### First graph: G1 - Heroes appearing in the same comic together"
   ]
  },
  {
   "cell_type": "markdown",
   "metadata": {
    "collapsed": false
   },
   "source": [
    "The graph **G1** should be **undirected**, **weighted** and should allow for **parallel edges**.\n",
    "\n",
    "* **Nodes**: *heroes*\n",
    "\n",
    "* **Edge** between node *Hero_A* and *Hero_B*: the heroes have appeared in the same comic together\n",
    "\n",
    "* **Number of edges** between node *Hero_A* and *Hero_B* = $num\\_collaborations$ of the two heroes\n",
    "\n",
    "* **Edge weight**: the *reciprocal* of the *number of collaborations* of the two heroes\n",
    "\n",
    "$$w((Hero\\_A, Hero\\_B)) = \\frac{1}{num\\_collaborations \\; of \\; Hero\\_A \\; and \\; Hero\\_B}$$"
   ]
  },
  {
   "cell_type": "code",
   "execution_count": 15,
   "metadata": {
    "collapsed": false
   },
   "outputs": [],
   "source": [
    "# NetworkX MultiGraph: undirected graph, can store multiedges\n",
    "G1 = nx.MultiGraph()"
   ]
  },
  {
   "cell_type": "code",
   "execution_count": 16,
   "metadata": {
    "collapsed": false
   },
   "outputs": [],
   "source": [
    "# Sort the pair of heroes in each record (since the graph is undirected, we are interested in grouping together pair of names, irrespectively of their order)\n",
    "hero_network_df[[\"hero1\", \"hero2\"]] = np.sort(hero_network_df[[\"hero1\", \"hero2\"]], axis=1)\n",
    "\n",
    "# Group by pair of names and retrieve group size\n",
    "heroes_pairs = (hero_network_df.groupby([\"hero1\", \"hero2\"]).size().reset_index().values.tolist())"
   ]
  },
  {
   "cell_type": "code",
   "execution_count": 17,
   "metadata": {
    "collapsed": false
   },
   "outputs": [
    {
     "data": {
      "text/plain": [
       "[['24-HOUR MAN/EMMANUEL', 'FROST, CARMILLA', 1],\n",
       " ['24-HOUR MAN/EMMANUEL', \"G'RATH\", 1],\n",
       " ['24-HOUR MAN/EMMANUEL', 'KILLRAVEN/JONATHAN R', 1],\n",
       " ['24-HOUR MAN/EMMANUEL', \"M'SHULLA\", 1],\n",
       " ['24-HOUR MAN/EMMANUEL', 'OLD SKULL', 1],\n",
       " ['3-D MAN/CHARLES CHAN', 'AJAK/TECUMOTZIN [ETE', 1],\n",
       " ['3-D MAN/CHARLES CHAN', 'ANGEL/WARREN KENNETH', 1],\n",
       " ['3-D MAN/CHARLES CHAN', 'ANT-MAN II/SCOTT HAR', 1],\n",
       " ['3-D MAN/CHARLES CHAN', 'ANT-MAN/DR. HENRY J.', 2],\n",
       " ['3-D MAN/CHARLES CHAN', 'ARABIAN KNIGHT/ABDUL', 1]]"
      ]
     },
     "execution_count": 17,
     "metadata": {},
     "output_type": "execute_result"
    }
   ],
   "source": [
    "# Some pair of heroes and their number of collaborations\n",
    "heroes_pairs[:10]"
   ]
  },
  {
   "cell_type": "code",
   "execution_count": 18,
   "metadata": {
    "collapsed": false
   },
   "outputs": [],
   "source": [
    "# Build weighted edges\n",
    "heroes_collaboration = []\n",
    "\n",
    "for x in heroes_pairs:\n",
    "    for i in range(x[2]):\n",
    "        heroes_collaboration.append(tuple([x[0], x[1], round(1/x[2], 4)]))"
   ]
  },
  {
   "cell_type": "code",
   "execution_count": 19,
   "metadata": {
    "collapsed": false
   },
   "outputs": [],
   "source": [
    "# Add edges to graph\n",
    "G1.add_weighted_edges_from(heroes_collaboration)"
   ]
  },
  {
   "cell_type": "markdown",
   "metadata": {
    "collapsed": false
   },
   "source": [
    "### Second graph: G2 - Hero appearing in a specific comic"
   ]
  },
  {
   "cell_type": "markdown",
   "metadata": {
    "collapsed": false
   },
   "source": [
    "The graph **G2** should be **undirected** and **unweighted**.\n",
    "\n",
    "* **Nodes**: *heroes* and *comics*\n",
    "\n",
    "* **Edge** between node *Hero_A* and *Comic_A*: the hero has appeared in that specific comic"
   ]
  },
  {
   "cell_type": "code",
   "execution_count": 20,
   "metadata": {
    "collapsed": false
   },
   "outputs": [],
   "source": [
    "# NetworkX Graph: base undirected graph\n",
    "G2 = nx.Graph()"
   ]
  },
  {
   "cell_type": "code",
   "execution_count": 21,
   "metadata": {
    "collapsed": false
   },
   "outputs": [],
   "source": [
    "# Add nodes with \"type\" attribute to graph\n",
    "G2.add_nodes_from([(x[0], {\"type\": x[1]}) for x in nodes_df.to_records(index=False)])"
   ]
  },
  {
   "cell_type": "code",
   "execution_count": 22,
   "metadata": {
    "collapsed": false
   },
   "outputs": [],
   "source": [
    "# Add edges between heroes and comics to graph\n",
    "G2.add_edges_from(list(edges_df.to_records(index=False)))"
   ]
  },
  {
   "cell_type": "markdown",
   "metadata": {
    "collapsed": false
   },
   "source": [
    "# 2. Backend Implementation"
   ]
  },
  {
   "cell_type": "code",
   "execution_count": 76,
   "metadata": {},
   "outputs": [],
   "source": [
    "# Function that returns a list of top N heroes who have appeared in the most number of comics\n",
    "def top_n(N = -1):\n",
    "    # dictionary of the top N heros based on their degree in Graph 2 (number of apparision in comics)\n",
    "    top_heros = sorted(dict(G2.degree()).items(), key=lambda x:x[1] , reverse = True)[:N]\n",
    "    top_list  = []\n",
    "    for hero in top_heros:            # Loop over the top heros\n",
    "        top_list.append(hero[0])      # Append the hero name\n",
    "    return top_list\n"
   ]
  },
  {
   "cell_type": "code",
   "execution_count": 74,
   "metadata": {},
   "outputs": [],
   "source": [
    "# Function that returns number of nodes for a given graph \n",
    "def Number_of_nodes(G, type : int , N = -1 ):\n",
    "    if type == 1:\n",
    "        G = G.subgraph(top_n(N))    # Create the subgraph of the top N heros\n",
    "        return G.number_of_nodes()  # returns the number of nodes\n",
    "    else:\n",
    "        G = G.edge_subgraph(G.edges(top_n(N)))  # Create the subgraph that contains the top N heros\n",
    "        number_of_nodes_comic = G.subgraph(list(edges_df['comic'].values)).number_of_nodes()\n",
    "        number_of_nodes_hero  = G.subgraph(list(edges_df['hero'].values)).number_of_nodes()\n",
    "        return number_of_nodes_comic , number_of_nodes_hero"
   ]
  },
  {
   "cell_type": "code",
   "execution_count": 75,
   "metadata": {},
   "outputs": [],
   "source": [
    "# Function that returns the number of collaborations for Graph 1\n",
    "def Number_of_collaboration(G , type: int , N = -1 ):\n",
    "    if type != 1:\n",
    "        raise Exception(\"Only valid fot type 1\")\n",
    "    G = G.subgraph(top_n(N)) \n",
    "    return G.number_of_edges()"
   ]
  },
  {
   "cell_type": "code",
   "execution_count": 81,
   "metadata": {},
   "outputs": [],
   "source": [
    "# Function that returns the number of hero for a given comic\n",
    "def Number_of_hero_for_each_comic(G , type: int , N = -1 ):\n",
    "    if type != 2:\n",
    "        raise Exception(\"Only valid for type 2\")\n",
    "    G = G.edge_subgraph(G.edges(top_n(N)))\n",
    "    comics = list(edges_df['comic'].values)  # list of all the comics\n",
    "    return G.degree(comics)                  # Degree distibution of each comic ( how many heros appear for a given comic)"
   ]
  },
  {
   "cell_type": "code",
   "execution_count": 82,
   "metadata": {},
   "outputs": [],
   "source": [
    "# Function that returns the density of a graph\n",
    "def Density(G, type : int , N = -1):\n",
    "    if type == 1:\n",
    "        G = G.subgraph(top_n(N))\n",
    "    else: \n",
    "        G = G.edge_subgraph(G.edges(top_n(N)))\n",
    "    return nx.density(G)\n",
    "    "
   ]
  },
  {
   "cell_type": "code",
   "execution_count": 83,
   "metadata": {},
   "outputs": [],
   "source": [
    "# Function that return the degree distribution of a graph\n",
    "def degree_distribution(G , type: int , N = -1):\n",
    "    if type == 1:\n",
    "        G = G.subgraph(top_n(N))\n",
    "    else: \n",
    "        G = G.edge_subgraph(G.edges(top_n(N)))\n",
    "    dist  = sorted(( d for n , d in G.degree()), reverse=True)\n",
    "    return dist"
   ]
  },
  {
   "cell_type": "code",
   "execution_count": 85,
   "metadata": {},
   "outputs": [],
   "source": [
    "# Function that returns the average degree of a graph\n",
    "def average_degree(G, type: int , N = -1 ):\n",
    "    if type == 1:\n",
    "        G = G.subgraph(top_n(N))\n",
    "    else: \n",
    "        G = G.edge_subgraph(G.edges(top_n(N)))\n",
    "    avg = np.mean(degree_distribution(G , type , N )) # Compute the mean of the degree of each node\n",
    "    return avg"
   ]
  },
  {
   "cell_type": "code",
   "execution_count": 86,
   "metadata": {},
   "outputs": [],
   "source": [
    "# Function that returns the hubs of a graph\n",
    "def Hubs( G , type: int, N = -1):\n",
    "    if type == 1:\n",
    "        G = G.subgraph(top_n(N))\n",
    "    else: \n",
    "        G = G.edge_subgraph(G.edges(top_n(N)))\n",
    "\n",
    "    dist = degree_distribution(G , type , N )    # degree distribution\n",
    "\n",
    "    threshold = np.quantile( dist, .95)          # value grater than 95% of all the degree \n",
    "\n",
    "    hubs = {}                                    # dictionary of the hubs of the network\n",
    "    \n",
    "    for nodes , degree in G.degree():            # loop over the nodes\n",
    "        if degree >= threshold:                  # check if is greater than the threshold\n",
    "            hubs[f\"{nodes}\"] = degree            # Update the hubs dictionary\n",
    "    return hubs"
   ]
  },
  {
   "cell_type": "code",
   "execution_count": 87,
   "metadata": {},
   "outputs": [],
   "source": [
    "# Function that return if a Network is sparse or dense\n",
    "def Sparse_or_dense( G , type : int , N = -1):\n",
    "    if type == 1:\n",
    "        G = G.subgraph(top_n(N))\n",
    "    else: \n",
    "        G = G.edge_subgraph(G.edges(top_n(N)))\n",
    "    threshold = 0.5\n",
    "    Den = Density( G , type , N)\n",
    "    if Den < threshold:\n",
    "        x = ('sparse.')\n",
    "    else:\n",
    "        x = ('dense.')\n",
    "    g = f\"The graph is {x}\"\n",
    "    return g"
   ]
  },
  {
   "cell_type": "markdown",
   "metadata": {
    "collapsed": false
   },
   "source": [
    "# 3. Frontend Implementation"
   ]
  }
 ],
 "metadata": {
  "kernelspec": {
   "display_name": "base",
   "language": "python",
   "name": "python3"
  },
  "language_info": {
   "codemirror_mode": {
    "name": "ipython",
    "version": 3
   },
   "file_extension": ".py",
   "mimetype": "text/x-python",
   "name": "python",
   "nbconvert_exporter": "python",
   "pygments_lexer": "ipython3",
   "version": "3.9.12"
  },
  "vscode": {
   "interpreter": {
    "hash": "f4667d31aad76a2fc6367a343b03ad539ee0fdcfaae0637945dddaa0789b3d6c"
   }
  }
 },
 "nbformat": 4,
 "nbformat_minor": 2
}
